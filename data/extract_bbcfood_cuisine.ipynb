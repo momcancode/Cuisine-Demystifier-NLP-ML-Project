{
 "cells": [
  {
   "cell_type": "code",
   "execution_count": 1,
   "metadata": {},
   "outputs": [],
   "source": [
    "# Import dependencies\n",
    "from time import sleep\n",
    "import pandas as pd\n",
    "from splinter import Browser\n",
    "from splinter.exceptions import ElementDoesNotExist\n",
    "from selenium.common.exceptions import StaleElementReferenceException\n",
    "from selenium.common.exceptions import NoSuchElementException\n",
    "from webdriver_manager.chrome import ChromeDriverManager\n",
    "from bs4 import BeautifulSoup as bs"
   ]
  },
  {
   "cell_type": "code",
   "execution_count": null,
   "metadata": {},
   "outputs": [],
   "source": [
    "executable_path = {'executable_path': ChromeDriverManager().install()}\n",
    "browser = Browser('chrome', **executable_path, headless=False)"
   ]
  },
  {
   "cell_type": "markdown",
   "metadata": {},
   "source": [
    "## Extract: scrape recipe data from bbc.co.uk/food"
   ]
  },
  {
   "cell_type": "code",
   "execution_count": null,
   "metadata": {},
   "outputs": [],
   "source": [
    "url = \"https://www.bbc.co.uk/food/cuisines\"\n",
    "\n",
    "# Use splinter to navigate the site\n",
    "browser.visit(url)"
   ]
  },
  {
   "cell_type": "code",
   "execution_count": null,
   "metadata": {},
   "outputs": [],
   "source": [
    "# Create BeautifulSoup object; parse with 'lxml'\n",
    "html = browser.html\n",
    "soup = bs(html, 'lxml')"
   ]
  },
  {
   "cell_type": "code",
   "execution_count": null,
   "metadata": {},
   "outputs": [],
   "source": [
    "# Retrieve all text with links to each cuisine\n",
    "cuisines = [cuisine.get_text() for cuisine in soup.find_all(\"h3\", class_ = 'promo__title gel-pica')]\n",
    "cuisines"
   ]
  },
  {
   "cell_type": "code",
   "execution_count": 2,
   "metadata": {},
   "outputs": [],
   "source": [
    "from csv import writer\n",
    "def append_list_as_row(file_name, list_of_elem):\n",
    "    # Open file in append mode\n",
    "    with open(file_name, 'a+', newline='') as write_obj:\n",
    "        # Create a writer object from csv module\n",
    "        csv_writer = writer(write_obj)\n",
    "        # Add contents of list as last row in the csv file\n",
    "        csv_writer.writerow(list_of_elem)"
   ]
  },
  {
   "cell_type": "code",
   "execution_count": null,
   "metadata": {},
   "outputs": [],
   "source": []
  },
  {
   "cell_type": "code",
   "execution_count": null,
   "metadata": {},
   "outputs": [],
   "source": []
  },
  {
   "cell_type": "code",
   "execution_count": null,
   "metadata": {},
   "outputs": [],
   "source": []
  },
  {
   "cell_type": "code",
   "execution_count": null,
   "metadata": {},
   "outputs": [],
   "source": [
    "cuisine_ingredients = list()\n",
    "\n",
    "for cuisine in cuisines:\n",
    "    \n",
    "    # Click the links to all recipes of each cuisine.\n",
    "    browser.links.find_by_partial_text(cuisine).click()\n",
    "    sleep(1)\n",
    "    browser.links.find_by_partial_text(f\"all {cuisine} recipes\").click()\n",
    "    sleep(1)\n",
    "    html = browser.html\n",
    "    soup = bs(html, 'lxml')\n",
    "    \n",
    "    # Retrieve all recipe names in the current page\n",
    "    recipes = [recipe.get_text() for recipe in soup.find_all(\"h3\", class_ = \"promo__title\")]\n",
    "\n",
    "    for recipe in recipes:\n",
    "        browser.links.find_by_partial_text(recipe).click()\n",
    "        sleep(1)\n",
    "        html = browser.html\n",
    "        soup = bs(html, 'lxml')\n",
    "\n",
    "        # Retrieve list of ingredients\n",
    "        ingredients = [ingredient.get_text() for ingredient in soup.find_all(\n",
    "            \"a\", class_ = \"recipe-ingredients__link\")]\n",
    "        full_ingredients = [ingredient.get_text() for ingredient in soup.find_all(\n",
    "            \"li\", class_ = \"recipe-ingredients__list-item\")]\n",
    "        # Retrieve recipe image if available\n",
    "        try:\n",
    "            recipe_image = soup.select_one(\"div.recipe-media__image img\")[\"src\"]\n",
    "        except Exception as e:\n",
    "            print(----------)\n",
    "            print(e)\n",
    "            print(recipe)\n",
    "            recipe_image = None\n",
    "            \n",
    "        # Append the list of scraped data to a csv file\n",
    "        append_list_as_row(\"cuisine_ingredients.csv\", [cuisine, recipe, ingredients, full_ingredients, recipe_image])\n",
    "            \n",
    "        browser.back()\n",
    "        sleep(1)\n",
    "        \n",
    "    html = browser.html\n",
    "    soup = bs(html, 'lxml')\n",
    "    \n",
    "    # Click the next recipe page in navigation bar down to the bottom of the page (if available)\n",
    "    try:\n",
    "        max_page = int(soup.find_all(\"li\", class_=\"pagination__list-item\")[-2].get_text())\n",
    "\n",
    "        for i in range(2, max_page+1, 1):\n",
    "            if i == 2 or i == max_page:\n",
    "                browser.find_by_xpath(\n",
    "                    f'//*[@id=\"main-content\"]/div[1]/div[3]/div/div[6]/div[4]/ul/li[{max_page+1}]/a').click()\n",
    "            else:\n",
    "                browser.find_by_xpath(\n",
    "                    f'//*[@id=\"main-content\"]/div[1]/div[3]/div/div[6]/div[4]/ul/li[{max_page+2}]/a').click()\n",
    "\n",
    "            sleep(1)\n",
    "            html = browser.html\n",
    "            soup = bs(html, 'lxml')\n",
    "\n",
    "            # Retrieve all recipes in the current page\n",
    "            recipes = [recipe.get_text() for recipe in soup.find_all(\"h3\", class_ = \"promo__title\")]\n",
    "\n",
    "            for recipe in recipes:\n",
    "                browser.links.find_by_partial_text(recipe).click()\n",
    "                sleep(1)\n",
    "                html = browser.html\n",
    "                soup = bs(html, 'lxml')\n",
    "\n",
    "                # Retrieve list of ingredients\n",
    "                ingredients = [ingredient.get_text() for ingredient in soup.find_all(\n",
    "                    \"a\", class_ = \"recipe-ingredients__link\")]\n",
    "                full_ingredients = [ingredient.get_text() for ingredient in soup.find_all(\n",
    "                    \"li\", class_ = \"recipe-ingredients__list-item\")]\n",
    "                \n",
    "                # Retrieve recipe image if available\n",
    "                try:\n",
    "                    recipe_image = soup.select_one(\"div.recipe-media__image img\")[\"src\"]\n",
    "                except Exception as e:\n",
    "                    print(----------)\n",
    "                    print(e)\n",
    "                    print(recipe)\n",
    "                    recipe_image = None\n",
    "            \n",
    "                # Append the list of scraped data to a csv file\n",
    "                append_list_as_row(\"cuisine_ingredients.csv\", [cuisine, recipe, ingredients, full_ingredients, recipe_image])\n",
    "                \n",
    "                browser.back()\n",
    "                sleep(1)\n",
    "\n",
    "        # Back to the starting url\n",
    "        browser.visit(url)\n",
    "        sleep(1)\n",
    "\n",
    "    except IndexError:\n",
    "        # Back to the starting url\n",
    "        browser.visit(url)\n",
    "        sleep(1)"
   ]
  },
  {
   "cell_type": "code",
   "execution_count": null,
   "metadata": {},
   "outputs": [],
   "source": []
  },
  {
   "cell_type": "code",
   "execution_count": null,
   "metadata": {},
   "outputs": [],
   "source": [
    "# Quit the browser after scraping\n",
    "browser.quit()"
   ]
  },
  {
   "cell_type": "markdown",
   "metadata": {},
   "source": [
    "## Consolidate data scraped from zoo.org.au and environment.vic.gov.au"
   ]
  },
  {
   "cell_type": "code",
   "execution_count": null,
   "metadata": {},
   "outputs": [],
   "source": [
    "# Overview of data scraped from environment.vic.gov.au\n",
    "animal_info_image_environment_df = pd.DataFrame(animal_info_image_environment)\n",
    "animal_info_image_environment_df.head()"
   ]
  },
  {
   "cell_type": "code",
   "execution_count": null,
   "metadata": {},
   "outputs": [],
   "source": [
    "# Export to csv for merging against the vba fauna data\n",
    "final_animal_image_df.to_csv(\"../data/animal_image_to_merge.csv\", index=False)"
   ]
  },
  {
   "cell_type": "code",
   "execution_count": null,
   "metadata": {},
   "outputs": [],
   "source": []
  }
 ],
 "metadata": {
  "kernelspec": {
   "display_name": "Python [conda env:PythonAdv] *",
   "language": "python",
   "name": "conda-env-PythonAdv-py"
  },
  "language_info": {
   "codemirror_mode": {
    "name": "ipython",
    "version": 3
   },
   "file_extension": ".py",
   "mimetype": "text/x-python",
   "name": "python",
   "nbconvert_exporter": "python",
   "pygments_lexer": "ipython3",
   "version": "3.6.12"
  },
  "toc": {
   "base_numbering": 1,
   "nav_menu": {},
   "number_sections": true,
   "sideBar": true,
   "skip_h1_title": false,
   "title_cell": "Table of Contents",
   "title_sidebar": "Contents",
   "toc_cell": false,
   "toc_position": {},
   "toc_section_display": true,
   "toc_window_display": false
  },
  "varInspector": {
   "cols": {
    "lenName": 16,
    "lenType": 16,
    "lenVar": 40
   },
   "kernels_config": {
    "python": {
     "delete_cmd_postfix": "",
     "delete_cmd_prefix": "del ",
     "library": "var_list.py",
     "varRefreshCmd": "print(var_dic_list())"
    },
    "r": {
     "delete_cmd_postfix": ") ",
     "delete_cmd_prefix": "rm(",
     "library": "var_list.r",
     "varRefreshCmd": "cat(var_dic_list()) "
    }
   },
   "types_to_exclude": [
    "module",
    "function",
    "builtin_function_or_method",
    "instance",
    "_Feature"
   ],
   "window_display": false
  }
 },
 "nbformat": 4,
 "nbformat_minor": 4
}
