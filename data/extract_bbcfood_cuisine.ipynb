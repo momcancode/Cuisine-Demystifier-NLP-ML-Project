{
 "cells": [
  {
   "cell_type": "code",
   "execution_count": 1,
   "metadata": {},
   "outputs": [],
   "source": [
    "# Import dependencies\n",
    "from time import sleep\n",
    "import pandas as pd\n",
    "from splinter import Browser\n",
    "from webdriver_manager.chrome import ChromeDriverManager\n",
    "from bs4 import BeautifulSoup as bs"
   ]
  },
  {
   "cell_type": "code",
   "execution_count": 2,
   "metadata": {},
   "outputs": [
    {
     "name": "stderr",
     "output_type": "stream",
     "text": [
      "[WDM] - Current google-chrome version is 85.0.4183\n",
      "[WDM] - Get LATEST driver version for 85.0.4183\n"
     ]
    },
    {
     "name": "stdout",
     "output_type": "stream",
     "text": [
      " \n"
     ]
    },
    {
     "name": "stderr",
     "output_type": "stream",
     "text": [
      "[WDM] - Driver [C:\\Users\\Boss\\.wdm\\drivers\\chromedriver\\win32\\85.0.4183.87\\chromedriver.exe] found in cache\n"
     ]
    }
   ],
   "source": [
    "executable_path = {'executable_path': ChromeDriverManager().install()}\n",
    "browser = Browser('chrome', **executable_path, headless=False)"
   ]
  },
  {
   "cell_type": "markdown",
   "metadata": {},
   "source": [
    "## Extract: scrape recipe data from bbc.co.uk/food"
   ]
  },
  {
   "cell_type": "code",
   "execution_count": 3,
   "metadata": {},
   "outputs": [],
   "source": [
    "url = \"https://www.bbc.co.uk/food/cuisines\"\n",
    "\n",
    "# Use splinter to navigate the site\n",
    "browser.visit(url)"
   ]
  },
  {
   "cell_type": "code",
   "execution_count": 4,
   "metadata": {},
   "outputs": [],
   "source": [
    "# Create BeautifulSoup object; parse with 'lxml'\n",
    "html = browser.html\n",
    "soup = bs(html, 'lxml')"
   ]
  },
  {
   "cell_type": "code",
   "execution_count": 5,
   "metadata": {},
   "outputs": [
    {
     "data": {
      "text/plain": [
       "['African',\n",
       " 'American',\n",
       " 'British',\n",
       " 'Caribbean',\n",
       " 'Chinese',\n",
       " 'East European',\n",
       " 'French',\n",
       " 'Greek',\n",
       " 'Indian',\n",
       " 'Irish',\n",
       " 'Italian',\n",
       " 'Japanese',\n",
       " 'Korean',\n",
       " 'Mexican',\n",
       " 'Nordic',\n",
       " 'North African',\n",
       " 'Pakistani',\n",
       " 'Portuguese',\n",
       " 'South American',\n",
       " 'Spanish',\n",
       " 'Thai and South-East Asian',\n",
       " 'Turkish and Middle Eastern']"
      ]
     },
     "execution_count": 5,
     "metadata": {},
     "output_type": "execute_result"
    }
   ],
   "source": [
    "# Retrieve all text with links to each cuisine\n",
    "cuisines = [cuisine.get_text() for cuisine in soup.find_all(\"h3\", class_ = 'promo__title gel-pica')]\n",
    "cuisines"
   ]
  },
  {
   "cell_type": "code",
   "execution_count": 6,
   "metadata": {},
   "outputs": [],
   "source": [
    "# Define a function to add scraped data to csv files\n",
    "from csv import writer\n",
    "\n",
    "def append_list_as_row(file_name, list_of_elem):\n",
    "    # Open file in append mode\n",
    "    with open(file_name, 'a+', newline='', encoding='utf-16') as write_obj:\n",
    "        # Create a writer object from csv module\n",
    "        csv_writer = writer(write_obj)\n",
    "        # Add contents of list as last row in the csv file\n",
    "        csv_writer.writerow(list_of_elem)"
   ]
  },
  {
   "cell_type": "code",
   "execution_count": 7,
   "metadata": {},
   "outputs": [],
   "source": [
    "for cuisine in cuisines:\n",
    "    \n",
    "    # Click the links to all recipes of each cuisine.\n",
    "    browser.links.find_by_partial_text(cuisine).click()\n",
    "    sleep(1)\n",
    "    browser.links.find_by_partial_text(f\"all {cuisine} recipes\").click()\n",
    "    sleep(1)\n",
    "    html = browser.html\n",
    "    soup = bs(html, 'lxml')\n",
    "    \n",
    "    # Retrieve all recipe href links to each recipe in the current page\n",
    "    recipe_hrefs = [recipe['href'] for recipe in soup.find_all(\"a\", class_ = \"promo\")]\n",
    "    \n",
    "    for recipe_href in recipe_hrefs:\n",
    "        browser.links.find_by_href(recipe_href).click()\n",
    "        current_url = browser.url\n",
    "        sleep(2)\n",
    "        html = browser.html\n",
    "        soup = bs(html, 'lxml')\n",
    "\n",
    "        # Retrieve recipe name\n",
    "        recipe = soup.find(\"h1\").get_text()\n",
    "        \n",
    "        # Retrieve list of ingredients\n",
    "        ingredients = [ingredient.get_text() for ingredient in soup.find_all(\n",
    "            \"a\", class_ = \"recipe-ingredients__link\")]\n",
    "        full_ingredients = [ingredient.get_text() for ingredient in soup.find_all(\n",
    "            \"li\", class_ = \"recipe-ingredients__list-item\")]\n",
    "        \n",
    "        # Retrieve recipe image if available\n",
    "        try:\n",
    "            recipe_image = soup.select_one(\"div.recipe-media__image img\")[\"src\"]\n",
    "        except Exception as e:\n",
    "            append_list_as_row(\"errors.csv\", [e, current_url])\n",
    "            recipe_image = None\n",
    "            \n",
    "        # Append the list of scraped data to a csv file\n",
    "        append_list_as_row(\"cuisine_ingredients.csv\", [cuisine, recipe, ingredients, full_ingredients, recipe_image])\n",
    "            \n",
    "        browser.back()\n",
    "        sleep(2)\n",
    "        \n",
    "    html = browser.html\n",
    "    soup = bs(html, 'lxml')\n",
    "    \n",
    "    # Click the next recipe page in navigation bar at the bottom of the page (if available)\n",
    "    try:\n",
    "        max_page = int(soup.find_all(\"li\", class_=\"pagination__list-item\")[-2].get_text())\n",
    "\n",
    "        for i in range(2, max_page+1, 1):\n",
    "            browser.links.find_by_partial_href(f\"page={i}\").click()\n",
    "\n",
    "            sleep(2)\n",
    "            html = browser.html\n",
    "            soup = bs(html, 'lxml')\n",
    "\n",
    "            # Retrieve all recipe href links to each recipe in the current page\n",
    "            recipe_hrefs = [recipe['href'] for recipe in soup.find_all(\"a\", class_ = \"promo\")]\n",
    "\n",
    "            for recipe_href in recipe_hrefs:\n",
    "                browser.links.find_by_href(recipe_href).click()\n",
    "                current_url = browser.url\n",
    "                sleep(2)\n",
    "                html = browser.html\n",
    "                soup = bs(html, 'lxml')\n",
    "\n",
    "                # Retrieve recipe name\n",
    "                recipe = soup.find(\"h1\").get_text()\n",
    "\n",
    "                # Retrieve list of ingredients\n",
    "                ingredients = [ingredient.get_text() for ingredient in soup.find_all(\n",
    "                    \"a\", class_ = \"recipe-ingredients__link\")]\n",
    "                full_ingredients = [ingredient.get_text() for ingredient in soup.find_all(\n",
    "                    \"li\", class_ = \"recipe-ingredients__list-item\")]\n",
    "\n",
    "                # Retrieve recipe image if available\n",
    "                try:\n",
    "                    recipe_image = soup.select_one(\"div.recipe-media__image img\")[\"src\"]\n",
    "                except Exception as e:\n",
    "                    append_list_as_row(\"errors.csv\", [e, current_url])\n",
    "                    recipe_image = None\n",
    "            \n",
    "                # Append the list of scraped data to a csv file\n",
    "                append_list_as_row(\"cuisine_ingredients.csv\", [cuisine, recipe, ingredients, full_ingredients, recipe_image])\n",
    "                \n",
    "                browser.back()\n",
    "                sleep(2)\n",
    "\n",
    "        # Back to the starting url\n",
    "        browser.visit(url)\n",
    "        sleep(2)\n",
    "\n",
    "    except IndexError:\n",
    "        # Back to the starting url\n",
    "        browser.visit(url)\n",
    "        sleep(2)"
   ]
  },
  {
   "cell_type": "code",
   "execution_count": null,
   "metadata": {},
   "outputs": [],
   "source": []
  }
 ],
 "metadata": {
  "kernelspec": {
   "display_name": "Python [conda env:PythonAdv] *",
   "language": "python",
   "name": "conda-env-PythonAdv-py"
  },
  "language_info": {
   "codemirror_mode": {
    "name": "ipython",
    "version": 3
   },
   "file_extension": ".py",
   "mimetype": "text/x-python",
   "name": "python",
   "nbconvert_exporter": "python",
   "pygments_lexer": "ipython3",
   "version": "3.6.12"
  },
  "toc": {
   "base_numbering": 1,
   "nav_menu": {},
   "number_sections": true,
   "sideBar": true,
   "skip_h1_title": false,
   "title_cell": "Table of Contents",
   "title_sidebar": "Contents",
   "toc_cell": false,
   "toc_position": {},
   "toc_section_display": true,
   "toc_window_display": false
  },
  "varInspector": {
   "cols": {
    "lenName": 16,
    "lenType": 16,
    "lenVar": 40
   },
   "kernels_config": {
    "python": {
     "delete_cmd_postfix": "",
     "delete_cmd_prefix": "del ",
     "library": "var_list.py",
     "varRefreshCmd": "print(var_dic_list())"
    },
    "r": {
     "delete_cmd_postfix": ") ",
     "delete_cmd_prefix": "rm(",
     "library": "var_list.r",
     "varRefreshCmd": "cat(var_dic_list()) "
    }
   },
   "types_to_exclude": [
    "module",
    "function",
    "builtin_function_or_method",
    "instance",
    "_Feature"
   ],
   "window_display": false
  }
 },
 "nbformat": 4,
 "nbformat_minor": 4
}
