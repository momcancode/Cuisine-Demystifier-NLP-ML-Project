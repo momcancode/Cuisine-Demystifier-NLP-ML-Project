{
 "cells": [
  {
   "cell_type": "code",
   "execution_count": 1,
   "metadata": {},
   "outputs": [],
   "source": [
    "import pandas as pd\n",
    "import numpy as np"
   ]
  },
  {
   "cell_type": "code",
   "execution_count": 2,
   "metadata": {},
   "outputs": [
    {
     "data": {
      "text/html": [
       "<div>\n",
       "<style scoped>\n",
       "    .dataframe tbody tr th:only-of-type {\n",
       "        vertical-align: middle;\n",
       "    }\n",
       "\n",
       "    .dataframe tbody tr th {\n",
       "        vertical-align: top;\n",
       "    }\n",
       "\n",
       "    .dataframe thead th {\n",
       "        text-align: right;\n",
       "    }\n",
       "</style>\n",
       "<table border=\"1\" class=\"dataframe\">\n",
       "  <thead>\n",
       "    <tr style=\"text-align: right;\">\n",
       "      <th></th>\n",
       "      <th>cuisine</th>\n",
       "      <th>recipe</th>\n",
       "      <th>ingredients</th>\n",
       "      <th>full_ingredients</th>\n",
       "      <th>image_url</th>\n",
       "    </tr>\n",
       "  </thead>\n",
       "  <tbody>\n",
       "    <tr>\n",
       "      <th>0</th>\n",
       "      <td>African</td>\n",
       "      <td>Moroccan-style roasted veg</td>\n",
       "      <td>['peppers', 'sweet potatoes', 'red onions', 'c...</td>\n",
       "      <td>['2 large red or orange peppers, de-seeded and...</td>\n",
       "      <td>https://ichef.bbci.co.uk/food/ic/food_16x9_832...</td>\n",
       "    </tr>\n",
       "    <tr>\n",
       "      <th>1</th>\n",
       "      <td>African</td>\n",
       "      <td>Beef, black-eyed bean and plantain hotpot</td>\n",
       "      <td>['sirloin', 'vegetable oil', 'onion', 'garlic'...</td>\n",
       "      <td>['350g/12oz dried black-eyed beans', '900g/2lb...</td>\n",
       "      <td>https://ichef.bbci.co.uk/food/ic/food_16x9_832...</td>\n",
       "    </tr>\n",
       "    <tr>\n",
       "      <th>2</th>\n",
       "      <td>African</td>\n",
       "      <td>Bobotie</td>\n",
       "      <td>['olive oil', 'onion', 'garlic', 'lamb mince',...</td>\n",
       "      <td>['50ml/2fl oz olive oil', '1 onion, chopped', ...</td>\n",
       "      <td>NaN</td>\n",
       "    </tr>\n",
       "    <tr>\n",
       "      <th>3</th>\n",
       "      <td>African</td>\n",
       "      <td>South African bobotie</td>\n",
       "      <td>['butter', 'milk', 'breadcrumbs', 'eggs', 'oli...</td>\n",
       "      <td>['butter, for greasing', '400ml/14fl oz full-f...</td>\n",
       "      <td>NaN</td>\n",
       "    </tr>\n",
       "    <tr>\n",
       "      <th>4</th>\n",
       "      <td>African</td>\n",
       "      <td>Bunny chow</td>\n",
       "      <td>['olive oil', 'onion', 'garlic', 'chilli', 'gi...</td>\n",
       "      <td>['1 tbsp olive oil', '1 onion, thinly sliced',...</td>\n",
       "      <td>NaN</td>\n",
       "    </tr>\n",
       "  </tbody>\n",
       "</table>\n",
       "</div>"
      ],
      "text/plain": [
       "   cuisine                                      recipe  \\\n",
       "0  African                  Moroccan-style roasted veg   \n",
       "1  African  Beef, black-eyed bean and plantain hotpot    \n",
       "2  African                                     Bobotie   \n",
       "3  African                       South African bobotie   \n",
       "4  African                                  Bunny chow   \n",
       "\n",
       "                                         ingredients  \\\n",
       "0  ['peppers', 'sweet potatoes', 'red onions', 'c...   \n",
       "1  ['sirloin', 'vegetable oil', 'onion', 'garlic'...   \n",
       "2  ['olive oil', 'onion', 'garlic', 'lamb mince',...   \n",
       "3  ['butter', 'milk', 'breadcrumbs', 'eggs', 'oli...   \n",
       "4  ['olive oil', 'onion', 'garlic', 'chilli', 'gi...   \n",
       "\n",
       "                                    full_ingredients  \\\n",
       "0  ['2 large red or orange peppers, de-seeded and...   \n",
       "1  ['350g/12oz dried black-eyed beans', '900g/2lb...   \n",
       "2  ['50ml/2fl oz olive oil', '1 onion, chopped', ...   \n",
       "3  ['butter, for greasing', '400ml/14fl oz full-f...   \n",
       "4  ['1 tbsp olive oil', '1 onion, thinly sliced',...   \n",
       "\n",
       "                                           image_url  \n",
       "0  https://ichef.bbci.co.uk/food/ic/food_16x9_832...  \n",
       "1  https://ichef.bbci.co.uk/food/ic/food_16x9_832...  \n",
       "2                                                NaN  \n",
       "3                                                NaN  \n",
       "4                                                NaN  "
      ]
     },
     "execution_count": 2,
     "metadata": {},
     "output_type": "execute_result"
    }
   ],
   "source": [
    "# Read in cuisine_ingredients csv file\n",
    "column_names = [\"cuisine\", \"recipe\", \"ingredients\", \"full_ingredients\", \"image_url\"]\n",
    "df = pd.read_csv(\"cuisine_ingredients.csv\", names=column_names, encoding='utf-16')\n",
    "df.head()"
   ]
  },
  {
   "cell_type": "code",
   "execution_count": 3,
   "metadata": {},
   "outputs": [],
   "source": [
    "df.drop_duplicates(inplace=True)"
   ]
  },
  {
   "cell_type": "code",
   "execution_count": 4,
   "metadata": {},
   "outputs": [
    {
     "name": "stdout",
     "output_type": "stream",
     "text": [
      "<class 'pandas.core.frame.DataFrame'>\n",
      "Int64Index: 4724 entries, 0 to 4723\n",
      "Data columns (total 5 columns):\n",
      " #   Column            Non-Null Count  Dtype \n",
      "---  ------            --------------  ----- \n",
      " 0   cuisine           4724 non-null   object\n",
      " 1   recipe            4724 non-null   object\n",
      " 2   ingredients       4724 non-null   object\n",
      " 3   full_ingredients  4724 non-null   object\n",
      " 4   image_url         2515 non-null   object\n",
      "dtypes: object(5)\n",
      "memory usage: 221.4+ KB\n"
     ]
    }
   ],
   "source": [
    "df.info()"
   ]
  },
  {
   "cell_type": "code",
   "execution_count": null,
   "metadata": {},
   "outputs": [],
   "source": []
  },
  {
   "cell_type": "code",
   "execution_count": null,
   "metadata": {},
   "outputs": [],
   "source": []
  },
  {
   "cell_type": "code",
   "execution_count": null,
   "metadata": {},
   "outputs": [],
   "source": []
  },
  {
   "cell_type": "code",
   "execution_count": null,
   "metadata": {},
   "outputs": [],
   "source": []
  },
  {
   "cell_type": "code",
   "execution_count": null,
   "metadata": {},
   "outputs": [],
   "source": []
  },
  {
   "cell_type": "code",
   "execution_count": null,
   "metadata": {},
   "outputs": [],
   "source": []
  },
  {
   "cell_type": "code",
   "execution_count": null,
   "metadata": {},
   "outputs": [],
   "source": []
  },
  {
   "cell_type": "code",
   "execution_count": null,
   "metadata": {},
   "outputs": [],
   "source": []
  },
  {
   "cell_type": "code",
   "execution_count": null,
   "metadata": {},
   "outputs": [],
   "source": []
  },
  {
   "cell_type": "code",
   "execution_count": null,
   "metadata": {},
   "outputs": [],
   "source": []
  },
  {
   "cell_type": "code",
   "execution_count": null,
   "metadata": {},
   "outputs": [],
   "source": []
  },
  {
   "cell_type": "code",
   "execution_count": null,
   "metadata": {},
   "outputs": [],
   "source": []
  },
  {
   "cell_type": "code",
   "execution_count": null,
   "metadata": {},
   "outputs": [],
   "source": []
  },
  {
   "cell_type": "code",
   "execution_count": null,
   "metadata": {},
   "outputs": [],
   "source": [
    "# Transform cuisine and ingredients into a seperate table\n",
    "df[[\"cuisine\", \"recipe\", \"ingredients\"]].to_csv(\"cuisine_ingredients_short.csv\", index=False)"
   ]
  },
  {
   "cell_type": "code",
   "execution_count": null,
   "metadata": {},
   "outputs": [],
   "source": []
  }
 ],
 "metadata": {
  "kernelspec": {
   "display_name": "Python [conda env:PythonAdv] *",
   "language": "python",
   "name": "conda-env-PythonAdv-py"
  },
  "language_info": {
   "codemirror_mode": {
    "name": "ipython",
    "version": 3
   },
   "file_extension": ".py",
   "mimetype": "text/x-python",
   "name": "python",
   "nbconvert_exporter": "python",
   "pygments_lexer": "ipython3",
   "version": "3.6.12"
  }
 },
 "nbformat": 4,
 "nbformat_minor": 4
}
