{
 "cells": [
  {
   "cell_type": "code",
   "execution_count": 1,
   "metadata": {},
   "outputs": [],
   "source": [
    "import pandas as pd\n",
    "import numpy as np\n",
    "import matplotlib.pyplot as plt\n",
    "import seaborn as sns"
   ]
  },
  {
   "cell_type": "code",
   "execution_count": 2,
   "metadata": {},
   "outputs": [
    {
     "data": {
      "text/html": [
       "<div>\n",
       "<style scoped>\n",
       "    .dataframe tbody tr th:only-of-type {\n",
       "        vertical-align: middle;\n",
       "    }\n",
       "\n",
       "    .dataframe tbody tr th {\n",
       "        vertical-align: top;\n",
       "    }\n",
       "\n",
       "    .dataframe thead th {\n",
       "        text-align: right;\n",
       "    }\n",
       "</style>\n",
       "<table border=\"1\" class=\"dataframe\">\n",
       "  <thead>\n",
       "    <tr style=\"text-align: right;\">\n",
       "      <th></th>\n",
       "      <th>cuisine</th>\n",
       "      <th>recipe</th>\n",
       "      <th>ingredients</th>\n",
       "      <th>full_ingredients</th>\n",
       "      <th>image_url</th>\n",
       "    </tr>\n",
       "  </thead>\n",
       "  <tbody>\n",
       "    <tr>\n",
       "      <th>3403</th>\n",
       "      <td>Italian</td>\n",
       "      <td>Leek risotto with parmesan crisps</td>\n",
       "      <td>['leeks', 'butter', 'tarragon', 'arborio rice'...</td>\n",
       "      <td>['2 medium leeks, sliced', 'thick slice of but...</td>\n",
       "      <td>https://ichef.bbci.co.uk/food/ic/food_16x9_832...</td>\n",
       "    </tr>\n",
       "    <tr>\n",
       "      <th>589</th>\n",
       "      <td>British</td>\n",
       "      <td>Chicken pie</td>\n",
       "      <td>['butter', 'flour', 'chicken stock', 'double c...</td>\n",
       "      <td>['2 tbsp butter, plus extra for frying', '1 he...</td>\n",
       "      <td>https://ichef.bbci.co.uk/food/ic/food_16x9_832...</td>\n",
       "    </tr>\n",
       "    <tr>\n",
       "      <th>1404</th>\n",
       "      <td>British</td>\n",
       "      <td>Easy sage and onion stuffing</td>\n",
       "      <td>['onions', 'sage', 'breadcrumbs', 'butter', 'p...</td>\n",
       "      <td>['4 large onions', '10 sage leaves', '125g/¼lb...</td>\n",
       "      <td>https://ichef.bbci.co.uk/food/ic/food_16x9_832...</td>\n",
       "    </tr>\n",
       "    <tr>\n",
       "      <th>1195</th>\n",
       "      <td>British</td>\n",
       "      <td>Pear crumble</td>\n",
       "      <td>['plain flour', 'butter', 'cinnamon', 'demerar...</td>\n",
       "      <td>['75g/3oz plain flour', '75g/3oz butter, cold,...</td>\n",
       "      <td>https://ichef.bbci.co.uk/food/ic/food_16x9_832...</td>\n",
       "    </tr>\n",
       "    <tr>\n",
       "      <th>3248</th>\n",
       "      <td>Italian</td>\n",
       "      <td>Chicken Marsala</td>\n",
       "      <td>['chicken breasts', 'plain flour', 'butter', '...</td>\n",
       "      <td>['4 chicken breasts, skin removed', '40g/1½oz ...</td>\n",
       "      <td>https://ichef.bbci.co.uk/food/ic/food_16x9_832...</td>\n",
       "    </tr>\n",
       "    <tr>\n",
       "      <th>1840</th>\n",
       "      <td>Caribbean</td>\n",
       "      <td>Jerk chicken with pomegranate rice</td>\n",
       "      <td>['chicken breasts', 'chicken breasts', 'onion'...</td>\n",
       "      <td>['4 part-boned chicken breasts, skin on (subst...</td>\n",
       "      <td>NaN</td>\n",
       "    </tr>\n",
       "    <tr>\n",
       "      <th>3060</th>\n",
       "      <td>Indian</td>\n",
       "      <td>Tandoori chicken skewers</td>\n",
       "      <td>['chicken thigh', 'yoghurt', 'curry powder', '...</td>\n",
       "      <td>['450g/1lb chicken thigh fillets, trimmed of f...</td>\n",
       "      <td>https://ichef.bbci.co.uk/food/ic/food_16x9_832...</td>\n",
       "    </tr>\n",
       "    <tr>\n",
       "      <th>372</th>\n",
       "      <td>British</td>\n",
       "      <td>Paul Hollywood's Arctic roll</td>\n",
       "      <td>['sunflower oil', 'ice cream', 'raspberry jam'...</td>\n",
       "      <td>['a little sunflower oil, for greasing', '500m...</td>\n",
       "      <td>https://ichef.bbci.co.uk/food/ic/food_16x9_832...</td>\n",
       "    </tr>\n",
       "    <tr>\n",
       "      <th>2635</th>\n",
       "      <td>French</td>\n",
       "      <td>Vegan French toast with berries</td>\n",
       "      <td>['maple syrup', 'vanilla extract', 'white brea...</td>\n",
       "      <td>['400g/14oz can organic chickpeas', '1 tsp map...</td>\n",
       "      <td>https://ichef.bbci.co.uk/food/ic/food_16x9_832...</td>\n",
       "    </tr>\n",
       "    <tr>\n",
       "      <th>1123</th>\n",
       "      <td>British</td>\n",
       "      <td>The Hairy Bikers' fish pie with cheese mash</td>\n",
       "      <td>['milk', 'onion', 'white fish', 'butter', 'pla...</td>\n",
       "      <td>['400ml/14fl oz whole milk', '1 small onion, t...</td>\n",
       "      <td>https://ichef.bbci.co.uk/food/ic/food_16x9_832...</td>\n",
       "    </tr>\n",
       "    <tr>\n",
       "      <th>1721</th>\n",
       "      <td>British</td>\n",
       "      <td>Vegetarian Lancashire hotpot</td>\n",
       "      <td>['olive oil', 'onions', 'carrots', 'swede', 'p...</td>\n",
       "      <td>['1 tbsp olive oil ', '2 onions, finely choppe...</td>\n",
       "      <td>NaN</td>\n",
       "    </tr>\n",
       "    <tr>\n",
       "      <th>3649</th>\n",
       "      <td>Italian</td>\n",
       "      <td>Sardine beccafico</td>\n",
       "      <td>['sardines', 'breadcrumbs', 'olives', 'capers'...</td>\n",
       "      <td>['6 medium-sized sardines, filleted', '12-16 f...</td>\n",
       "      <td>https://ichef.bbci.co.uk/food/ic/food_16x9_832...</td>\n",
       "    </tr>\n",
       "    <tr>\n",
       "      <th>1909</th>\n",
       "      <td>Chinese</td>\n",
       "      <td>Chilli-fried tofu with egg-fried rice</td>\n",
       "      <td>['vegetable oil', 'tofu', 'cornflour', 'Sichua...</td>\n",
       "      <td>['2 tbsp vegetable oil, plus extra for shallow...</td>\n",
       "      <td>https://ichef.bbci.co.uk/food/ic/food_16x9_832...</td>\n",
       "    </tr>\n",
       "    <tr>\n",
       "      <th>1814</th>\n",
       "      <td>Caribbean</td>\n",
       "      <td>Chicken with rice, peas and dumplings</td>\n",
       "      <td>['kidney beans', 'coconut milk', 'spring onion...</td>\n",
       "      <td>['400g/14oz can red kidney beans', '400ml/14fl...</td>\n",
       "      <td>NaN</td>\n",
       "    </tr>\n",
       "    <tr>\n",
       "      <th>3776</th>\n",
       "      <td>Italian</td>\n",
       "      <td>Tiramisu</td>\n",
       "      <td>['eggs', 'caster sugar', 'mascarpone', 'double...</td>\n",
       "      <td>['6 large free-range eggs, separated', '200g/7...</td>\n",
       "      <td>https://ichef.bbci.co.uk/food/ic/food_16x9_832...</td>\n",
       "    </tr>\n",
       "    <tr>\n",
       "      <th>913</th>\n",
       "      <td>British</td>\n",
       "      <td>Tarragon and thyme salad dressing</td>\n",
       "      <td>['olive oil', 'tarragon', 'thyme', 'bay leaf',...</td>\n",
       "      <td>['200ml/7fl oz water', '200ml/7fl oz olive oil...</td>\n",
       "      <td>NaN</td>\n",
       "    </tr>\n",
       "    <tr>\n",
       "      <th>4244</th>\n",
       "      <td>South American</td>\n",
       "      <td>Chicken and chorizo empanadas</td>\n",
       "      <td>['chicken thighs', 'olive oil', 'onion', 'garl...</td>\n",
       "      <td>['4 chicken thighs, on the bone and skin on', ...</td>\n",
       "      <td>https://ichef.bbci.co.uk/food/ic/food_16x9_832...</td>\n",
       "    </tr>\n",
       "    <tr>\n",
       "      <th>1697</th>\n",
       "      <td>British</td>\n",
       "      <td>Turkey pasta bake</td>\n",
       "      <td>['fusilli', 'sunflower oil', 'bacon', 'onion',...</td>\n",
       "      <td>['300g/10½oz dried pasta shapes, such as penne...</td>\n",
       "      <td>https://ichef.bbci.co.uk/food/ic/food_16x9_832...</td>\n",
       "    </tr>\n",
       "    <tr>\n",
       "      <th>1177</th>\n",
       "      <td>British</td>\n",
       "      <td>Easy parkin</td>\n",
       "      <td>['butter', 'brown sugar', 'golden syrup', 'pla...</td>\n",
       "      <td>['85g/3oz unsalted butter', '85g/3oz soft dark...</td>\n",
       "      <td>NaN</td>\n",
       "    </tr>\n",
       "    <tr>\n",
       "      <th>2874</th>\n",
       "      <td>Indian</td>\n",
       "      <td>Lamb with green chillies</td>\n",
       "      <td>['turmeric', 'fennel seeds', 'garam masala', '...</td>\n",
       "      <td>['1 tsp ground turmeric', '1 tsp ground fennel...</td>\n",
       "      <td>NaN</td>\n",
       "    </tr>\n",
       "  </tbody>\n",
       "</table>\n",
       "</div>"
      ],
      "text/plain": [
       "             cuisine                                       recipe  \\\n",
       "3403         Italian            Leek risotto with parmesan crisps   \n",
       "589          British                                  Chicken pie   \n",
       "1404         British                 Easy sage and onion stuffing   \n",
       "1195         British                                 Pear crumble   \n",
       "3248         Italian                              Chicken Marsala   \n",
       "1840       Caribbean           Jerk chicken with pomegranate rice   \n",
       "3060          Indian                     Tandoori chicken skewers   \n",
       "372          British                 Paul Hollywood's Arctic roll   \n",
       "2635          French             Vegan French toast with berries    \n",
       "1123         British  The Hairy Bikers' fish pie with cheese mash   \n",
       "1721         British                 Vegetarian Lancashire hotpot   \n",
       "3649         Italian                            Sardine beccafico   \n",
       "1909         Chinese        Chilli-fried tofu with egg-fried rice   \n",
       "1814       Caribbean        Chicken with rice, peas and dumplings   \n",
       "3776         Italian                                     Tiramisu   \n",
       "913          British            Tarragon and thyme salad dressing   \n",
       "4244  South American                Chicken and chorizo empanadas   \n",
       "1697         British                            Turkey pasta bake   \n",
       "1177         British                                  Easy parkin   \n",
       "2874          Indian                     Lamb with green chillies   \n",
       "\n",
       "                                            ingredients  \\\n",
       "3403  ['leeks', 'butter', 'tarragon', 'arborio rice'...   \n",
       "589   ['butter', 'flour', 'chicken stock', 'double c...   \n",
       "1404  ['onions', 'sage', 'breadcrumbs', 'butter', 'p...   \n",
       "1195  ['plain flour', 'butter', 'cinnamon', 'demerar...   \n",
       "3248  ['chicken breasts', 'plain flour', 'butter', '...   \n",
       "1840  ['chicken breasts', 'chicken breasts', 'onion'...   \n",
       "3060  ['chicken thigh', 'yoghurt', 'curry powder', '...   \n",
       "372   ['sunflower oil', 'ice cream', 'raspberry jam'...   \n",
       "2635  ['maple syrup', 'vanilla extract', 'white brea...   \n",
       "1123  ['milk', 'onion', 'white fish', 'butter', 'pla...   \n",
       "1721  ['olive oil', 'onions', 'carrots', 'swede', 'p...   \n",
       "3649  ['sardines', 'breadcrumbs', 'olives', 'capers'...   \n",
       "1909  ['vegetable oil', 'tofu', 'cornflour', 'Sichua...   \n",
       "1814  ['kidney beans', 'coconut milk', 'spring onion...   \n",
       "3776  ['eggs', 'caster sugar', 'mascarpone', 'double...   \n",
       "913   ['olive oil', 'tarragon', 'thyme', 'bay leaf',...   \n",
       "4244  ['chicken thighs', 'olive oil', 'onion', 'garl...   \n",
       "1697  ['fusilli', 'sunflower oil', 'bacon', 'onion',...   \n",
       "1177  ['butter', 'brown sugar', 'golden syrup', 'pla...   \n",
       "2874  ['turmeric', 'fennel seeds', 'garam masala', '...   \n",
       "\n",
       "                                       full_ingredients  \\\n",
       "3403  ['2 medium leeks, sliced', 'thick slice of but...   \n",
       "589   ['2 tbsp butter, plus extra for frying', '1 he...   \n",
       "1404  ['4 large onions', '10 sage leaves', '125g/¼lb...   \n",
       "1195  ['75g/3oz plain flour', '75g/3oz butter, cold,...   \n",
       "3248  ['4 chicken breasts, skin removed', '40g/1½oz ...   \n",
       "1840  ['4 part-boned chicken breasts, skin on (subst...   \n",
       "3060  ['450g/1lb chicken thigh fillets, trimmed of f...   \n",
       "372   ['a little sunflower oil, for greasing', '500m...   \n",
       "2635  ['400g/14oz can organic chickpeas', '1 tsp map...   \n",
       "1123  ['400ml/14fl oz whole milk', '1 small onion, t...   \n",
       "1721  ['1 tbsp olive oil ', '2 onions, finely choppe...   \n",
       "3649  ['6 medium-sized sardines, filleted', '12-16 f...   \n",
       "1909  ['2 tbsp vegetable oil, plus extra for shallow...   \n",
       "1814  ['400g/14oz can red kidney beans', '400ml/14fl...   \n",
       "3776  ['6 large free-range eggs, separated', '200g/7...   \n",
       "913   ['200ml/7fl oz water', '200ml/7fl oz olive oil...   \n",
       "4244  ['4 chicken thighs, on the bone and skin on', ...   \n",
       "1697  ['300g/10½oz dried pasta shapes, such as penne...   \n",
       "1177  ['85g/3oz unsalted butter', '85g/3oz soft dark...   \n",
       "2874  ['1 tsp ground turmeric', '1 tsp ground fennel...   \n",
       "\n",
       "                                              image_url  \n",
       "3403  https://ichef.bbci.co.uk/food/ic/food_16x9_832...  \n",
       "589   https://ichef.bbci.co.uk/food/ic/food_16x9_832...  \n",
       "1404  https://ichef.bbci.co.uk/food/ic/food_16x9_832...  \n",
       "1195  https://ichef.bbci.co.uk/food/ic/food_16x9_832...  \n",
       "3248  https://ichef.bbci.co.uk/food/ic/food_16x9_832...  \n",
       "1840                                                NaN  \n",
       "3060  https://ichef.bbci.co.uk/food/ic/food_16x9_832...  \n",
       "372   https://ichef.bbci.co.uk/food/ic/food_16x9_832...  \n",
       "2635  https://ichef.bbci.co.uk/food/ic/food_16x9_832...  \n",
       "1123  https://ichef.bbci.co.uk/food/ic/food_16x9_832...  \n",
       "1721                                                NaN  \n",
       "3649  https://ichef.bbci.co.uk/food/ic/food_16x9_832...  \n",
       "1909  https://ichef.bbci.co.uk/food/ic/food_16x9_832...  \n",
       "1814                                                NaN  \n",
       "3776  https://ichef.bbci.co.uk/food/ic/food_16x9_832...  \n",
       "913                                                 NaN  \n",
       "4244  https://ichef.bbci.co.uk/food/ic/food_16x9_832...  \n",
       "1697  https://ichef.bbci.co.uk/food/ic/food_16x9_832...  \n",
       "1177                                                NaN  \n",
       "2874                                                NaN  "
      ]
     },
     "execution_count": 2,
     "metadata": {},
     "output_type": "execute_result"
    }
   ],
   "source": [
    "# Read in the cuisine_ingredients csv file\n",
    "column_names = [\"cuisine\", \"recipe\", \"ingredients\", \"full_ingredients\", \"image_url\"]\n",
    "df = pd.read_csv(\"cuisine_ingredients.csv\", names=column_names, encoding='utf-16')\n",
    "\n",
    "# Overview of the dataset\n",
    "df.sample(20, random_state=1)"
   ]
  },
  {
   "cell_type": "code",
   "execution_count": 3,
   "metadata": {},
   "outputs": [
    {
     "name": "stdout",
     "output_type": "stream",
     "text": [
      "<class 'pandas.core.frame.DataFrame'>\n",
      "RangeIndex: 4724 entries, 0 to 4723\n",
      "Data columns (total 5 columns):\n",
      " #   Column            Non-Null Count  Dtype \n",
      "---  ------            --------------  ----- \n",
      " 0   cuisine           4724 non-null   object\n",
      " 1   recipe            4724 non-null   object\n",
      " 2   ingredients       4724 non-null   object\n",
      " 3   full_ingredients  4724 non-null   object\n",
      " 4   image_url         2515 non-null   object\n",
      "dtypes: object(5)\n",
      "memory usage: 184.7+ KB\n"
     ]
    }
   ],
   "source": [
    "df.info()"
   ]
  },
  {
   "cell_type": "markdown",
   "metadata": {},
   "source": [
    "There are 4724 rows in the dataset. At a glance, there are no null values in cuisine, recipe, ingredients, and full_ingredients columns, while there are quite a few null values in the image_url column."
   ]
  },
  {
   "cell_type": "code",
   "execution_count": 4,
   "metadata": {},
   "outputs": [
    {
     "data": {
      "text/plain": [
       "(4724, 5)"
      ]
     },
     "execution_count": 4,
     "metadata": {},
     "output_type": "execute_result"
    }
   ],
   "source": [
    "# Drop duplicated rows if any\n",
    "df.drop_duplicates(inplace=True)\n",
    "df.shape"
   ]
  },
  {
   "cell_type": "markdown",
   "metadata": {},
   "source": [
    "When web-scraping the data, I've decided to scrape both streamlined ingredients (with green-highlighted hyperlinks to the ingredient's sites) and the full ingredient list (with the quantity of each ingredient and sometimes with some simple preparation steps) as illustrated in the below image. The full ingredient list will cover more comprehensive information but require more cleaning. To check which feature (ingredients vs. full_ingredients) should be used for the Natural Language Processing pipeline, we'll do some EDA on these variables like checking minimum and maximum numbers of characters in column ingredients to identify any outlier."
   ]
  },
  {
   "attachments": {
    "screenshot-ingredients.png": {
     "image/png": "[encoded data removed]"
    }
   },
   "cell_type": "markdown",
   "metadata": {},
   "source": [
    "![screenshot-ingredients.png](attachment:screenshot-ingredients.png)\n",
    "<div style=\"text-align: right\"> (Image source: https://www.bbc.co.uk/food/recipes/californian_sourdough_59703) </div>"
   ]
  },
  {
   "cell_type": "code",
   "execution_count": 5,
   "metadata": {},
   "outputs": [
    {
     "name": "stdout",
     "output_type": "stream",
     "text": [
      "Maximum number of ingredients in the 'ingredients' column in a recipe: 56\n",
      "Minimum number of ingredients in the 'ingredients' column in a recipe: 1\n"
     ]
    }
   ],
   "source": [
    "# Check the max and min number of ingredients in the \"ingredients\" column\n",
    "ingredient_check = df.ingredients.str.split(\",\").apply(len)\n",
    "print(f\"Maximum number of ingredients in the 'ingredients' column in a recipe: {ingredient_check.max()}\")\n",
    "print(f\"Minimum number of ingredients in the 'ingredients' column in a recipe: {ingredient_check.min()}\")"
   ]
  },
  {
   "cell_type": "code",
   "execution_count": 6,
   "metadata": {},
   "outputs": [
    {
     "name": "stdout",
     "output_type": "stream",
     "text": [
      "Maximum number of ingredients in the 'full_ingredients' column in a recipe: 77\n",
      "Minimum number of ingredients in the 'full_ingredients' column in a recipe: 1\n"
     ]
    }
   ],
   "source": [
    "# Check the max and min number of ingredients in the \"full_ingredients\" column\n",
    "full_ingredients_check = df.full_ingredients.str.split(\",\").apply(len)\n",
    "print(f\"Maximum number of ingredients in the 'full_ingredients' column in a recipe: {full_ingredients_check.max()}\")\n",
    "print(f\"Minimum number of ingredients in the 'full_ingredients' column in a recipe: {full_ingredients_check.min()}\")"
   ]
  },
  {
   "cell_type": "markdown",
   "metadata": {},
   "source": [
    "It seems rare that a recipe only has one ingredient. Let's visualise the number of ingredients distribution in both the \"ingredients\" and \"full_ingredients\" columns."
   ]
  },
  {
   "cell_type": "code",
   "execution_count": 11,
   "metadata": {},
   "outputs": [
    {
     "data": {
      "image/png": "[encoded data removed]",
      "text/plain": [
       "<Figure size 1008x504 with 1 Axes>"
      ]
     },
     "metadata": {
      "needs_background": "light"
     },
     "output_type": "display_data"
    }
   ],
   "source": [
    "plt.figure(figsize=(14,7))\n",
    "sns.distplot(ingredient_check, kde=False, bins=60)\n",
    "plt.title('Distribution of number of ingredients in the \"ingredients\" column')\n",
    "plt.xlabel('Number of ingredients')\n",
    "plt.ylabel('Number of recipes')\n",
    "plt.show()"
   ]
  },
  {
   "cell_type": "code",
   "execution_count": 13,
   "metadata": {},
   "outputs": [
    {
     "data": {
      "image/png": "[encoded data removed]",
      "text/plain": [
       "<Figure size 1008x504 with 1 Axes>"
      ]
     },
     "metadata": {
      "needs_background": "light"
     },
     "output_type": "display_data"
    }
   ],
   "source": [
    "plt.figure(figsize=(14,7))\n",
    "sns.distplot(full_ingredients_check, kde=False, bins=60)\n",
    "plt.title('Distribution of number of ingredients in the \"full_ingredients\" column')\n",
    "plt.xlabel('Number of ingredients')\n",
    "plt.ylabel('Number of recipes')\n",
    "plt.show()"
   ]
  },
  {
   "cell_type": "code",
   "execution_count": null,
   "metadata": {},
   "outputs": [],
   "source": []
  },
  {
   "cell_type": "code",
   "execution_count": null,
   "metadata": {},
   "outputs": [],
   "source": []
  },
  {
   "cell_type": "code",
   "execution_count": null,
   "metadata": {},
   "outputs": [],
   "source": []
  },
  {
   "cell_type": "code",
   "execution_count": null,
   "metadata": {},
   "outputs": [],
   "source": []
  },
  {
   "cell_type": "code",
   "execution_count": null,
   "metadata": {},
   "outputs": [],
   "source": []
  },
  {
   "cell_type": "code",
   "execution_count": null,
   "metadata": {},
   "outputs": [],
   "source": []
  },
  {
   "cell_type": "code",
   "execution_count": null,
   "metadata": {},
   "outputs": [],
   "source": []
  },
  {
   "cell_type": "code",
   "execution_count": null,
   "metadata": {},
   "outputs": [],
   "source": []
  },
  {
   "cell_type": "code",
   "execution_count": null,
   "metadata": {},
   "outputs": [],
   "source": [
    "# Transform cuisine and ingredients into a seperate table\n",
    "df[[\"cuisine\", \"recipe\", \"ingredients\"]].to_csv(\"cuisine_ingredients_short.csv\", index=False)"
   ]
  },
  {
   "cell_type": "code",
   "execution_count": null,
   "metadata": {},
   "outputs": [],
   "source": []
  }
 ],
 "metadata": {
  "kernelspec": {
   "display_name": "Python [conda env:PythonAdv] *",
   "language": "python",
   "name": "conda-env-PythonAdv-py"
  },
  "language_info": {
   "codemirror_mode": {
    "name": "ipython",
    "version": 3
   },
   "file_extension": ".py",
   "mimetype": "text/x-python",
   "name": "python",
   "nbconvert_exporter": "python",
   "pygments_lexer": "ipython3",
   "version": "3.6.12"
  }
 },
 "nbformat": 4,
 "nbformat_minor": 4
}
