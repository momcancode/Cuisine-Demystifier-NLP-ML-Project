{
 "cells": [
  {
   "cell_type": "code",
   "execution_count": 1,
   "metadata": {},
   "outputs": [],
   "source": [
    "# Import dependencies\n",
    "from time import sleep\n",
    "import pandas as pd\n",
    "from splinter import Browser\n",
    "from splinter.exceptions import ElementDoesNotExist\n",
    "from webdriver_manager.chrome import ChromeDriverManager\n",
    "from bs4 import BeautifulSoup as bs"
   ]
  },
  {
   "cell_type": "code",
   "execution_count": 2,
   "metadata": {},
   "outputs": [
    {
     "name": "stderr",
     "output_type": "stream",
     "text": [
      "[WDM] - Current google-chrome version is 85.0.4183\n",
      "[WDM] - Get LATEST driver version for 85.0.4183\n",
      "[WDM] - Driver [C:\\Users\\Boss\\.wdm\\drivers\\chromedriver\\win32\\85.0.4183.87\\chromedriver.exe] found in cache\n"
     ]
    },
    {
     "name": "stdout",
     "output_type": "stream",
     "text": [
      " \n"
     ]
    }
   ],
   "source": [
    "executable_path = {'executable_path': ChromeDriverManager().install()}\n",
    "browser = Browser('chrome', **executable_path, headless=False)"
   ]
  },
  {
   "cell_type": "markdown",
   "metadata": {},
   "source": [
    "## Extract: scrape recipe data from bbc.co.uk/food"
   ]
  },
  {
   "cell_type": "code",
   "execution_count": 3,
   "metadata": {},
   "outputs": [],
   "source": [
    "url = \"https://www.bbc.co.uk/food/cuisines\"\n",
    "\n",
    "# Use splinter to navigate the site\n",
    "browser.visit(url)"
   ]
  },
  {
   "cell_type": "code",
   "execution_count": 4,
   "metadata": {},
   "outputs": [],
   "source": [
    "# Create BeautifulSoup object; parse with 'lxml'\n",
    "html = browser.html\n",
    "soup = bs(html, 'lxml')"
   ]
  },
  {
   "cell_type": "code",
   "execution_count": 5,
   "metadata": {},
   "outputs": [
    {
     "data": {
      "text/plain": [
       "['African',\n",
       " 'American',\n",
       " 'British',\n",
       " 'Caribbean',\n",
       " 'Chinese',\n",
       " 'East European',\n",
       " 'French',\n",
       " 'Greek',\n",
       " 'Indian',\n",
       " 'Irish',\n",
       " 'Italian',\n",
       " 'Japanese',\n",
       " 'Korean',\n",
       " 'Mexican',\n",
       " 'Nordic',\n",
       " 'North African',\n",
       " 'Pakistani',\n",
       " 'Portuguese',\n",
       " 'South American',\n",
       " 'Spanish',\n",
       " 'Thai and South-East Asian',\n",
       " 'Turkish and Middle Eastern']"
      ]
     },
     "execution_count": 5,
     "metadata": {},
     "output_type": "execute_result"
    }
   ],
   "source": [
    "# Retrieve all text with links to each cuisine\n",
    "cuisines = [cuisine.get_text() for cuisine in soup.find_all(\"h3\", class_ = 'promo__title gel-pica')]\n",
    "cuisines"
   ]
  },
  {
   "cell_type": "code",
   "execution_count": 6,
   "metadata": {},
   "outputs": [
    {
     "name": "stdout",
     "output_type": "stream",
     "text": [
      "Moroccan-style roasted veg\n",
      "['peppers', 'sweet potatoes', 'red onions', 'cherry tomatoes', 'harissa', 'olive oil', 'black pepper']\n",
      "Beef, black-eyed bean and plantain hotpot \n",
      "['sirloin', 'vegetable oil', 'onion', 'garlic', 'ginger', 'dried chilli', 'chopped tomatoes', 'tomato purée', 'beef stock', 'thyme', 'Scotch bonnet chilli', 'plantain', 'black pepper']\n",
      "Bobotie\n",
      "['olive oil', 'onion', 'garlic', 'lamb mince', 'curry powder', 'lemon', 'mango chutney', 'sultanas', 'almonds', 'white bread', 'black pepper', 'eggs', 'milk', 'rice', 'chutneys', 'yoghurt']\n",
      "South African bobotie\n",
      "['butter', 'milk', 'breadcrumbs', 'eggs', 'olive oil', 'lamb mince', 'onions', 'bay leaf', 'cloves', 'curry paste', 'lamb stock', 'Worcestershire sauce', 'mango chutney', 'raisins', 'dried apricots', 'vinegar']\n",
      "Bunny chow\n",
      "['olive oil', 'onion', 'garlic', 'chilli', 'ginger', 'curry leaves', 'cumin', 'fennel seeds', 'coriander', 'turmeric', 'mustard seeds', 'tomato purée', 'tomatoes', 'tamarind', 'prawns', 'black pepper', 'bread', 'coconut', 'curry leaves', 'coriander cress', 'basil']\n",
      "Bunny chow\n",
      "['olive oil', 'onion', 'garlic', 'chilli', 'ginger', 'curry leaves', 'cumin', 'fennel seeds', 'coriander', 'turmeric', 'mustard seeds', 'tomato purée', 'tomatoes', 'tamarind', 'prawns', 'black pepper', 'bread', 'coconut', 'curry leaves', 'coriander cress', 'basil']\n",
      "Cape Malay vegetarian curry\n",
      "['cloves', 'fennel seeds', 'mustard seeds', 'cardamom', 'black peppercorns', 'cumin', 'chilli', 'coriander seeds', 'turmeric', 'cinnamon', 'ground ginger', 'curry leaves', 'dried apricots', 'olive oil', 'red onion', 'pepper', 'pepper', 'garlic', 'cauliflower', 'chickpeas', 'green beans', 'chutney', 'parsley', 'rice', 'flatbreads']\n",
      "Chicken bastilla with orange salad\n",
      "['olive oil', 'onions', 'chicken thighs', 'fresh coriander', 'garlic', 'turmeric', 'ground ginger', 'black pepper', 'chicken stock', 'honey', 'cinnamon', 'almonds', 'pistachio', 'caster sugar', 'butter', 'eggs', 'filo pastry', 'lemons', 'egg yolk', 'icing sugar', 'salt', 'olive oil', 'thyme', 'lemon juice', 'oranges', 'carrots', 'cucumber', 'olives', 'walnuts', 'sea salt']\n",
      "Goat and tomato bredie\n",
      "['peppercorns', 'cardamom', 'cloves', 'oil', 'onions', 'chorizo', 'chicken stock', 'cinnamon', 'ginger', 'chilli', 'goats', 'new potatoes', 'tomatoes', 'parsley', 'black pepper']\n",
      "Grilled pork chops with blatjang and radishes\n",
      "['salt', 'coriander seeds', 'fennel seeds', 'star anise', 'stem ginger', 'pork chops', 'dried apricots', 'raisins', 'mustard seeds', 'mustard seeds', 'caster sugar', 'vinegar', 'ground almonds', 'dried apricots', 'chilli', 'fresh coriander', 'radish', 'radishes', 'olive oil', 'black pepper', 'watercress']\n",
      "Jollof Quorn pilau with salted cucumber \n",
      "['ground ginger', 'garlic', 'chilli', 'thyme', 'cinnamon', 'nutmeg', 'coriander', 'salt', 'black pepper', 'basmati rice', 'olive oil', 'onion', 'salt', 'Quorn', 'cucumber', 'red onion', 'rock salt']\n",
      "Jollof rice with chicken \n",
      "['basmati rice', 'vegetable oil', 'chicken thighs', 'onion', 'garlic', 'ginger', 'chilli', 'paprika', 'tomato', 'passata', 'chicken stock', 'peppers', 'fresh coriander', 'black pepper']\n",
      "Jollof rice with fried plantains\n",
      "['vegetable oil', 'onions', 'tomatoes', 'pepper', 'tomato purée', 'cayenne pepper', 'curry powder', 'bay leaf', 'thyme', 'stock', 'rice', 'black pepper', 'plantains']\n",
      "Jollof rice\n",
      "['basmati rice', 'vegetable oil', 'chicken thighs', 'onion', 'garlic', 'ginger', 'chilli', 'paprika', 'tomato', 'passata', 'chicken stock', 'peppers', 'fresh coriander', 'black pepper']\n",
      "Lamb and apricot Cape Malay curry \n",
      "['lamb', 'coriander', 'cumin', 'garam masala', 'turmeric', 'tamarind', 'dried chillies', 'fennel seeds', 'garlic', 'cinnamon', 'garlic', 'chilli', 'ginger', 'oil', 'onions', 'fennel seeds', 'garlic', 'ginger', 'tomato', 'tomatoes', 'dried apricots', 'apricot', 'desiccated coconut', 'coriander', 'coconut', 'couscous', 'cucumber', 'pomegranate', 'basil', 'parsley', 'coriander', 'dried apricots', 'spring onions']\n",
      "Vegan chilli with peanut butter cabbage\n",
      "['olive oil', 'onion', 'carrots', 'pepper', 'pepper', 'pepper', 'green beans', 'tomatoes', 'chillies', 'cabbage', 'onion', 'tomato', 'peanut butter']\n",
      "Nigerian stew and cauliflower fried ‘rice’\n",
      "['pepper', 'onion', 'garlic', 'ginger', 'vegetable oil', 'onion', 'garlic', 'chilli powder', 'smoked paprika', 'bay leaf', 'caster sugar', 'allspice', 'tomato purée', 'chopped tomatoes', 'black pepper', 'basil', 'cauliflower', 'olive oil', 'bacon', 'garlic', 'onion', 'ginger', 'pepper', 'vegetable stock', 'black pepper']\n",
      "Red-red stew with spiced plantain\n",
      "['ground ginger', 'cinnamon', 'nutmeg', 'cayenne pepper', 'cloves', 'vegetable oil', 'red onions', 'ginger', 'dried chilli', 'scotch bonnet chilli', 'curry powder', 'chilli powder', 'chopped tomatoes', 'tomatoes', 'tomato purée', 'sea salt', 'black pepper', 'red onion', 'ginger', 'sea salt', 'vegetable oil', 'plantains', 'peanuts']\n",
      "Goat stew\n",
      "['goat', 'black pepper', 'vegetable oil', 'butter', 'onion', 'garlic', 'carrots', 'tomato purée', 'cloves', 'ginger', 'cayenne pepper', 'lemon juice', 'beef stock', 'thyme', 'bay leaf', 'black pepper', 'cabbage', 'salt', 'peanut butter', 'millet']\n",
      "Suya beef fillet burger\n",
      "['smoked paprika', 'cayenne pepper', 'ginger', 'garlic', 'black pepper', 'onion', 'turmeric', 'chilli powder', 'pepper', 'egg yolk', 'lemon juice', 'rapeseed oil', 'watermelon', 'cucumber', 'cheese', 'parsley', 'nigella seeds', 'sweet potato', 'sweet potato', 'vegetable oil', 'red onion', 'olive oil', 'caster sugar', 'black pepper', 'ciabatta', 'beef tomato', 'Little Gem lettuce', 'cheddar']\n",
      "Swahili chicken and papaya salad\n",
      "['chicken breasts', 'peppercorns', 'cayenne pepper', 'cinnamon', 'ground ginger', 'chilli', 'turmeric', 'coriander seeds', 'cumin', 'lime', 'olive oil', 'lemon', 'ginger', 'garlic', 'shallots', 'garam masala', 'turmeric', 'coconut milk', 'chopped tomatoes', 'coriander', 'papaya', 'red onion', 'lime', 'olive oil', 'chilli sauce', 'rice']\n",
      "Zanzibar chicken\n",
      "['chicken', 'onions', 'garlic', 'turmeric', 'cumin', 'coriander seeds', 'cardamom', 'limes', 'chicken stock', 'coconut milk', 'basil', 'basmati rice']\n",
      "Zoe’s jollof \n",
      "['chicken thighs', 'onion', 'Scotch bonnet chilli', 'thyme', 'tomatoes', 'tomato purée', 'salt', 'sunflower oil', 'onion', 'garlic', 'chilli powder', 'rice', 'coriander']\n",
      "Breakfast muffins\n",
      "['self-raising flour', 'baking powder', 'salt', 'cinnamon', 'brown sugar', 'milk', 'eggs', 'butter', 'hazelnuts', 'dried cherries', 'cranberries']\n",
      "American baked cheesecake\n",
      "['caster sugar', 'lemons', 'cornflour', 'sultanas', 'cream cheese', 'eggs', 'vanilla essence', 'vanilla pod', 'single cream', 'bananas', 'butter', 'sugar', 'maple syrup', 'basil']\n",
      "Gluten-free American buttermilk pancakes\n",
      "['buttermilk', 'egg', 'butter', 'tapioca', 'salt', 'bicarbonate of soda', 'clarified butter', 'butter', 'bacon', 'maple syrup']\n",
      "Chocolate ripple cheesecake\n",
      "['digestive biscuits', 'butter', 'caster sugar', 'eggs']\n",
      "American-style pancakes with bacon and maple syrup\n",
      "['plain flour', 'baking powder', 'caster sugar', 'eggs', 'milk', 'butter', 'bacon', 'maple syrup']\n",
      "American style pancakes with sausage\n",
      "['sausagemeat', 'self-raising flour', 'baking powder', 'salt', 'buttermilk', 'eggs', 'butter', 'maple syrup']\n",
      "Blueberry pancakes\n",
      "['flour', 'baking powder', 'cinnamon', 'buttermilk', 'eggs', 'butter', 'vanilla extract', 'blueberries', 'butter', 'cinnamon', 'salt', 'maple syrup']\n",
      "Angel food cake with lemon curd\n",
      "['plain flour', 'caster sugar', 'egg whites', 'lemons', 'lemon juice', 'cream of tartar', 'salt', 'egg yolks', 'caster sugar', 'lemons', 'lemons', 'butter', 'passion fruit', 'whipping cream', 'vanilla extract']\n",
      "Apple and blueberry cobbler\n",
      "['Bramley apples', 'butter', 'caster sugar', 'ground almonds', 'eggs', 'almonds']\n",
      "Toffee apple muffins\n",
      "['eggs', 'caster sugar', 'milk', 'butter', 'plain flour', 'baking powder', 'salt', 'cinnamon', 'apples', 'toffee']\n",
      "Apple and raisin muffins\n",
      "['honey', 'apples', 'five-spice powder', 'mixed spice', 'eggs', 'sesame oil', 'milk', 'bananas', 'self-raising flour', 'bicarbonate of soda', 'raisins', 'oats', 'brown sugar']\n",
      "Apple and white chocolate rocky road \n",
      "['white chocolate', 'golden syrup', 'butter', 'salt', 'cinnamon', 'biscuits', 'marshmallows', 'marshmallows', 'apples', 'raisins', 'icing sugar']\n"
     ]
    },
    {
     "name": "stdout",
     "output_type": "stream",
     "text": [
      "Avocado salad\n",
      "['red onion', 'cannellini beans', 'avocado', 'cherry tomatoes', 'basil', 'lemon', 'olive oil', 'pepper']\n",
      "Bacon and chilli cornbread\n",
      "['corn oil', 'bacon', 'spring onions', 'dried chilli', 'polenta', 'plain flour', 'caster sugar', 'baking powder', 'salt', 'buttermilk', 'eggs', 'maple syrup', 'black pepper', 'butter']\n",
      "Bacon waffles with poached eggs and hollandaise sauce\n",
      "['plain flour', 'baking powder', 'salt', 'caster sugar', 'eggs', 'milk', 'butter', 'bacon', 'bacon', 'shallot', 'peppercorns', 'bay leaf', 'white wine vinegar', 'egg yolks', 'butter', 'black pepper', 'white wine vinegar', 'eggs', 'bacon', 'chives']\n",
      "Baked Alaska\n",
      "['double cream', 'milk', 'vanilla pod', 'egg yolks', 'caster sugar', 'egg whites', 'caster sugar', 'cherry', 'sponge cake']\n",
      "Baked Alaska with sautéed apples\n",
      "['caster sugar', 'eggs', 'plain flour', 'butter', 'Bramley apples', 'butter', 'caster sugar', 'caster sugar', 'egg whites', 'Calvados', 'ice cream', 'butter', 'apples', 'brandy']\n",
      "Baked crab 'poblano' with achiote\n",
      "['chilli', 'butter', 'red onion', 'garlic', 'orange juice', 'chillies', 'tomatoes', 'crab', 'fresh coriander', 'salt', 'breadcrumbs', 'Parmesan']\n",
      "Banana bread\n",
      "['plain flour', 'bicarbonate of soda', 'salt', 'butter', 'caster sugar', 'eggs', 'bananas', 'buttermilk', 'vanilla extract']\n",
      "Banana muffins\n",
      "['butter', 'self-raising flour', 'baking powder', 'bicarbonate of soda', 'salt', 'cinnamon', 'nutmeg', 'caster sugar', 'vanilla extract', 'bananas', 'eggs', 'milk', 'walnut', 'bananas', 'walnut', 'yoghurt', 'honey']\n",
      "Bananas Foster\n",
      "['butter', 'brown sugar', 'cinnamon', 'liqueur', 'bananas', 'rum', 'ice cream']\n",
      "Banana cake\n",
      "['butter', 'plain flour', 'bananas', 'maple syrup', 'milk', 'caster sugar', 'eggs', 'baking powder', 'pecan', 'double cream']\n",
      "Healthy banana muffins\n",
      "['wholemeal flour', 'sugar', 'baking powder', 'egg', 'yoghurt', 'rapeseed oil', 'bananas']\n",
      "Banana and bacon pancakes\n",
      "['butter', 'baking powder', 'eggs', 'brown sugar', 'milk', 'banana', 'sunflower oil', 'bacon', 'golden syrup']\n",
      "Barbecue ribs with celeriac slaw\n",
      "['celery', 'onion', 'chillies', 'garlic', 'apple juice', 'ketchup', 'sugar', 'Worcestershire sauce', 'smoked paprika', 'smoked paprika', 'white wine vinegar', 'egg yolks', 'Dijon mustard', 'vinegar', 'rapeseed oil', 'acidulated water', 'parsley', 'black pepper']\n",
      "BBQ sauce\n",
      "['onion', 'garlic', 'olive oil', 'chilli', 'fennel seeds', 'brown sugar', 'soy sauce', 'ketchup', 'pepper']\n",
      "BBQ chicken with coleslaw\n",
      "['vinegar', 'brown sugar', 'paprika', 'Dijon mustard', 'soy sauce', 'black pepper', 'chicken thighs', 'red cabbage', 'carrots', 'red onion', 'radishes', 'spring onions', 'limes', 'onion', 'sunflower seeds', 'pumpkin seeds', 'fresh coriander', 'mint']\n",
      "Beef burgers\n",
      "['onion', 'parsley', 'pepper']\n",
      "Beef burgers with beetroot and carrot slaw\n",
      "['mince', 'breadcrumbs', 'Dijon mustard', 'tomato', 'onion', 'marjoram', 'parsley', 'egg yolk', 'oil', 'black pepper', 'mayonnaise', 'sugar', 'horseradish sauce', 'carrot', 'beetroot', 'celery', 'spring onions', 'parsley', 'Dijon mustard', 'brioche', 'tomatoes', 'gherkins']\n",
      "How to make chilli con carne\n",
      "['red onion', 'olive oil', 'carrot', 'garlic', 'chilli powder', 'paprika', 'oregano', 'beef mince', 'tomato purée', 'kidney beans', 'pepper', 'chopped tomatoes', 'beef stock', 'black pepper', 'dark chocolate', 'coriander', 'rice', 'fresh coriander', 'soured cream']\n",
      "Beef ribs with barbecue sauce, baked potato and chive soured cream\n",
      "['beef ribs', 'onion', 'garlic', 'fennel seeds', 'star anise', 'potatoes', 'oil', 'black pepper', 'double cream', 'lemon', 'chives', 'butter', 'onion', 'garlic', 'chillies', 'fennel seeds', 'star anise', 'sugar', 'ketchup', 'chipotle', 'soy sauce']\n",
      "Beer-marinated rack of pork with Swiss-chard gratin\n",
      "['sea salt', 'brown sugar', 'black peppercorns', 'garlic', 'bay leaves', 'mustard seeds', 'thyme', 'parsley', 'beer', 'butter', 'brioche', 'English mustard', 'mustard seeds', 'Swiss chard', 'potatoes', 'onion', 'butter', 'plain flour', 'milk', 'chicken stock', 'Gruyère', 'black pepper']\n",
      "Beer can chicken with garlic butter jacket potatoes\n",
      "['paprika', 'paprika', 'chilli', 'Dijon mustard', 'red wine vinegar', 'limes', 'lime', 'lemons', 'lemon', 'olive oil', 'chicken', 'potatoes', 'garlic', 'beer', 'chives', 'butter', 'black pepper', 'lettuce', 'tomatoes', 'cucumber', 'olive oil']\n",
      "Berry crumble traybake\n",
      "['blackcurrants', 'caster sugar', 'cornflour', 'plain flour', 'butter', 'caster sugar', 'plain flour', 'baking powder', 'cinnamon', 'ground almonds', 'caster sugar', 'butter', 'eggs', 'yoghurt']\n",
      "Better for you chocolate brownies\n",
      "['chocolate', 'eggs', 'vegetable oil', 'brown sugar', 'almond extract', 'plain flour', 'baking powder']\n",
      "The Hairy Bikers' cherry pecan brownies\n",
      "['butter', 'caster sugar', 'brown sugar', 'eggs', 'plain flour', 'cocoa powder', 'dark chocolate', 'white chocolate', 'cherries']\n",
      "Blueberry muffins with Bourbon berries and ice cream\n",
      "['eggs', 'caster sugar', 'milk', 'butter', 'vanilla extract', 'plain flour', 'baking powder', 'salt', 'icing sugar', 'ice cream']\n",
      "Blueberry muffins\n",
      "['eggs', 'caster sugar', 'milk', 'butter', 'vanilla extract', 'plain flour', 'baking powder', 'salt', 'icing sugar', 'ice cream']\n",
      "Blueberry pancakes with bacon\n",
      "['self-raising flour', 'bicarbonate of soda', 'caster sugar', 'egg', 'butter', 'milk', 'cottage cheese', 'butter', 'pancetta', 'eggs', 'butter', 'maple syrup']\n",
      "Blueberry and lemon traybake\n",
      "['butter', 'caster sugar', 'eggs', 'soured cream', 'lemon', 'self-raising flour', 'baking powder', 'blueberries', 'butter', 'icing sugar', 'cream cheese', 'lemon juice', 'blueberries']\n",
      "Blueberry butter\n",
      "['apples', 'blueberries', 'apple juice', 'orange', 'sugar']\n",
      "Blue cheese dressing\n",
      "['cheese', 'white wine vinegar', 'hazelnut oil', 'sunflower oil', 'lemon juice', 'black pepper']\n",
      "Boston baked beans\n",
      "['haricot beans', 'pork belly', 'brown sugar', 'treacle', 'English mustard', 'cloves', 'onions', 'onions', 'black pepper', 'salt']\n",
      "Bourbon-glazed sticky ribs with coleslaw and baked potatoes\n",
      "['peppercorns', 'parsley', 'onion', 'carrot', 'ketchup', 'chipotle', 'soy sauce', 'honey', 'teriyaki sauce', 'egg yolks', 'white wine vinegar', 'Dijon mustard', 'salt', 'rapeseed oil', 'olive oil', 'lemon', 'black pepper', 'carrots', 'white cabbage', 'onion', 'olive oil', 'sea salt', 'soured cream', 'parsley']\n",
      "Breaded chicken nuggets \n",
      "['chicken breast', 'chicken breasts', 'plain flour', 'egg', 'breadcrumbs', 'breadcrumbs', 'breadcrumbs', 'oil', 'black pepper']\n",
      "Bread and butter pickle \n",
      "['cucumbers', 'onion', 'sea salt', 'vinegar', 'sugar', 'turmeric', 'dill', 'celery seeds', 'mustard seeds', 'chilli']\n",
      "Buckwheat pancakes\n",
      "['buckwheat flour', 'plain flour', 'baking powder', 'salt', 'egg', 'milk', 'vegetable oil', 'maple syrup', 'yoghurt', 'berries']\n",
      "Buffalo wings\n",
      "['chicken wings', 'oil', 'celery', 'black pepper', 'butter', 'cloves', 'vinegar', 'sugar', 'cheese', 'onion', 'buttermilk', 'vinegar']\n",
      "Buttermilk pancakes with maple bacon\n",
      "['self-raising flour', 'bicarbonate of soda', 'salt', 'caster sugar', 'buttermilk', 'milk', 'eggs', 'butter', 'bacon', 'maple syrup']\n"
     ]
    },
    {
     "ename": "KeyboardInterrupt",
     "evalue": "",
     "output_type": "error",
     "traceback": [
      "\u001b[1;31m---------------------------------------------------------------------------\u001b[0m",
      "\u001b[1;31mKeyboardInterrupt\u001b[0m                         Traceback (most recent call last)",
      "\u001b[1;32m<ipython-input-6-fc5c6e202539>\u001b[0m in \u001b[0;36m<module>\u001b[1;34m\u001b[0m\n\u001b[0;32m     50\u001b[0m                 \u001b[0mprint\u001b[0m\u001b[1;33m(\u001b[0m\u001b[0mrecipe\u001b[0m\u001b[1;33m)\u001b[0m\u001b[1;33m\u001b[0m\u001b[1;33m\u001b[0m\u001b[0m\n\u001b[0;32m     51\u001b[0m                 \u001b[0mprint\u001b[0m\u001b[1;33m(\u001b[0m\u001b[0mingredients\u001b[0m\u001b[1;33m)\u001b[0m\u001b[1;33m\u001b[0m\u001b[1;33m\u001b[0m\u001b[0m\n\u001b[1;32m---> 52\u001b[1;33m                 \u001b[0mbrowser\u001b[0m\u001b[1;33m.\u001b[0m\u001b[0mback\u001b[0m\u001b[1;33m(\u001b[0m\u001b[1;33m)\u001b[0m\u001b[1;33m\u001b[0m\u001b[1;33m\u001b[0m\u001b[0m\n\u001b[0m\u001b[0;32m     53\u001b[0m                 \u001b[0msleep\u001b[0m\u001b[1;33m(\u001b[0m\u001b[1;36m1\u001b[0m\u001b[1;33m)\u001b[0m\u001b[1;33m\u001b[0m\u001b[1;33m\u001b[0m\u001b[0m\n\u001b[0;32m     54\u001b[0m \u001b[1;33m\u001b[0m\u001b[0m\n",
      "\u001b[1;32m~\\anaconda3\\envs\\PythonAdv\\lib\\site-packages\\splinter\\driver\\webdriver\\__init__.py\u001b[0m in \u001b[0;36mback\u001b[1;34m(self)\u001b[0m\n\u001b[0;32m    288\u001b[0m \u001b[1;33m\u001b[0m\u001b[0m\n\u001b[0;32m    289\u001b[0m     \u001b[1;32mdef\u001b[0m \u001b[0mback\u001b[0m\u001b[1;33m(\u001b[0m\u001b[0mself\u001b[0m\u001b[1;33m)\u001b[0m\u001b[1;33m:\u001b[0m\u001b[1;33m\u001b[0m\u001b[1;33m\u001b[0m\u001b[0m\n\u001b[1;32m--> 290\u001b[1;33m         \u001b[0mself\u001b[0m\u001b[1;33m.\u001b[0m\u001b[0mdriver\u001b[0m\u001b[1;33m.\u001b[0m\u001b[0mback\u001b[0m\u001b[1;33m(\u001b[0m\u001b[1;33m)\u001b[0m\u001b[1;33m\u001b[0m\u001b[1;33m\u001b[0m\u001b[0m\n\u001b[0m\u001b[0;32m    291\u001b[0m \u001b[1;33m\u001b[0m\u001b[0m\n\u001b[0;32m    292\u001b[0m     \u001b[1;32mdef\u001b[0m \u001b[0mforward\u001b[0m\u001b[1;33m(\u001b[0m\u001b[0mself\u001b[0m\u001b[1;33m)\u001b[0m\u001b[1;33m:\u001b[0m\u001b[1;33m\u001b[0m\u001b[1;33m\u001b[0m\u001b[0m\n",
      "\u001b[1;32m~\\anaconda3\\envs\\PythonAdv\\lib\\site-packages\\selenium\\webdriver\\remote\\webdriver.py\u001b[0m in \u001b[0;36mback\u001b[1;34m(self)\u001b[0m\n\u001b[0;32m    811\u001b[0m             \u001b[0mdriver\u001b[0m\u001b[1;33m.\u001b[0m\u001b[0mback\u001b[0m\u001b[1;33m(\u001b[0m\u001b[1;33m)\u001b[0m\u001b[1;33m\u001b[0m\u001b[1;33m\u001b[0m\u001b[0m\n\u001b[0;32m    812\u001b[0m         \"\"\"\n\u001b[1;32m--> 813\u001b[1;33m         \u001b[0mself\u001b[0m\u001b[1;33m.\u001b[0m\u001b[0mexecute\u001b[0m\u001b[1;33m(\u001b[0m\u001b[0mCommand\u001b[0m\u001b[1;33m.\u001b[0m\u001b[0mGO_BACK\u001b[0m\u001b[1;33m)\u001b[0m\u001b[1;33m\u001b[0m\u001b[1;33m\u001b[0m\u001b[0m\n\u001b[0m\u001b[0;32m    814\u001b[0m \u001b[1;33m\u001b[0m\u001b[0m\n\u001b[0;32m    815\u001b[0m     \u001b[1;32mdef\u001b[0m \u001b[0mforward\u001b[0m\u001b[1;33m(\u001b[0m\u001b[0mself\u001b[0m\u001b[1;33m)\u001b[0m\u001b[1;33m:\u001b[0m\u001b[1;33m\u001b[0m\u001b[1;33m\u001b[0m\u001b[0m\n",
      "\u001b[1;32m~\\anaconda3\\envs\\PythonAdv\\lib\\site-packages\\selenium\\webdriver\\remote\\webdriver.py\u001b[0m in \u001b[0;36mexecute\u001b[1;34m(self, driver_command, params)\u001b[0m\n\u001b[0;32m    317\u001b[0m \u001b[1;33m\u001b[0m\u001b[0m\n\u001b[0;32m    318\u001b[0m         \u001b[0mparams\u001b[0m \u001b[1;33m=\u001b[0m \u001b[0mself\u001b[0m\u001b[1;33m.\u001b[0m\u001b[0m_wrap_value\u001b[0m\u001b[1;33m(\u001b[0m\u001b[0mparams\u001b[0m\u001b[1;33m)\u001b[0m\u001b[1;33m\u001b[0m\u001b[1;33m\u001b[0m\u001b[0m\n\u001b[1;32m--> 319\u001b[1;33m         \u001b[0mresponse\u001b[0m \u001b[1;33m=\u001b[0m \u001b[0mself\u001b[0m\u001b[1;33m.\u001b[0m\u001b[0mcommand_executor\u001b[0m\u001b[1;33m.\u001b[0m\u001b[0mexecute\u001b[0m\u001b[1;33m(\u001b[0m\u001b[0mdriver_command\u001b[0m\u001b[1;33m,\u001b[0m \u001b[0mparams\u001b[0m\u001b[1;33m)\u001b[0m\u001b[1;33m\u001b[0m\u001b[1;33m\u001b[0m\u001b[0m\n\u001b[0m\u001b[0;32m    320\u001b[0m         \u001b[1;32mif\u001b[0m \u001b[0mresponse\u001b[0m\u001b[1;33m:\u001b[0m\u001b[1;33m\u001b[0m\u001b[1;33m\u001b[0m\u001b[0m\n\u001b[0;32m    321\u001b[0m             \u001b[0mself\u001b[0m\u001b[1;33m.\u001b[0m\u001b[0merror_handler\u001b[0m\u001b[1;33m.\u001b[0m\u001b[0mcheck_response\u001b[0m\u001b[1;33m(\u001b[0m\u001b[0mresponse\u001b[0m\u001b[1;33m)\u001b[0m\u001b[1;33m\u001b[0m\u001b[1;33m\u001b[0m\u001b[0m\n",
      "\u001b[1;32m~\\anaconda3\\envs\\PythonAdv\\lib\\site-packages\\selenium\\webdriver\\remote\\remote_connection.py\u001b[0m in \u001b[0;36mexecute\u001b[1;34m(self, command, params)\u001b[0m\n\u001b[0;32m    372\u001b[0m         \u001b[0mdata\u001b[0m \u001b[1;33m=\u001b[0m \u001b[0mutils\u001b[0m\u001b[1;33m.\u001b[0m\u001b[0mdump_json\u001b[0m\u001b[1;33m(\u001b[0m\u001b[0mparams\u001b[0m\u001b[1;33m)\u001b[0m\u001b[1;33m\u001b[0m\u001b[1;33m\u001b[0m\u001b[0m\n\u001b[0;32m    373\u001b[0m         \u001b[0murl\u001b[0m \u001b[1;33m=\u001b[0m \u001b[1;34m'%s%s'\u001b[0m \u001b[1;33m%\u001b[0m \u001b[1;33m(\u001b[0m\u001b[0mself\u001b[0m\u001b[1;33m.\u001b[0m\u001b[0m_url\u001b[0m\u001b[1;33m,\u001b[0m \u001b[0mpath\u001b[0m\u001b[1;33m)\u001b[0m\u001b[1;33m\u001b[0m\u001b[1;33m\u001b[0m\u001b[0m\n\u001b[1;32m--> 374\u001b[1;33m         \u001b[1;32mreturn\u001b[0m \u001b[0mself\u001b[0m\u001b[1;33m.\u001b[0m\u001b[0m_request\u001b[0m\u001b[1;33m(\u001b[0m\u001b[0mcommand_info\u001b[0m\u001b[1;33m[\u001b[0m\u001b[1;36m0\u001b[0m\u001b[1;33m]\u001b[0m\u001b[1;33m,\u001b[0m \u001b[0murl\u001b[0m\u001b[1;33m,\u001b[0m \u001b[0mbody\u001b[0m\u001b[1;33m=\u001b[0m\u001b[0mdata\u001b[0m\u001b[1;33m)\u001b[0m\u001b[1;33m\u001b[0m\u001b[1;33m\u001b[0m\u001b[0m\n\u001b[0m\u001b[0;32m    375\u001b[0m \u001b[1;33m\u001b[0m\u001b[0m\n\u001b[0;32m    376\u001b[0m     \u001b[1;32mdef\u001b[0m \u001b[0m_request\u001b[0m\u001b[1;33m(\u001b[0m\u001b[0mself\u001b[0m\u001b[1;33m,\u001b[0m \u001b[0mmethod\u001b[0m\u001b[1;33m,\u001b[0m \u001b[0murl\u001b[0m\u001b[1;33m,\u001b[0m \u001b[0mbody\u001b[0m\u001b[1;33m=\u001b[0m\u001b[1;32mNone\u001b[0m\u001b[1;33m)\u001b[0m\u001b[1;33m:\u001b[0m\u001b[1;33m\u001b[0m\u001b[1;33m\u001b[0m\u001b[0m\n",
      "\u001b[1;32m~\\anaconda3\\envs\\PythonAdv\\lib\\site-packages\\splinter\\driver\\webdriver\\remote_connection.py\u001b[0m in \u001b[0;36mpatch_request\u001b[1;34m(self, *args, **kwargs)\u001b[0m\n\u001b[0;32m     21\u001b[0m     \u001b[1;32mfor\u001b[0m \u001b[0m_\u001b[0m \u001b[1;32min\u001b[0m \u001b[0mrange\u001b[0m\u001b[1;33m(\u001b[0m\u001b[1;36m3\u001b[0m\u001b[1;33m)\u001b[0m\u001b[1;33m:\u001b[0m\u001b[1;33m\u001b[0m\u001b[1;33m\u001b[0m\u001b[0m\n\u001b[0;32m     22\u001b[0m         \u001b[1;32mtry\u001b[0m\u001b[1;33m:\u001b[0m\u001b[1;33m\u001b[0m\u001b[1;33m\u001b[0m\u001b[0m\n\u001b[1;32m---> 23\u001b[1;33m             \u001b[1;32mreturn\u001b[0m \u001b[0mold_request\u001b[0m\u001b[1;33m(\u001b[0m\u001b[0mself\u001b[0m\u001b[1;33m,\u001b[0m \u001b[1;33m*\u001b[0m\u001b[0margs\u001b[0m\u001b[1;33m,\u001b[0m \u001b[1;33m**\u001b[0m\u001b[0mkwargs\u001b[0m\u001b[1;33m)\u001b[0m\u001b[1;33m\u001b[0m\u001b[1;33m\u001b[0m\u001b[0m\n\u001b[0m\u001b[0;32m     24\u001b[0m         \u001b[1;32mexcept\u001b[0m \u001b[1;33m(\u001b[0m\u001b[0msocket\u001b[0m\u001b[1;33m.\u001b[0m\u001b[0merror\u001b[0m\u001b[1;33m,\u001b[0m \u001b[0mHTTPException\u001b[0m\u001b[1;33m,\u001b[0m \u001b[0mIOError\u001b[0m\u001b[1;33m,\u001b[0m \u001b[0mOSError\u001b[0m\u001b[1;33m,\u001b[0m \u001b[0mMaxRetryError\u001b[0m\u001b[1;33m)\u001b[0m \u001b[1;32mas\u001b[0m \u001b[0mexc\u001b[0m\u001b[1;33m:\u001b[0m\u001b[1;33m\u001b[0m\u001b[1;33m\u001b[0m\u001b[0m\n\u001b[0;32m     25\u001b[0m             \u001b[0mexception\u001b[0m \u001b[1;33m=\u001b[0m \u001b[0mexc\u001b[0m\u001b[1;33m\u001b[0m\u001b[1;33m\u001b[0m\u001b[0m\n",
      "\u001b[1;32m~\\anaconda3\\envs\\PythonAdv\\lib\\site-packages\\selenium\\webdriver\\remote\\remote_connection.py\u001b[0m in \u001b[0;36m_request\u001b[1;34m(self, method, url, body)\u001b[0m\n\u001b[0;32m    395\u001b[0m \u001b[1;33m\u001b[0m\u001b[0m\n\u001b[0;32m    396\u001b[0m         \u001b[1;32mif\u001b[0m \u001b[0mself\u001b[0m\u001b[1;33m.\u001b[0m\u001b[0mkeep_alive\u001b[0m\u001b[1;33m:\u001b[0m\u001b[1;33m\u001b[0m\u001b[1;33m\u001b[0m\u001b[0m\n\u001b[1;32m--> 397\u001b[1;33m             \u001b[0mresp\u001b[0m \u001b[1;33m=\u001b[0m \u001b[0mself\u001b[0m\u001b[1;33m.\u001b[0m\u001b[0m_conn\u001b[0m\u001b[1;33m.\u001b[0m\u001b[0mrequest\u001b[0m\u001b[1;33m(\u001b[0m\u001b[0mmethod\u001b[0m\u001b[1;33m,\u001b[0m \u001b[0murl\u001b[0m\u001b[1;33m,\u001b[0m \u001b[0mbody\u001b[0m\u001b[1;33m=\u001b[0m\u001b[0mbody\u001b[0m\u001b[1;33m,\u001b[0m \u001b[0mheaders\u001b[0m\u001b[1;33m=\u001b[0m\u001b[0mheaders\u001b[0m\u001b[1;33m)\u001b[0m\u001b[1;33m\u001b[0m\u001b[1;33m\u001b[0m\u001b[0m\n\u001b[0m\u001b[0;32m    398\u001b[0m \u001b[1;33m\u001b[0m\u001b[0m\n\u001b[0;32m    399\u001b[0m             \u001b[0mstatuscode\u001b[0m \u001b[1;33m=\u001b[0m \u001b[0mresp\u001b[0m\u001b[1;33m.\u001b[0m\u001b[0mstatus\u001b[0m\u001b[1;33m\u001b[0m\u001b[1;33m\u001b[0m\u001b[0m\n",
      "\u001b[1;32m~\\anaconda3\\envs\\PythonAdv\\lib\\site-packages\\urllib3\\request.py\u001b[0m in \u001b[0;36mrequest\u001b[1;34m(self, method, url, fields, headers, **urlopen_kw)\u001b[0m\n\u001b[0;32m     78\u001b[0m         \u001b[1;32melse\u001b[0m\u001b[1;33m:\u001b[0m\u001b[1;33m\u001b[0m\u001b[1;33m\u001b[0m\u001b[0m\n\u001b[0;32m     79\u001b[0m             return self.request_encode_body(\n\u001b[1;32m---> 80\u001b[1;33m                 \u001b[0mmethod\u001b[0m\u001b[1;33m,\u001b[0m \u001b[0murl\u001b[0m\u001b[1;33m,\u001b[0m \u001b[0mfields\u001b[0m\u001b[1;33m=\u001b[0m\u001b[0mfields\u001b[0m\u001b[1;33m,\u001b[0m \u001b[0mheaders\u001b[0m\u001b[1;33m=\u001b[0m\u001b[0mheaders\u001b[0m\u001b[1;33m,\u001b[0m \u001b[1;33m**\u001b[0m\u001b[0murlopen_kw\u001b[0m\u001b[1;33m\u001b[0m\u001b[1;33m\u001b[0m\u001b[0m\n\u001b[0m\u001b[0;32m     81\u001b[0m             )\n\u001b[0;32m     82\u001b[0m \u001b[1;33m\u001b[0m\u001b[0m\n",
      "\u001b[1;32m~\\anaconda3\\envs\\PythonAdv\\lib\\site-packages\\urllib3\\request.py\u001b[0m in \u001b[0;36mrequest_encode_body\u001b[1;34m(self, method, url, fields, headers, encode_multipart, multipart_boundary, **urlopen_kw)\u001b[0m\n\u001b[0;32m    169\u001b[0m         \u001b[0mextra_kw\u001b[0m\u001b[1;33m.\u001b[0m\u001b[0mupdate\u001b[0m\u001b[1;33m(\u001b[0m\u001b[0murlopen_kw\u001b[0m\u001b[1;33m)\u001b[0m\u001b[1;33m\u001b[0m\u001b[1;33m\u001b[0m\u001b[0m\n\u001b[0;32m    170\u001b[0m \u001b[1;33m\u001b[0m\u001b[0m\n\u001b[1;32m--> 171\u001b[1;33m         \u001b[1;32mreturn\u001b[0m \u001b[0mself\u001b[0m\u001b[1;33m.\u001b[0m\u001b[0murlopen\u001b[0m\u001b[1;33m(\u001b[0m\u001b[0mmethod\u001b[0m\u001b[1;33m,\u001b[0m \u001b[0murl\u001b[0m\u001b[1;33m,\u001b[0m \u001b[1;33m**\u001b[0m\u001b[0mextra_kw\u001b[0m\u001b[1;33m)\u001b[0m\u001b[1;33m\u001b[0m\u001b[1;33m\u001b[0m\u001b[0m\n\u001b[0m",
      "\u001b[1;32m~\\anaconda3\\envs\\PythonAdv\\lib\\site-packages\\urllib3\\poolmanager.py\u001b[0m in \u001b[0;36murlopen\u001b[1;34m(self, method, url, redirect, **kw)\u001b[0m\n\u001b[0;32m    334\u001b[0m             \u001b[0mresponse\u001b[0m \u001b[1;33m=\u001b[0m \u001b[0mconn\u001b[0m\u001b[1;33m.\u001b[0m\u001b[0murlopen\u001b[0m\u001b[1;33m(\u001b[0m\u001b[0mmethod\u001b[0m\u001b[1;33m,\u001b[0m \u001b[0murl\u001b[0m\u001b[1;33m,\u001b[0m \u001b[1;33m**\u001b[0m\u001b[0mkw\u001b[0m\u001b[1;33m)\u001b[0m\u001b[1;33m\u001b[0m\u001b[1;33m\u001b[0m\u001b[0m\n\u001b[0;32m    335\u001b[0m         \u001b[1;32melse\u001b[0m\u001b[1;33m:\u001b[0m\u001b[1;33m\u001b[0m\u001b[1;33m\u001b[0m\u001b[0m\n\u001b[1;32m--> 336\u001b[1;33m             \u001b[0mresponse\u001b[0m \u001b[1;33m=\u001b[0m \u001b[0mconn\u001b[0m\u001b[1;33m.\u001b[0m\u001b[0murlopen\u001b[0m\u001b[1;33m(\u001b[0m\u001b[0mmethod\u001b[0m\u001b[1;33m,\u001b[0m \u001b[0mu\u001b[0m\u001b[1;33m.\u001b[0m\u001b[0mrequest_uri\u001b[0m\u001b[1;33m,\u001b[0m \u001b[1;33m**\u001b[0m\u001b[0mkw\u001b[0m\u001b[1;33m)\u001b[0m\u001b[1;33m\u001b[0m\u001b[1;33m\u001b[0m\u001b[0m\n\u001b[0m\u001b[0;32m    337\u001b[0m \u001b[1;33m\u001b[0m\u001b[0m\n\u001b[0;32m    338\u001b[0m         \u001b[0mredirect_location\u001b[0m \u001b[1;33m=\u001b[0m \u001b[0mredirect\u001b[0m \u001b[1;32mand\u001b[0m \u001b[0mresponse\u001b[0m\u001b[1;33m.\u001b[0m\u001b[0mget_redirect_location\u001b[0m\u001b[1;33m(\u001b[0m\u001b[1;33m)\u001b[0m\u001b[1;33m\u001b[0m\u001b[1;33m\u001b[0m\u001b[0m\n",
      "\u001b[1;32m~\\anaconda3\\envs\\PythonAdv\\lib\\site-packages\\urllib3\\connectionpool.py\u001b[0m in \u001b[0;36murlopen\u001b[1;34m(self, method, url, body, headers, retries, redirect, assert_same_host, timeout, pool_timeout, release_conn, chunked, body_pos, **response_kw)\u001b[0m\n\u001b[0;32m    675\u001b[0m                 \u001b[0mbody\u001b[0m\u001b[1;33m=\u001b[0m\u001b[0mbody\u001b[0m\u001b[1;33m,\u001b[0m\u001b[1;33m\u001b[0m\u001b[1;33m\u001b[0m\u001b[0m\n\u001b[0;32m    676\u001b[0m                 \u001b[0mheaders\u001b[0m\u001b[1;33m=\u001b[0m\u001b[0mheaders\u001b[0m\u001b[1;33m,\u001b[0m\u001b[1;33m\u001b[0m\u001b[1;33m\u001b[0m\u001b[0m\n\u001b[1;32m--> 677\u001b[1;33m                 \u001b[0mchunked\u001b[0m\u001b[1;33m=\u001b[0m\u001b[0mchunked\u001b[0m\u001b[1;33m,\u001b[0m\u001b[1;33m\u001b[0m\u001b[1;33m\u001b[0m\u001b[0m\n\u001b[0m\u001b[0;32m    678\u001b[0m             )\n\u001b[0;32m    679\u001b[0m \u001b[1;33m\u001b[0m\u001b[0m\n",
      "\u001b[1;32m~\\anaconda3\\envs\\PythonAdv\\lib\\site-packages\\urllib3\\connectionpool.py\u001b[0m in \u001b[0;36m_make_request\u001b[1;34m(self, conn, method, url, timeout, chunked, **httplib_request_kw)\u001b[0m\n\u001b[0;32m    424\u001b[0m                     \u001b[1;31m# Python 3 (including for exceptions like SystemExit).\u001b[0m\u001b[1;33m\u001b[0m\u001b[1;33m\u001b[0m\u001b[1;33m\u001b[0m\u001b[0m\n\u001b[0;32m    425\u001b[0m                     \u001b[1;31m# Otherwise it looks like a bug in the code.\u001b[0m\u001b[1;33m\u001b[0m\u001b[1;33m\u001b[0m\u001b[1;33m\u001b[0m\u001b[0m\n\u001b[1;32m--> 426\u001b[1;33m                     \u001b[0msix\u001b[0m\u001b[1;33m.\u001b[0m\u001b[0mraise_from\u001b[0m\u001b[1;33m(\u001b[0m\u001b[0me\u001b[0m\u001b[1;33m,\u001b[0m \u001b[1;32mNone\u001b[0m\u001b[1;33m)\u001b[0m\u001b[1;33m\u001b[0m\u001b[1;33m\u001b[0m\u001b[0m\n\u001b[0m\u001b[0;32m    427\u001b[0m         \u001b[1;32mexcept\u001b[0m \u001b[1;33m(\u001b[0m\u001b[0mSocketTimeout\u001b[0m\u001b[1;33m,\u001b[0m \u001b[0mBaseSSLError\u001b[0m\u001b[1;33m,\u001b[0m \u001b[0mSocketError\u001b[0m\u001b[1;33m)\u001b[0m \u001b[1;32mas\u001b[0m \u001b[0me\u001b[0m\u001b[1;33m:\u001b[0m\u001b[1;33m\u001b[0m\u001b[1;33m\u001b[0m\u001b[0m\n\u001b[0;32m    428\u001b[0m             \u001b[0mself\u001b[0m\u001b[1;33m.\u001b[0m\u001b[0m_raise_timeout\u001b[0m\u001b[1;33m(\u001b[0m\u001b[0merr\u001b[0m\u001b[1;33m=\u001b[0m\u001b[0me\u001b[0m\u001b[1;33m,\u001b[0m \u001b[0murl\u001b[0m\u001b[1;33m=\u001b[0m\u001b[0murl\u001b[0m\u001b[1;33m,\u001b[0m \u001b[0mtimeout_value\u001b[0m\u001b[1;33m=\u001b[0m\u001b[0mread_timeout\u001b[0m\u001b[1;33m)\u001b[0m\u001b[1;33m\u001b[0m\u001b[1;33m\u001b[0m\u001b[0m\n",
      "\u001b[1;32m~\\anaconda3\\envs\\PythonAdv\\lib\\site-packages\\urllib3\\packages\\six.py\u001b[0m in \u001b[0;36mraise_from\u001b[1;34m(value, from_value)\u001b[0m\n",
      "\u001b[1;32m~\\anaconda3\\envs\\PythonAdv\\lib\\site-packages\\urllib3\\connectionpool.py\u001b[0m in \u001b[0;36m_make_request\u001b[1;34m(self, conn, method, url, timeout, chunked, **httplib_request_kw)\u001b[0m\n\u001b[0;32m    419\u001b[0m                 \u001b[1;31m# Python 3\u001b[0m\u001b[1;33m\u001b[0m\u001b[1;33m\u001b[0m\u001b[1;33m\u001b[0m\u001b[0m\n\u001b[0;32m    420\u001b[0m                 \u001b[1;32mtry\u001b[0m\u001b[1;33m:\u001b[0m\u001b[1;33m\u001b[0m\u001b[1;33m\u001b[0m\u001b[0m\n\u001b[1;32m--> 421\u001b[1;33m                     \u001b[0mhttplib_response\u001b[0m \u001b[1;33m=\u001b[0m \u001b[0mconn\u001b[0m\u001b[1;33m.\u001b[0m\u001b[0mgetresponse\u001b[0m\u001b[1;33m(\u001b[0m\u001b[1;33m)\u001b[0m\u001b[1;33m\u001b[0m\u001b[1;33m\u001b[0m\u001b[0m\n\u001b[0m\u001b[0;32m    422\u001b[0m                 \u001b[1;32mexcept\u001b[0m \u001b[0mBaseException\u001b[0m \u001b[1;32mas\u001b[0m \u001b[0me\u001b[0m\u001b[1;33m:\u001b[0m\u001b[1;33m\u001b[0m\u001b[1;33m\u001b[0m\u001b[0m\n\u001b[0;32m    423\u001b[0m                     \u001b[1;31m# Remove the TypeError from the exception chain in\u001b[0m\u001b[1;33m\u001b[0m\u001b[1;33m\u001b[0m\u001b[1;33m\u001b[0m\u001b[0m\n",
      "\u001b[1;32m~\\anaconda3\\envs\\PythonAdv\\lib\\http\\client.py\u001b[0m in \u001b[0;36mgetresponse\u001b[1;34m(self)\u001b[0m\n\u001b[0;32m   1377\u001b[0m         \u001b[1;32mtry\u001b[0m\u001b[1;33m:\u001b[0m\u001b[1;33m\u001b[0m\u001b[1;33m\u001b[0m\u001b[0m\n\u001b[0;32m   1378\u001b[0m             \u001b[1;32mtry\u001b[0m\u001b[1;33m:\u001b[0m\u001b[1;33m\u001b[0m\u001b[1;33m\u001b[0m\u001b[0m\n\u001b[1;32m-> 1379\u001b[1;33m                 \u001b[0mresponse\u001b[0m\u001b[1;33m.\u001b[0m\u001b[0mbegin\u001b[0m\u001b[1;33m(\u001b[0m\u001b[1;33m)\u001b[0m\u001b[1;33m\u001b[0m\u001b[1;33m\u001b[0m\u001b[0m\n\u001b[0m\u001b[0;32m   1380\u001b[0m             \u001b[1;32mexcept\u001b[0m \u001b[0mConnectionError\u001b[0m\u001b[1;33m:\u001b[0m\u001b[1;33m\u001b[0m\u001b[1;33m\u001b[0m\u001b[0m\n\u001b[0;32m   1381\u001b[0m                 \u001b[0mself\u001b[0m\u001b[1;33m.\u001b[0m\u001b[0mclose\u001b[0m\u001b[1;33m(\u001b[0m\u001b[1;33m)\u001b[0m\u001b[1;33m\u001b[0m\u001b[1;33m\u001b[0m\u001b[0m\n",
      "\u001b[1;32m~\\anaconda3\\envs\\PythonAdv\\lib\\http\\client.py\u001b[0m in \u001b[0;36mbegin\u001b[1;34m(self)\u001b[0m\n\u001b[0;32m    309\u001b[0m         \u001b[1;31m# read until we get a non-100 response\u001b[0m\u001b[1;33m\u001b[0m\u001b[1;33m\u001b[0m\u001b[1;33m\u001b[0m\u001b[0m\n\u001b[0;32m    310\u001b[0m         \u001b[1;32mwhile\u001b[0m \u001b[1;32mTrue\u001b[0m\u001b[1;33m:\u001b[0m\u001b[1;33m\u001b[0m\u001b[1;33m\u001b[0m\u001b[0m\n\u001b[1;32m--> 311\u001b[1;33m             \u001b[0mversion\u001b[0m\u001b[1;33m,\u001b[0m \u001b[0mstatus\u001b[0m\u001b[1;33m,\u001b[0m \u001b[0mreason\u001b[0m \u001b[1;33m=\u001b[0m \u001b[0mself\u001b[0m\u001b[1;33m.\u001b[0m\u001b[0m_read_status\u001b[0m\u001b[1;33m(\u001b[0m\u001b[1;33m)\u001b[0m\u001b[1;33m\u001b[0m\u001b[1;33m\u001b[0m\u001b[0m\n\u001b[0m\u001b[0;32m    312\u001b[0m             \u001b[1;32mif\u001b[0m \u001b[0mstatus\u001b[0m \u001b[1;33m!=\u001b[0m \u001b[0mCONTINUE\u001b[0m\u001b[1;33m:\u001b[0m\u001b[1;33m\u001b[0m\u001b[1;33m\u001b[0m\u001b[0m\n\u001b[0;32m    313\u001b[0m                 \u001b[1;32mbreak\u001b[0m\u001b[1;33m\u001b[0m\u001b[1;33m\u001b[0m\u001b[0m\n",
      "\u001b[1;32m~\\anaconda3\\envs\\PythonAdv\\lib\\http\\client.py\u001b[0m in \u001b[0;36m_read_status\u001b[1;34m(self)\u001b[0m\n\u001b[0;32m    270\u001b[0m \u001b[1;33m\u001b[0m\u001b[0m\n\u001b[0;32m    271\u001b[0m     \u001b[1;32mdef\u001b[0m \u001b[0m_read_status\u001b[0m\u001b[1;33m(\u001b[0m\u001b[0mself\u001b[0m\u001b[1;33m)\u001b[0m\u001b[1;33m:\u001b[0m\u001b[1;33m\u001b[0m\u001b[1;33m\u001b[0m\u001b[0m\n\u001b[1;32m--> 272\u001b[1;33m         \u001b[0mline\u001b[0m \u001b[1;33m=\u001b[0m \u001b[0mstr\u001b[0m\u001b[1;33m(\u001b[0m\u001b[0mself\u001b[0m\u001b[1;33m.\u001b[0m\u001b[0mfp\u001b[0m\u001b[1;33m.\u001b[0m\u001b[0mreadline\u001b[0m\u001b[1;33m(\u001b[0m\u001b[0m_MAXLINE\u001b[0m \u001b[1;33m+\u001b[0m \u001b[1;36m1\u001b[0m\u001b[1;33m)\u001b[0m\u001b[1;33m,\u001b[0m \u001b[1;34m\"iso-8859-1\"\u001b[0m\u001b[1;33m)\u001b[0m\u001b[1;33m\u001b[0m\u001b[1;33m\u001b[0m\u001b[0m\n\u001b[0m\u001b[0;32m    273\u001b[0m         \u001b[1;32mif\u001b[0m \u001b[0mlen\u001b[0m\u001b[1;33m(\u001b[0m\u001b[0mline\u001b[0m\u001b[1;33m)\u001b[0m \u001b[1;33m>\u001b[0m \u001b[0m_MAXLINE\u001b[0m\u001b[1;33m:\u001b[0m\u001b[1;33m\u001b[0m\u001b[1;33m\u001b[0m\u001b[0m\n\u001b[0;32m    274\u001b[0m             \u001b[1;32mraise\u001b[0m \u001b[0mLineTooLong\u001b[0m\u001b[1;33m(\u001b[0m\u001b[1;34m\"status line\"\u001b[0m\u001b[1;33m)\u001b[0m\u001b[1;33m\u001b[0m\u001b[1;33m\u001b[0m\u001b[0m\n",
      "\u001b[1;32m~\\anaconda3\\envs\\PythonAdv\\lib\\socket.py\u001b[0m in \u001b[0;36mreadinto\u001b[1;34m(self, b)\u001b[0m\n\u001b[0;32m    584\u001b[0m         \u001b[1;32mwhile\u001b[0m \u001b[1;32mTrue\u001b[0m\u001b[1;33m:\u001b[0m\u001b[1;33m\u001b[0m\u001b[1;33m\u001b[0m\u001b[0m\n\u001b[0;32m    585\u001b[0m             \u001b[1;32mtry\u001b[0m\u001b[1;33m:\u001b[0m\u001b[1;33m\u001b[0m\u001b[1;33m\u001b[0m\u001b[0m\n\u001b[1;32m--> 586\u001b[1;33m                 \u001b[1;32mreturn\u001b[0m \u001b[0mself\u001b[0m\u001b[1;33m.\u001b[0m\u001b[0m_sock\u001b[0m\u001b[1;33m.\u001b[0m\u001b[0mrecv_into\u001b[0m\u001b[1;33m(\u001b[0m\u001b[0mb\u001b[0m\u001b[1;33m)\u001b[0m\u001b[1;33m\u001b[0m\u001b[1;33m\u001b[0m\u001b[0m\n\u001b[0m\u001b[0;32m    587\u001b[0m             \u001b[1;32mexcept\u001b[0m \u001b[0mtimeout\u001b[0m\u001b[1;33m:\u001b[0m\u001b[1;33m\u001b[0m\u001b[1;33m\u001b[0m\u001b[0m\n\u001b[0;32m    588\u001b[0m                 \u001b[0mself\u001b[0m\u001b[1;33m.\u001b[0m\u001b[0m_timeout_occurred\u001b[0m \u001b[1;33m=\u001b[0m \u001b[1;32mTrue\u001b[0m\u001b[1;33m\u001b[0m\u001b[1;33m\u001b[0m\u001b[0m\n",
      "\u001b[1;31mKeyboardInterrupt\u001b[0m: "
     ]
    }
   ],
   "source": [
    "cuisine_ingredients = list()\n",
    "\n",
    "for cuisine in cuisines:\n",
    "    \n",
    "    # Click the links to all recipes of each cuisine.\n",
    "    browser.links.find_by_partial_text(cuisine).click()\n",
    "    sleep(1)\n",
    "    browser.links.find_by_partial_text(f\"all {cuisine} recipes\").click()\n",
    "    sleep(1)\n",
    "    html = browser.html\n",
    "    soup = bs(html, 'lxml')\n",
    "    \n",
    "    # Retrieve all recipe names in the current page\n",
    "    recipes = [recipe.get_text() for recipe in soup.find_all(\"h3\", class_ = \"promo__title\")]\n",
    "\n",
    "    for recipe in recipes:\n",
    "        browser.links.find_by_partial_text(recipe).click()\n",
    "        sleep(1)\n",
    "        html = browser.html\n",
    "        soup = bs(html, 'lxml')\n",
    "\n",
    "        # Retrieve list of ingredients\n",
    "        ingredients = [ingredient.get_text() for ingredient in soup.find_all(\"a\", class_ = \"recipe-ingredients__link\")]\n",
    "        full_ingredients = \n",
    "\n",
    "        # Retrieve recipe image if available\n",
    "        try:\n",
    "            recipe_image = soup.select_one(\"div.recipe-media__image img\")[\"src\"]\n",
    "        except TypeError:\n",
    "            recipe_image = None\n",
    "            \n",
    "        # Append a dictionary with the above info to a list\n",
    "        cuisine_ingredients.append({\n",
    "            \"cuisine\": cuisine,\n",
    "            \"recipe\": recipe,\n",
    "            \"ingredients\": ingredients,\n",
    "            \"full_ingredients\": full_ingredients,\n",
    "            \"recipe_image\": recipe_image\n",
    "        })\n",
    "            \n",
    "        browser.back()\n",
    "        sleep(1)\n",
    "        \n",
    "    html = browser.html\n",
    "    soup = bs(html, 'lxml')\n",
    "    \n",
    "    # Click the next recipe page in navigation bar down to the bottom of the page (if available)\n",
    "    try:\n",
    "        max_page = int(soup.find_all(\"li\", class_=\"pagination__list-item\")[-2].get_text())\n",
    "\n",
    "        for i in range(2, max_page+1, 1):\n",
    "            if i == 2 or i == max_page:\n",
    "                browser.find_by_xpath(f'//*[@id=\"main-content\"]/div[1]/div[3]/div/div[6]/div[4]/ul/li[{max_page+1}]/a').click()\n",
    "            else:\n",
    "                browser.find_by_xpath(f'//*[@id=\"main-content\"]/div[1]/div[3]/div/div[6]/div[4]/ul/li[{max_page+2}]/a').click()\n",
    "\n",
    "            sleep(1)\n",
    "            html = browser.html\n",
    "            soup = bs(html, 'lxml')\n",
    "\n",
    "            # Retrieve all recipes in the current page\n",
    "            recipes = [recipe.get_text() for recipe in soup.find_all(\"h3\", class_ = \"promo__title\")]\n",
    "\n",
    "            for recipe in recipes:\n",
    "                browser.links.find_by_partial_text(recipe).click()\n",
    "                sleep(1)\n",
    "                html = browser.html\n",
    "                soup = bs(html, 'lxml')\n",
    "\n",
    "                # Retrieve list of ingredients\n",
    "                ingredients = [ingredient.get_text() for ingredient in soup.find_all(\"a\", class_ = \"recipe-ingredients__link\")]\n",
    "                \n",
    "                # Retrieve recipe image if available\n",
    "                try:\n",
    "                    recipe_image = soup.select_one(\"div.recipe-media__image img\")[\"src\"]\n",
    "                except TypeError:\n",
    "                    recipe_image = None\n",
    "            \n",
    "                # Append a dictionary with the above info to a list\n",
    "                cuisine_ingredients.append({\n",
    "                    \"cuisine\": cuisine,\n",
    "                    \"recipe\": recipe,\n",
    "                    \"ingredients\": ingredients,\n",
    "                    \"full_ingredients\": full_ingredients,\n",
    "                    \"recipe_image\": recipe_image\n",
    "                })\n",
    "                \n",
    "                browser.back()\n",
    "                sleep(1)\n",
    "\n",
    "        # Back to the starting url\n",
    "        browser.visit(url)\n",
    "        sleep(1)\n",
    "\n",
    "    except IndexError:\n",
    "        # Back to the starting url\n",
    "        browser.visit(url)\n",
    "        sleep(1)"
   ]
  },
  {
   "cell_type": "code",
   "execution_count": null,
   "metadata": {},
   "outputs": [],
   "source": []
  },
  {
   "cell_type": "code",
   "execution_count": null,
   "metadata": {},
   "outputs": [],
   "source": []
  },
  {
   "cell_type": "code",
   "execution_count": null,
   "metadata": {},
   "outputs": [],
   "source": []
  },
  {
   "cell_type": "code",
   "execution_count": null,
   "metadata": {},
   "outputs": [],
   "source": []
  },
  {
   "cell_type": "code",
   "execution_count": null,
   "metadata": {},
   "outputs": [],
   "source": [
    "# Quit the browser after scraping\n",
    "browser.quit()"
   ]
  },
  {
   "cell_type": "markdown",
   "metadata": {},
   "source": [
    "## Consolidate data scraped from zoo.org.au and environment.vic.gov.au"
   ]
  },
  {
   "cell_type": "code",
   "execution_count": null,
   "metadata": {},
   "outputs": [],
   "source": [
    "# Overview of data scraped from environment.vic.gov.au\n",
    "animal_info_image_environment_df = pd.DataFrame(animal_info_image_environment)\n",
    "animal_info_image_environment_df.head()"
   ]
  },
  {
   "cell_type": "code",
   "execution_count": null,
   "metadata": {},
   "outputs": [],
   "source": [
    "# Export to csv for merging against the vba fauna data\n",
    "final_animal_image_df.to_csv(\"../data/animal_image_to_merge.csv\", index=False)"
   ]
  },
  {
   "cell_type": "code",
   "execution_count": null,
   "metadata": {},
   "outputs": [],
   "source": []
  }
 ],
 "metadata": {
  "kernelspec": {
   "display_name": "Python [conda env:PythonAdv] *",
   "language": "python",
   "name": "conda-env-PythonAdv-py"
  },
  "language_info": {
   "codemirror_mode": {
    "name": "ipython",
    "version": 3
   },
   "file_extension": ".py",
   "mimetype": "text/x-python",
   "name": "python",
   "nbconvert_exporter": "python",
   "pygments_lexer": "ipython3",
   "version": "3.6.12"
  },
  "toc": {
   "base_numbering": 1,
   "nav_menu": {},
   "number_sections": true,
   "sideBar": true,
   "skip_h1_title": false,
   "title_cell": "Table of Contents",
   "title_sidebar": "Contents",
   "toc_cell": false,
   "toc_position": {},
   "toc_section_display": true,
   "toc_window_display": false
  },
  "varInspector": {
   "cols": {
    "lenName": 16,
    "lenType": 16,
    "lenVar": 40
   },
   "kernels_config": {
    "python": {
     "delete_cmd_postfix": "",
     "delete_cmd_prefix": "del ",
     "library": "var_list.py",
     "varRefreshCmd": "print(var_dic_list())"
    },
    "r": {
     "delete_cmd_postfix": ") ",
     "delete_cmd_prefix": "rm(",
     "library": "var_list.r",
     "varRefreshCmd": "cat(var_dic_list()) "
    }
   },
   "types_to_exclude": [
    "module",
    "function",
    "builtin_function_or_method",
    "instance",
    "_Feature"
   ],
   "window_display": false
  }
 },
 "nbformat": 4,
 "nbformat_minor": 4
}
