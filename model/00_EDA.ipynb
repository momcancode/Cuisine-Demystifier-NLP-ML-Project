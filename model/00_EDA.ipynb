{
 "cells": [
  {
   "cell_type": "code",
   "execution_count": 1,
   "metadata": {},
   "outputs": [],
   "source": [
    "# Import dependencies\n",
    "import pandas as pd\n",
    "import numpy as np\n",
    "import matplotlib.pyplot as plt\n",
    "import seaborn as sns\n",
    "from wordcloud import WordCloud, STOPWORDS\n",
    "%matplotlib inline"
   ]
  },
  {
   "cell_type": "code",
   "execution_count": 3,
   "metadata": {},
   "outputs": [],
   "source": [
    "# Read in the csv file\n",
    "df = pd.read_csv(\"../data/cuisine_full_ingredients.csv\")"
   ]
  },
  {
   "cell_type": "code",
   "execution_count": 4,
   "metadata": {},
   "outputs": [
    {
     "data": {
      "text/html": [
       "<div>\n",
       "<style scoped>\n",
       "    .dataframe tbody tr th:only-of-type {\n",
       "        vertical-align: middle;\n",
       "    }\n",
       "\n",
       "    .dataframe tbody tr th {\n",
       "        vertical-align: top;\n",
       "    }\n",
       "\n",
       "    .dataframe thead th {\n",
       "        text-align: right;\n",
       "    }\n",
       "</style>\n",
       "<table border=\"1\" class=\"dataframe\">\n",
       "  <thead>\n",
       "    <tr style=\"text-align: right;\">\n",
       "      <th></th>\n",
       "      <th>cuisine</th>\n",
       "      <th>recipe</th>\n",
       "      <th>ingredients</th>\n",
       "    </tr>\n",
       "  </thead>\n",
       "  <tbody>\n",
       "    <tr>\n",
       "      <th>3403</th>\n",
       "      <td>Italian</td>\n",
       "      <td>Leek risotto with parmesan crisps</td>\n",
       "      <td>['leeks', 'butter', 'tarragon', 'arborio rice'...</td>\n",
       "    </tr>\n",
       "    <tr>\n",
       "      <th>589</th>\n",
       "      <td>British</td>\n",
       "      <td>Chicken pie</td>\n",
       "      <td>['butter', 'flour', 'chicken stock', 'double c...</td>\n",
       "    </tr>\n",
       "    <tr>\n",
       "      <th>1404</th>\n",
       "      <td>British</td>\n",
       "      <td>Easy sage and onion stuffing</td>\n",
       "      <td>['onions', 'sage', 'breadcrumbs', 'butter', 'p...</td>\n",
       "    </tr>\n",
       "    <tr>\n",
       "      <th>1195</th>\n",
       "      <td>British</td>\n",
       "      <td>Pear crumble</td>\n",
       "      <td>['plain flour', 'butter', 'cinnamon', 'demerar...</td>\n",
       "    </tr>\n",
       "    <tr>\n",
       "      <th>3248</th>\n",
       "      <td>Italian</td>\n",
       "      <td>Chicken Marsala</td>\n",
       "      <td>['chicken breasts', 'plain flour', 'butter', '...</td>\n",
       "    </tr>\n",
       "    <tr>\n",
       "      <th>1840</th>\n",
       "      <td>Caribbean</td>\n",
       "      <td>Jerk chicken with pomegranate rice</td>\n",
       "      <td>['chicken breasts', 'chicken breasts', 'onion'...</td>\n",
       "    </tr>\n",
       "    <tr>\n",
       "      <th>3060</th>\n",
       "      <td>Indian</td>\n",
       "      <td>Tandoori chicken skewers</td>\n",
       "      <td>['chicken thigh', 'yoghurt', 'curry powder', '...</td>\n",
       "    </tr>\n",
       "    <tr>\n",
       "      <th>372</th>\n",
       "      <td>British</td>\n",
       "      <td>Paul Hollywood's Arctic roll</td>\n",
       "      <td>['sunflower oil', 'ice cream', 'raspberry jam'...</td>\n",
       "    </tr>\n",
       "    <tr>\n",
       "      <th>2635</th>\n",
       "      <td>French</td>\n",
       "      <td>Vegan French toast with berries</td>\n",
       "      <td>['maple syrup', 'vanilla extract', 'white brea...</td>\n",
       "    </tr>\n",
       "    <tr>\n",
       "      <th>1123</th>\n",
       "      <td>British</td>\n",
       "      <td>The Hairy Bikers' fish pie with cheese mash</td>\n",
       "      <td>['milk', 'onion', 'white fish', 'butter', 'pla...</td>\n",
       "    </tr>\n",
       "    <tr>\n",
       "      <th>1721</th>\n",
       "      <td>British</td>\n",
       "      <td>Vegetarian Lancashire hotpot</td>\n",
       "      <td>['olive oil', 'onions', 'carrots', 'swede', 'p...</td>\n",
       "    </tr>\n",
       "    <tr>\n",
       "      <th>3649</th>\n",
       "      <td>Italian</td>\n",
       "      <td>Sardine beccafico</td>\n",
       "      <td>['sardines', 'breadcrumbs', 'olives', 'capers'...</td>\n",
       "    </tr>\n",
       "    <tr>\n",
       "      <th>1909</th>\n",
       "      <td>Chinese</td>\n",
       "      <td>Chilli-fried tofu with egg-fried rice</td>\n",
       "      <td>['vegetable oil', 'tofu', 'cornflour', 'Sichua...</td>\n",
       "    </tr>\n",
       "    <tr>\n",
       "      <th>1814</th>\n",
       "      <td>Caribbean</td>\n",
       "      <td>Chicken with rice, peas and dumplings</td>\n",
       "      <td>['kidney beans', 'coconut milk', 'spring onion...</td>\n",
       "    </tr>\n",
       "    <tr>\n",
       "      <th>3776</th>\n",
       "      <td>Italian</td>\n",
       "      <td>Tiramisu</td>\n",
       "      <td>['eggs', 'caster sugar', 'mascarpone', 'double...</td>\n",
       "    </tr>\n",
       "    <tr>\n",
       "      <th>913</th>\n",
       "      <td>British</td>\n",
       "      <td>Tarragon and thyme salad dressing</td>\n",
       "      <td>['olive oil', 'tarragon', 'thyme', 'bay leaf',...</td>\n",
       "    </tr>\n",
       "    <tr>\n",
       "      <th>4244</th>\n",
       "      <td>South American</td>\n",
       "      <td>Chicken and chorizo empanadas</td>\n",
       "      <td>['chicken thighs', 'olive oil', 'onion', 'garl...</td>\n",
       "    </tr>\n",
       "    <tr>\n",
       "      <th>1697</th>\n",
       "      <td>British</td>\n",
       "      <td>Turkey pasta bake</td>\n",
       "      <td>['fusilli', 'sunflower oil', 'bacon', 'onion',...</td>\n",
       "    </tr>\n",
       "    <tr>\n",
       "      <th>1177</th>\n",
       "      <td>British</td>\n",
       "      <td>Easy parkin</td>\n",
       "      <td>['butter', 'brown sugar', 'golden syrup', 'pla...</td>\n",
       "    </tr>\n",
       "    <tr>\n",
       "      <th>2874</th>\n",
       "      <td>Indian</td>\n",
       "      <td>Lamb with green chillies</td>\n",
       "      <td>['turmeric', 'fennel seeds', 'garam masala', '...</td>\n",
       "    </tr>\n",
       "  </tbody>\n",
       "</table>\n",
       "</div>"
      ],
      "text/plain": [
       "             cuisine                                       recipe  \\\n",
       "3403         Italian            Leek risotto with parmesan crisps   \n",
       "589          British                                  Chicken pie   \n",
       "1404         British                 Easy sage and onion stuffing   \n",
       "1195         British                                 Pear crumble   \n",
       "3248         Italian                              Chicken Marsala   \n",
       "1840       Caribbean           Jerk chicken with pomegranate rice   \n",
       "3060          Indian                     Tandoori chicken skewers   \n",
       "372          British                 Paul Hollywood's Arctic roll   \n",
       "2635          French             Vegan French toast with berries    \n",
       "1123         British  The Hairy Bikers' fish pie with cheese mash   \n",
       "1721         British                 Vegetarian Lancashire hotpot   \n",
       "3649         Italian                            Sardine beccafico   \n",
       "1909         Chinese        Chilli-fried tofu with egg-fried rice   \n",
       "1814       Caribbean        Chicken with rice, peas and dumplings   \n",
       "3776         Italian                                     Tiramisu   \n",
       "913          British            Tarragon and thyme salad dressing   \n",
       "4244  South American                Chicken and chorizo empanadas   \n",
       "1697         British                            Turkey pasta bake   \n",
       "1177         British                                  Easy parkin   \n",
       "2874          Indian                     Lamb with green chillies   \n",
       "\n",
       "                                            ingredients  \n",
       "3403  ['leeks', 'butter', 'tarragon', 'arborio rice'...  \n",
       "589   ['butter', 'flour', 'chicken stock', 'double c...  \n",
       "1404  ['onions', 'sage', 'breadcrumbs', 'butter', 'p...  \n",
       "1195  ['plain flour', 'butter', 'cinnamon', 'demerar...  \n",
       "3248  ['chicken breasts', 'plain flour', 'butter', '...  \n",
       "1840  ['chicken breasts', 'chicken breasts', 'onion'...  \n",
       "3060  ['chicken thigh', 'yoghurt', 'curry powder', '...  \n",
       "372   ['sunflower oil', 'ice cream', 'raspberry jam'...  \n",
       "2635  ['maple syrup', 'vanilla extract', 'white brea...  \n",
       "1123  ['milk', 'onion', 'white fish', 'butter', 'pla...  \n",
       "1721  ['olive oil', 'onions', 'carrots', 'swede', 'p...  \n",
       "3649  ['sardines', 'breadcrumbs', 'olives', 'capers'...  \n",
       "1909  ['vegetable oil', 'tofu', 'cornflour', 'Sichua...  \n",
       "1814  ['kidney beans', 'coconut milk', 'spring onion...  \n",
       "3776  ['eggs', 'caster sugar', 'mascarpone', 'double...  \n",
       "913   ['olive oil', 'tarragon', 'thyme', 'bay leaf',...  \n",
       "4244  ['chicken thighs', 'olive oil', 'onion', 'garl...  \n",
       "1697  ['fusilli', 'sunflower oil', 'bacon', 'onion',...  \n",
       "1177  ['butter', 'brown sugar', 'golden syrup', 'pla...  \n",
       "2874  ['turmeric', 'fennel seeds', 'garam masala', '...  "
      ]
     },
     "execution_count": 4,
     "metadata": {},
     "output_type": "execute_result"
    }
   ],
   "source": [
    "# Overview of the data set\n",
    "df.sample(20, random_state=1)"
   ]
  },
  {
   "cell_type": "markdown",
   "metadata": {},
   "source": [
    "Cuisine is the target variable. The ingredients for every recipe are given as a list."
   ]
  },
  {
   "cell_type": "code",
   "execution_count": 5,
   "metadata": {},
   "outputs": [
    {
     "name": "stdout",
     "output_type": "stream",
     "text": [
      "<class 'pandas.core.frame.DataFrame'>\n",
      "RangeIndex: 4724 entries, 0 to 4723\n",
      "Data columns (total 3 columns):\n",
      " #   Column       Non-Null Count  Dtype \n",
      "---  ------       --------------  ----- \n",
      " 0   cuisine      4724 non-null   object\n",
      " 1   recipe       4724 non-null   object\n",
      " 2   ingredients  4724 non-null   object\n",
      "dtypes: object(3)\n",
      "memory usage: 110.8+ KB\n"
     ]
    }
   ],
   "source": [
    "# There are no null values\n",
    "df.info()"
   ]
  },
  {
   "cell_type": "code",
   "execution_count": 6,
   "metadata": {},
   "outputs": [
    {
     "name": "stdout",
     "output_type": "stream",
     "text": [
      "There are 22 cuisines represented in the dataset.\n"
     ]
    }
   ],
   "source": [
    "print(f\"There are {df.cuisine.nunique()} cuisines represented in the dataset.\")"
   ]
  },
  {
   "cell_type": "code",
   "execution_count": 7,
   "metadata": {},
   "outputs": [
    {
     "data": {
      "image/png": "[encoded data removed]",
      "text/plain": [
       "<Figure size 792x504 with 1 Axes>"
      ]
     },
     "metadata": {
      "needs_background": "light"
     },
     "output_type": "display_data"
    }
   ],
   "source": [
    "# Visualise cuisine distribution\n",
    "y = df.cuisine\n",
    "plt.figure(figsize=(11,7))\n",
    "sns.countplot(y=y, order=y.value_counts().reset_index()[\"index\"])\n",
    "plt.title(\"Cuisine Distribution\")\n",
    "plt.show()"
   ]
  },
  {
   "cell_type": "markdown",
   "metadata": {},
   "source": [
    "As can be seen, the cuisine classification is imbalanced with the highest number of recipes in British cuisine. This can be explained that the data has been scraped from a website in uk. The top player is followed by Italian, French, and Indian cuisines. The least represented cuisines are the Korean, South American, and Portuguese recipes."
   ]
  },
  {
   "cell_type": "code",
   "execution_count": null,
   "metadata": {},
   "outputs": [],
   "source": []
  },
  {
   "cell_type": "code",
   "execution_count": null,
   "metadata": {},
   "outputs": [],
   "source": []
  },
  {
   "cell_type": "code",
   "execution_count": null,
   "metadata": {},
   "outputs": [],
   "source": []
  },
  {
   "cell_type": "code",
   "execution_count": null,
   "metadata": {},
   "outputs": [],
   "source": []
  },
  {
   "cell_type": "code",
   "execution_count": null,
   "metadata": {},
   "outputs": [],
   "source": []
  },
  {
   "cell_type": "code",
   "execution_count": null,
   "metadata": {},
   "outputs": [],
   "source": [
    "df.ingredients = df.ingredients.str.replace(\"[\", \"\")\n",
    "df.ingredients = df.ingredients.str.replace(\"]\", \"\")"
   ]
  },
  {
   "cell_type": "code",
   "execution_count": null,
   "metadata": {},
   "outputs": [],
   "source": [
    "df.head()"
   ]
  },
  {
   "cell_type": "code",
   "execution_count": null,
   "metadata": {},
   "outputs": [],
   "source": [
    "ingredient_check = df.ingredients.str.split(\",\").apply(len)\n",
    "print(f\"Maximum number of ingredients in a recipe: {ingredient_check.max()}\")\n",
    "print(f\"Minimum number of ingredients in a recipe: {ingredient_check.min()}\")"
   ]
  },
  {
   "cell_type": "code",
   "execution_count": null,
   "metadata": {},
   "outputs": [],
   "source": [
    "max_ingredient_recipe = df[ingredient_check == ingredient_check.max()]\n",
    "max_ingredient_recipe"
   ]
  },
  {
   "cell_type": "code",
   "execution_count": null,
   "metadata": {},
   "outputs": [],
   "source": [
    "max_ingredient_recipe.ingredients.unique()"
   ]
  },
  {
   "cell_type": "code",
   "execution_count": null,
   "metadata": {},
   "outputs": [],
   "source": [
    "max_ingredient_recipe = df[ingredient_check == ingredient_check.min()]\n",
    "max_ingredient_recipe"
   ]
  },
  {
   "cell_type": "code",
   "execution_count": null,
   "metadata": {},
   "outputs": [],
   "source": [
    "df.info()"
   ]
  },
  {
   "cell_type": "code",
   "execution_count": null,
   "metadata": {},
   "outputs": [],
   "source": []
  },
  {
   "cell_type": "code",
   "execution_count": null,
   "metadata": {},
   "outputs": [],
   "source": []
  },
  {
   "cell_type": "code",
   "execution_count": null,
   "metadata": {},
   "outputs": [],
   "source": []
  },
  {
   "cell_type": "code",
   "execution_count": null,
   "metadata": {},
   "outputs": [],
   "source": []
  },
  {
   "cell_type": "code",
   "execution_count": null,
   "metadata": {},
   "outputs": [],
   "source": []
  },
  {
   "cell_type": "code",
   "execution_count": null,
   "metadata": {},
   "outputs": [],
   "source": []
  },
  {
   "cell_type": "code",
   "execution_count": null,
   "metadata": {},
   "outputs": [],
   "source": []
  },
  {
   "cell_type": "code",
   "execution_count": null,
   "metadata": {},
   "outputs": [],
   "source": []
  },
  {
   "cell_type": "code",
   "execution_count": null,
   "metadata": {},
   "outputs": [],
   "source": []
  },
  {
   "cell_type": "code",
   "execution_count": null,
   "metadata": {},
   "outputs": [],
   "source": []
  },
  {
   "cell_type": "code",
   "execution_count": null,
   "metadata": {},
   "outputs": [],
   "source": []
  }
 ],
 "metadata": {
  "kernelspec": {
   "display_name": "Python [conda env:PythonAdv] *",
   "language": "python",
   "name": "conda-env-PythonAdv-py"
  },
  "language_info": {
   "codemirror_mode": {
    "name": "ipython",
    "version": 3
   },
   "file_extension": ".py",
   "mimetype": "text/x-python",
   "name": "python",
   "nbconvert_exporter": "python",
   "pygments_lexer": "ipython3",
   "version": "3.6.12"
  }
 },
 "nbformat": 4,
 "nbformat_minor": 4
}
