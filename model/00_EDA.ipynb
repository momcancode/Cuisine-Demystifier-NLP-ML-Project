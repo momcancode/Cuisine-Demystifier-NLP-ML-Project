{
 "cells": [
  {
   "cell_type": "code",
   "execution_count": 1,
   "metadata": {},
   "outputs": [
    {
     "name": "stderr",
     "output_type": "stream",
     "text": [
      "[nltk_data] Downloading package punkt to\n",
      "[nltk_data]     C:\\Users\\Boss\\AppData\\Roaming\\nltk_data...\n",
      "[nltk_data]   Package punkt is already up-to-date!\n",
      "[nltk_data] Downloading package stopwords to\n",
      "[nltk_data]     C:\\Users\\Boss\\AppData\\Roaming\\nltk_data...\n",
      "[nltk_data]   Package stopwords is already up-to-date!\n",
      "[nltk_data] Downloading package wordnet to\n",
      "[nltk_data]     C:\\Users\\Boss\\AppData\\Roaming\\nltk_data...\n",
      "[nltk_data]   Package wordnet is already up-to-date!\n"
     ]
    }
   ],
   "source": [
    "# Import dependencies\n",
    "import pandas as pd\n",
    "import numpy as np\n",
    "import matplotlib.pyplot as plt\n",
    "import seaborn as sns\n",
    "import re\n",
    "import string\n",
    "\n",
    "# Process accented characters\n",
    "import unicodedata\n",
    "\n",
    "# NLTK\n",
    "import nltk\n",
    "nltk.download('punkt')\n",
    "from nltk.tokenize import word_tokenize\n",
    "from nltk.corpus import stopwords\n",
    "nltk.download('stopwords')\n",
    "stop_words_nltk = set(stopwords.words('english'))\n",
    "from nltk.stem import WordNetLemmatizer\n",
    "nltk.download('wordnet')\n",
    "lemmatizer=WordNetLemmatizer()"
   ]
  },
  {
   "cell_type": "markdown",
   "metadata": {},
   "source": [
    "## Overview"
   ]
  },
  {
   "cell_type": "code",
   "execution_count": 2,
   "metadata": {},
   "outputs": [],
   "source": [
    "# Read in the csv file\n",
    "df = pd.read_csv(\"../data/cuisine_full_ingredients.csv\")"
   ]
  },
  {
   "cell_type": "code",
   "execution_count": 3,
   "metadata": {},
   "outputs": [
    {
     "data": {
      "text/html": [
       "<div>\n",
       "<style scoped>\n",
       "    .dataframe tbody tr th:only-of-type {\n",
       "        vertical-align: middle;\n",
       "    }\n",
       "\n",
       "    .dataframe tbody tr th {\n",
       "        vertical-align: top;\n",
       "    }\n",
       "\n",
       "    .dataframe thead th {\n",
       "        text-align: right;\n",
       "    }\n",
       "</style>\n",
       "<table border=\"1\" class=\"dataframe\">\n",
       "  <thead>\n",
       "    <tr style=\"text-align: right;\">\n",
       "      <th></th>\n",
       "      <th>cuisine</th>\n",
       "      <th>recipe</th>\n",
       "      <th>full_ingredients</th>\n",
       "    </tr>\n",
       "  </thead>\n",
       "  <tbody>\n",
       "    <tr>\n",
       "      <th>3727</th>\n",
       "      <td>Italian</td>\n",
       "      <td>Spicy fregola with scallops and crispy kale</td>\n",
       "      <td>['olive oil, for shallow and deep frying', '1 ...</td>\n",
       "    </tr>\n",
       "    <tr>\n",
       "      <th>1923</th>\n",
       "      <td>Chinese</td>\n",
       "      <td>Chunky bacon and cucumber salad</td>\n",
       "      <td>['1 tbsp groundnut oil', '6 long dried chillie...</td>\n",
       "    </tr>\n",
       "    <tr>\n",
       "      <th>3552</th>\n",
       "      <td>Italian</td>\n",
       "      <td>Polenta pork</td>\n",
       "      <td>['2 tbsp sunflower oil ', '12 rashers thick ri...</td>\n",
       "    </tr>\n",
       "    <tr>\n",
       "      <th>1146</th>\n",
       "      <td>British</td>\n",
       "      <td>Oat fig stuffing</td>\n",
       "      <td>['140g/5oz butter', '100g/3½oz jumbo oats', '1...</td>\n",
       "    </tr>\n",
       "    <tr>\n",
       "      <th>3195</th>\n",
       "      <td>Italian</td>\n",
       "      <td>Bolognese with tagliatelle</td>\n",
       "      <td>['250g/9oz 00 flour', '3-4 medium free-range e...</td>\n",
       "    </tr>\n",
       "    <tr>\n",
       "      <th>1643</th>\n",
       "      <td>British</td>\n",
       "      <td>Textured potato salad</td>\n",
       "      <td>['675g/1½lb floury potatoes, peeled and cut in...</td>\n",
       "    </tr>\n",
       "    <tr>\n",
       "      <th>3054</th>\n",
       "      <td>Indian</td>\n",
       "      <td>Tandoori lamb wrap</td>\n",
       "      <td>['150ml/5fl oz Greek-style yoghurt ', '½ small...</td>\n",
       "    </tr>\n",
       "    <tr>\n",
       "      <th>842</th>\n",
       "      <td>British</td>\n",
       "      <td>Gammon and pease pudding</td>\n",
       "      <td>['300g/10oz dried yellow split peas', '50g/2oz...</td>\n",
       "    </tr>\n",
       "    <tr>\n",
       "      <th>505</th>\n",
       "      <td>British</td>\n",
       "      <td>Braised shin of beef with parsnip purée</td>\n",
       "      <td>['4kg/9lb beef shin, on the bone', 'sea salt a...</td>\n",
       "    </tr>\n",
       "    <tr>\n",
       "      <th>2224</th>\n",
       "      <td>French</td>\n",
       "      <td>Mary Berry's celeriac remoulade</td>\n",
       "      <td>['650g/1lb 7oz celeriac, peeled and sliced int...</td>\n",
       "    </tr>\n",
       "  </tbody>\n",
       "</table>\n",
       "</div>"
      ],
      "text/plain": [
       "      cuisine                                       recipe  \\\n",
       "3727  Italian  Spicy fregola with scallops and crispy kale   \n",
       "1923  Chinese              Chunky bacon and cucumber salad   \n",
       "3552  Italian                                Polenta pork    \n",
       "1146  British                             Oat fig stuffing   \n",
       "3195  Italian                   Bolognese with tagliatelle   \n",
       "1643  British                        Textured potato salad   \n",
       "3054   Indian                           Tandoori lamb wrap   \n",
       "842   British                     Gammon and pease pudding   \n",
       "505   British      Braised shin of beef with parsnip purée   \n",
       "2224   French              Mary Berry's celeriac remoulade   \n",
       "\n",
       "                                       full_ingredients  \n",
       "3727  ['olive oil, for shallow and deep frying', '1 ...  \n",
       "1923  ['1 tbsp groundnut oil', '6 long dried chillie...  \n",
       "3552  ['2 tbsp sunflower oil ', '12 rashers thick ri...  \n",
       "1146  ['140g/5oz butter', '100g/3½oz jumbo oats', '1...  \n",
       "3195  ['250g/9oz 00 flour', '3-4 medium free-range e...  \n",
       "1643  ['675g/1½lb floury potatoes, peeled and cut in...  \n",
       "3054  ['150ml/5fl oz Greek-style yoghurt ', '½ small...  \n",
       "842   ['300g/10oz dried yellow split peas', '50g/2oz...  \n",
       "505   ['4kg/9lb beef shin, on the bone', 'sea salt a...  \n",
       "2224  ['650g/1lb 7oz celeriac, peeled and sliced int...  "
      ]
     },
     "execution_count": 3,
     "metadata": {},
     "output_type": "execute_result"
    }
   ],
   "source": [
    "# Overview of the data set\n",
    "df.sample(10, random_state=2)"
   ]
  },
  {
   "cell_type": "code",
   "execution_count": 4,
   "metadata": {},
   "outputs": [
    {
     "name": "stdout",
     "output_type": "stream",
     "text": [
      "<class 'pandas.core.frame.DataFrame'>\n",
      "RangeIndex: 4724 entries, 0 to 4723\n",
      "Data columns (total 3 columns):\n",
      " #   Column            Non-Null Count  Dtype \n",
      "---  ------            --------------  ----- \n",
      " 0   cuisine           4724 non-null   object\n",
      " 1   recipe            4724 non-null   object\n",
      " 2   full_ingredients  4724 non-null   object\n",
      "dtypes: object(3)\n",
      "memory usage: 110.8+ KB\n"
     ]
    }
   ],
   "source": [
    "# There are no null values\n",
    "df.info()"
   ]
  },
  {
   "cell_type": "code",
   "execution_count": 5,
   "metadata": {},
   "outputs": [
    {
     "name": "stdout",
     "output_type": "stream",
     "text": [
      "There are 22 cuisines represented in the dataset.\n"
     ]
    }
   ],
   "source": [
    "print(f\"There are {df.cuisine.nunique()} cuisines represented in the dataset.\")"
   ]
  },
  {
   "cell_type": "code",
   "execution_count": 6,
   "metadata": {},
   "outputs": [
    {
     "data": {
      "image/png": "[encoded data removed]",
      "text/plain": [
       "<Figure size 792x504 with 1 Axes>"
      ]
     },
     "metadata": {
      "needs_background": "light"
     },
     "output_type": "display_data"
    }
   ],
   "source": [
    "# Visualise cuisine distribution\n",
    "y = df.cuisine\n",
    "plt.figure(figsize=(11,7))\n",
    "sns.countplot(y=y, order=y.value_counts().reset_index()[\"index\"])\n",
    "plt.title(\"Cuisine Distribution\")\n",
    "plt.show()"
   ]
  },
  {
   "cell_type": "code",
   "execution_count": 7,
   "metadata": {},
   "outputs": [
    {
     "data": {
      "text/plain": [
       "British                       0.309907\n",
       "Italian                       0.150720\n",
       "French                        0.103302\n",
       "Indian                        0.082769\n",
       "American                      0.066046\n",
       "Thai and South-East Asian     0.047417\n",
       "Chinese                       0.042549\n",
       "Turkish and Middle Eastern    0.029001\n",
       "Mexican                       0.026461\n",
       "Spanish                       0.022439\n",
       "Japanese                      0.017993\n",
       "Caribbean                     0.017146\n",
       "East European                 0.016300\n",
       "North African                 0.016088\n",
       "Greek                         0.012913\n",
       "Nordic                        0.009526\n",
       "Irish                         0.006774\n",
       "Pakistani                     0.006351\n",
       "African                       0.004869\n",
       "Korean                        0.004445\n",
       "South American                0.003810\n",
       "Portuguese                    0.003175\n",
       "Name: cuisine, dtype: float64"
      ]
     },
     "execution_count": 7,
     "metadata": {},
     "output_type": "execute_result"
    }
   ],
   "source": [
    "# Class distribution in the dataset\n",
    "df.cuisine.value_counts()/df.shape[0]"
   ]
  },
  {
   "cell_type": "markdown",
   "metadata": {},
   "source": [
    "As can be seen, the cuisine classification is imbalanced with the highest number of recipes in British cuisine. This can be explained because the data has been scraped from a website in uk. The top player is followed by Italian, French, and Indian cuisines. The least represented cuisines are the Korean, South American, and Portuguese recipes.\n",
    "\n",
    "Let's take only column cuisine and full_ingredients"
   ]
  },
  {
   "cell_type": "code",
   "execution_count": 8,
   "metadata": {},
   "outputs": [
    {
     "data": {
      "text/plain": [
       "(4724, 2)"
      ]
     },
     "execution_count": 8,
     "metadata": {},
     "output_type": "execute_result"
    }
   ],
   "source": [
    "df = df[[\"cuisine\", \"full_ingredients\"]]\n",
    "df.shape"
   ]
  },
  {
   "cell_type": "markdown",
   "metadata": {},
   "source": [
    "## Text cleaning"
   ]
  },
  {
   "attachments": {
    "Screenshot%202020-10-16%20125219.png": {
     "image/png": "[encoded data removed]"
    }
   },
   "cell_type": "markdown",
   "metadata": {},
   "source": [
    "![Screenshot%202020-10-16%20125219.png](attachment:Screenshot%202020-10-16%20125219.png)\n",
    "<div style=\"text-align: right\"> (Image source: https://www.bbc.co.uk/food/recipes/californian_sourdough_59703) </div>"
   ]
  },
  {
   "cell_type": "markdown",
   "metadata": {},
   "source": [
    "The above text image illustrates how a typical list of ingredients looks like. As I'm interested in a multi-class classification problem, I'd need to lowercase, remove special characters including digits, and text with digits, etc. As the data is from a well-known website, I assume that there are very few spelling errors."
   ]
  },
  {
   "cell_type": "code",
   "execution_count": 9,
   "metadata": {},
   "outputs": [],
   "source": [
    "# Convert to lowercase\n",
    "\n",
    "df.full_ingredients = df.full_ingredients.str.lower()"
   ]
  },
  {
   "cell_type": "markdown",
   "metadata": {},
   "source": [
    "### Special characters"
   ]
  },
  {
   "cell_type": "code",
   "execution_count": 10,
   "metadata": {},
   "outputs": [
    {
     "data": {
      "text/plain": [
       "[\"['2 large red or orange peppers, de-seeded and cut into bite-sized chunks', '2 sweet potatoes, scrubbed and cut into bite-sized chunks', '2 red onions, cut into bite-sized chunks', '200g/7oz cherry tomatoes', '1 tbsp harissa spice mix', '1 tbsp olive oil', 'sea salt and freshly ground black pepper']\",\n",
       " \"['350g/12oz dried black-eyed beans', '900g/2lb sirloin steak, cut into 1cm/½ in cubes', '325ml/11½fl oz vegetable oil', '1 large onion, chopped', '4 garlic cloves, finely chopped', '4cm/2in piece fresh root ginger, grated', '1 tsp dried chilli flakes', '2 x 400g tins chopped tomatoes', '2 tbsp tomato purée', '2 beef stock cubes', '2 sprigs fresh thyme', '1 scotch bonnet chilli, chopped', '3 ripe plantain, peeled and sliced', 'salt and freshly ground black pepper']\"]"
      ]
     },
     "execution_count": 10,
     "metadata": {},
     "output_type": "execute_result"
    }
   ],
   "source": [
    "# To investigate special characters (including digits) in the full_ingredients\n",
    "## Let's firstly mix all text in the full_ingredients column into a list\n",
    "\n",
    "[x for x in df.full_ingredients][:2]"
   ]
  },
  {
   "cell_type": "code",
   "execution_count": 11,
   "metadata": {},
   "outputs": [
    {
     "data": {
      "text/plain": [
       "['[', \"'\", '2', ' ', 'l', 'a', 'r', 'g', 'e', ' ', 'r', 'e', 'd', ' ', 'o']"
      ]
     },
     "execution_count": 11,
     "metadata": {},
     "output_type": "execute_result"
    }
   ],
   "source": [
    "## Then seperate the texts into characters\n",
    "characters = [char for ing_list in df.full_ingredients for char in ing_list]\n",
    "characters[:15]"
   ]
  },
  {
   "cell_type": "code",
   "execution_count": 12,
   "metadata": {},
   "outputs": [],
   "source": [
    "# Create a function to get unique special characters\n",
    "def unique_special_chars():\n",
    "    remaining_characters = [char for ing_list in df.full_ingredients for char in ing_list]\n",
    "    outcome = ' '.join(sorted([char for char in set(\n",
    "        remaining_characters) if re.findall('[^ a-z]', char)]))\n",
    "    return outcome"
   ]
  },
  {
   "cell_type": "code",
   "execution_count": 13,
   "metadata": {},
   "outputs": [
    {
     "data": {
      "text/plain": [
       "'! \" % & \\' ( ) , - . / 0 1 2 3 4 5 6 7 8 9 : ; [ \\\\ ] ` £ ¼ ½ ¾ × â ã ä ç è é ê î ï ñ ó ô û ü ō ư ấ ớ – ‘ ’ “ ” ⁄ ⅓ ⅔ ⅛ ⅜ ⅝'"
      ]
     },
     "execution_count": 13,
     "metadata": {},
     "output_type": "execute_result"
    }
   ],
   "source": [
    "# Get a set of unique characters, exclude a to z and whitespace, then sort them in order\n",
    "unique_special_chars()"
   ]
  },
  {
   "cell_type": "markdown",
   "metadata": {},
   "source": [
    "Firstly, let's remove all of the digits (including fractions like `¼`) and words with digits (e.g. `900g/2lb`)."
   ]
  },
  {
   "cell_type": "code",
   "execution_count": 14,
   "metadata": {},
   "outputs": [],
   "source": [
    "df.full_ingredients = df.full_ingredients.str.replace(r'\\w*[\\d¼½¾⅓⅔⅛⅜⅝]\\w*', '')"
   ]
  },
  {
   "cell_type": "markdown",
   "metadata": {},
   "source": [
    "Then remove the punctuations."
   ]
  },
  {
   "cell_type": "code",
   "execution_count": 15,
   "metadata": {},
   "outputs": [
    {
     "name": "stdout",
     "output_type": "stream",
     "text": [
      "Possible punctuations to be removed !\"#$%&'()*+,-./:;<=>?@[\\]^_`{|}~\n"
     ]
    }
   ],
   "source": [
    "print(f\"Possible punctuations to be removed {string.punctuation}\")"
   ]
  },
  {
   "cell_type": "markdown",
   "metadata": {},
   "source": [
    "In the above list, `'` can be like quotation marks wrapping around an ingredient or apostrophes. Apostrophes `'` or `’` have three main uses:\n",
    "1. To indicate possession\n",
    "2. To indicate a word contraction (e.g. `do not` to `don't`)\n",
    "3. To separate the s from plural letters/numbers and abbreviations followed by periods\n",
    "\n",
    "As the dataset's main features are ingredient names (in noun form), word contraction should not be an issue. I'll simply drop `'` and `’`. Although this approach is not perfect, e.g. `lamb’s` will become `lambs`, I'll later apply other techniques like stemming or lemmatization to map most of the different forms of a word to its base word."
   ]
  },
  {
   "cell_type": "code",
   "execution_count": 16,
   "metadata": {},
   "outputs": [],
   "source": [
    "# Create a function to get examples covering a character\n",
    "def examples_for_character(rule):\n",
    "    outcome = list(set([word for ing_list in df.full_ingredients for word in ing_list.split(\n",
    "        \" \") if re.findall(rule, word)]))\n",
    "    return outcome"
   ]
  },
  {
   "cell_type": "markdown",
   "metadata": {},
   "source": [
    "Following are some examples of some sets of characters with `'` or `’`"
   ]
  },
  {
   "cell_type": "code",
   "execution_count": 17,
   "metadata": {},
   "outputs": [
    {
     "data": {
      "text/plain": [
       "[\"'micro\",\n",
       " \"saucepan',\",\n",
       " \"'seasoned\",\n",
       " \"'sea-salt\",\n",
       " \"biscuits)',\",\n",
       " 'doesn’t',\n",
       " \"royal)',\",\n",
       " \"cubes',\",\n",
       " \"scissors',\",\n",
       " \"'burger\",\n",
       " \"tamarind',\",\n",
       " \"anise',\",\n",
       " \"drizzle',\",\n",
       " \"roses',\",\n",
       " \"flambé',\",\n",
       " \"frozen)',\",\n",
       " \"wraps',\",\n",
       " \"'basmati\",\n",
       " \"'sweetcorn\",\n",
       " \"'snipped\",\n",
       " \"bind',\",\n",
       " \"steak',\",\n",
       " \"split',\",\n",
       " \"washed',\",\n",
       " \"whipped']\",\n",
       " \"'blinis',\",\n",
       " \"'crushed\",\n",
       " \"conserve']\",\n",
       " \"speck)',\",\n",
       " \"made)',\"]"
      ]
     },
     "execution_count": 17,
     "metadata": {},
     "output_type": "execute_result"
    }
   ],
   "source": [
    "examples_for_character(\"['’]\")[:30]"
   ]
  },
  {
   "cell_type": "code",
   "execution_count": 18,
   "metadata": {},
   "outputs": [],
   "source": [
    "# Remove punctuations\n",
    "df.full_ingredients = df.full_ingredients.str.translate(str.maketrans('', '', string.punctuation))"
   ]
  },
  {
   "cell_type": "code",
   "execution_count": 19,
   "metadata": {},
   "outputs": [
    {
     "data": {
      "text/plain": [
       "[' large red or orange peppers deseeded and cut into bitesized chunks  sweet potatoes scrubbed and cut into bitesized chunks  red onions cut into bitesized chunks  cherry tomatoes  tbsp harissa spice mix  tbsp olive oil sea salt and freshly ground black pepper',\n",
       " ' dried blackeyed beans  sirloin steak cut into  in cubes  oz vegetable oil  large onion chopped  garlic cloves finely chopped  piece fresh root ginger grated  tsp dried chilli flakes  x  tins chopped tomatoes  tbsp tomato purée  beef stock cubes  sprigs fresh thyme  scotch bonnet chilli chopped  ripe plantain peeled and sliced salt and freshly ground black pepper']"
      ]
     },
     "execution_count": 19,
     "metadata": {},
     "output_type": "execute_result"
    }
   ],
   "source": [
    "# Review some ingredient text up to this step\n",
    "[x for x in df.full_ingredients][:2]"
   ]
  },
  {
   "cell_type": "markdown",
   "metadata": {},
   "source": [
    "Let's examine the remaining special characters."
   ]
  },
  {
   "cell_type": "code",
   "execution_count": 20,
   "metadata": {},
   "outputs": [
    {
     "data": {
      "text/plain": [
       "'£ × â ã ä ç è é ê î ï ñ ó ô û ü ō ư ấ ớ – ‘ ’ “ ” ⁄'"
      ]
     },
     "execution_count": 20,
     "metadata": {},
     "output_type": "execute_result"
    }
   ],
   "source": [
    "unique_special_chars()"
   ]
  },
  {
   "cell_type": "markdown",
   "metadata": {},
   "source": [
    "Let's examine sets of characters with `£`, `×`, `–`, and `⁄`"
   ]
  },
  {
   "cell_type": "code",
   "execution_count": 21,
   "metadata": {},
   "outputs": [
    {
     "data": {
      "text/plain": [
       "['⁄',\n",
       " 'litres–',\n",
       " '––wide',\n",
       " 'small–medium',\n",
       " '–',\n",
       " '––',\n",
       " 'litre–',\n",
       " 'oz–',\n",
       " 'medium–hot',\n",
       " 'cm–',\n",
       " 'self–raising',\n",
       " '£',\n",
       " 'medium–large',\n",
       " '×']"
      ]
     },
     "execution_count": 21,
     "metadata": {},
     "output_type": "execute_result"
    }
   ],
   "source": [
    "examples_for_character(\"[£×–⁄]\")"
   ]
  },
  {
   "cell_type": "markdown",
   "metadata": {},
   "source": [
    "Similarly to my approach with `'` as explained before, let's just trim `£`, `×`, `–`, and `⁄` from the above words."
   ]
  },
  {
   "cell_type": "code",
   "execution_count": 22,
   "metadata": {},
   "outputs": [],
   "source": [
    "df.full_ingredients = df.full_ingredients.str.replace(r'[£×–⁄]', '')"
   ]
  },
  {
   "cell_type": "markdown",
   "metadata": {},
   "source": [
    "Next, let's examine words with `‘`, `’`, `“`, and `”` characters."
   ]
  },
  {
   "cell_type": "code",
   "execution_count": 23,
   "metadata": {},
   "outputs": [
    {
     "data": {
      "text/plain": [
       "['‘suyannaise’',\n",
       " 'bird’seye',\n",
       " '’nduja',\n",
       " 'goats’',\n",
       " 'quails’',\n",
       " 'you’d',\n",
       " 'doesn’t',\n",
       " 'cow’s',\n",
       " 'smoke’',\n",
       " '“boston',\n",
       " 'd’or',\n",
       " '‘ladyfinger’',\n",
       " '‘medium’',\n",
       " '‘picante’',\n",
       " '‘mozzarellastyle’',\n",
       " 'gentleman’s',\n",
       " 'bird’s',\n",
       " '‘gluelike',\n",
       " '‘butter’',\n",
       " 'monk’s',\n",
       " 'butt”',\n",
       " '‘milk’',\n",
       " 'goat’s',\n",
       " 'za’atar',\n",
       " 'sheep’s',\n",
       " '‘’',\n",
       " 'cows’',\n",
       " 'd’auvergne',\n",
       " 'ladies’',\n",
       " 'jacob’s',\n",
       " 'cheese’',\n",
       " '“”',\n",
       " '“flats”',\n",
       " 'sheeps’',\n",
       " 'don’t',\n",
       " 'pimm’s',\n",
       " '‘cream',\n",
       " '‘liquid',\n",
       " 'd’ambert',\n",
       " 'paste’',\n",
       " 'bull’s',\n",
       " 'd’espelette',\n",
       " 'can’t',\n",
       " 'lambs’',\n",
       " '‘feed’',\n",
       " 'man’s',\n",
       " 'lamb’s',\n",
       " 'cox’s',\n",
       " 'calf’s',\n",
       " '“drumettes”',\n",
       " 'pig’s',\n",
       " 'birds’eye']"
      ]
     },
     "execution_count": 23,
     "metadata": {},
     "output_type": "execute_result"
    }
   ],
   "source": [
    "examples_for_character(\"[‘’“”]\")"
   ]
  },
  {
   "cell_type": "markdown",
   "metadata": {},
   "source": [
    "Similarly to my approach with `'` as explained before, let's just trim `‘`, `’`, `“`, and `”` from the above words."
   ]
  },
  {
   "cell_type": "code",
   "execution_count": 24,
   "metadata": {},
   "outputs": [],
   "source": [
    "df.full_ingredients = df.full_ingredients.str.replace(r'[‘’“”]', '')"
   ]
  },
  {
   "cell_type": "markdown",
   "metadata": {},
   "source": [
    "Let's examine the remaining special characters."
   ]
  },
  {
   "cell_type": "code",
   "execution_count": 25,
   "metadata": {},
   "outputs": [
    {
     "data": {
      "text/plain": [
       "'â ã ä ç è é ê î ï ñ ó ô û ü ō ư ấ ớ'"
      ]
     },
     "execution_count": 25,
     "metadata": {},
     "output_type": "execute_result"
    }
   ],
   "source": [
    "unique_special_chars()"
   ]
  },
  {
   "cell_type": "markdown",
   "metadata": {},
   "source": [
    "Let's have a closer look at words that have characters `â ã ä ç è é ê î ï ñ ó ô û ü ō ư ấ ớ`"
   ]
  },
  {
   "cell_type": "code",
   "execution_count": 26,
   "metadata": {},
   "outputs": [
    {
     "data": {
      "text/plain": [
       "['béchamel',\n",
       " 'ximénez',\n",
       " 'velouté',\n",
       " 'ñora',\n",
       " 'gruyère',\n",
       " 'padrón',\n",
       " 'fraïche',\n",
       " 'chấm',\n",
       " 'frâiche',\n",
       " 'crêpes',\n",
       " 'pimentón',\n",
       " 'ibérico',\n",
       " 'pressé',\n",
       " 'glacés',\n",
       " 'croûtons',\n",
       " 'gewürztraminer',\n",
       " 'compôte',\n",
       " 'desirée',\n",
       " 'désirée',\n",
       " 'créme',\n",
       " 'niçoise',\n",
       " 'glacé',\n",
       " 'flambéeing',\n",
       " 'purée',\n",
       " 'côte',\n",
       " 'shōga',\n",
       " 'sautéed',\n",
       " 'fraîche',\n",
       " 'patissière',\n",
       " 'spreadpurée',\n",
       " 'jalapeños',\n",
       " 'aïoli',\n",
       " 'soufflé',\n",
       " 'västerbotten',\n",
       " 'nước',\n",
       " 'épices',\n",
       " 'rosé',\n",
       " 'suprêmes',\n",
       " 'pâté',\n",
       " 'pimentão',\n",
       " 'jamón',\n",
       " 'consommé',\n",
       " 'pouillyfumé',\n",
       " 'frisée',\n",
       " 'flambé',\n",
       " 'crème',\n",
       " 'comté',\n",
       " 'gruyére',\n",
       " 'cépe',\n",
       " 'pureé',\n",
       " 'jalapeño',\n",
       " 'purèe',\n",
       " 'puréed']"
      ]
     },
     "execution_count": 26,
     "metadata": {},
     "output_type": "execute_result"
    }
   ],
   "source": [
    "examples_for_character(\"[âãäçèéêîïñóôûüōưấớ]\")"
   ]
  },
  {
   "cell_type": "markdown",
   "metadata": {},
   "source": [
    "The above words have [accented characters](https://www.fonts.com/content/learning/fontology/level-3/signs-and-symbols/accents). They are important elements in both written and spoken language. They might be considered as \"borrowed\" words in English, sometimes helping to clarify the meaning of a word which might be different without the accent. Accents might get induced due to a keyboard default setting or typing style. As I'm analysing text in English, it would be more helpful to convert these words into ASCII characters. "
   ]
  },
  {
   "cell_type": "code",
   "execution_count": 27,
   "metadata": {},
   "outputs": [],
   "source": [
    "# Create a function to remove accented characters\n",
    "def remove_accented_chars(matchobj):\n",
    "    text = matchobj.group()\n",
    "    new_text = unicodedata.normalize('NFKD', text).encode('ascii', 'ignore').decode('utf-8', 'ignore')\n",
    "    return new_text"
   ]
  },
  {
   "cell_type": "code",
   "execution_count": 28,
   "metadata": {},
   "outputs": [],
   "source": [
    "# Remove accented characters in the full_ingredients\n",
    "df.full_ingredients = df.full_ingredients.apply(\n",
    "    lambda x: re.sub(r'[âãäçèéêîïñóôûüōưấớ]', remove_accented_chars, x))"
   ]
  },
  {
   "cell_type": "code",
   "execution_count": 29,
   "metadata": {},
   "outputs": [
    {
     "name": "stdout",
     "output_type": "stream",
     "text": [
      "The number of word 'pureé' is 0.\n",
      "The number of word 'puree' is 337.\n",
      "The number of word 'jalapeños' is 0.\n",
      "The number of word 'jalapenos' is 4.\n"
     ]
    }
   ],
   "source": [
    "# Try some random examples to test\n",
    "print(f\"The number of word 'pureé' is {df.full_ingredients.str.contains('pureé').sum()}.\")\n",
    "print(f\"The number of word 'puree' is {df.full_ingredients.str.contains('puree').sum()}.\")\n",
    "print(f\"The number of word 'jalapeños' is {df.full_ingredients.str.contains('jalapeños').sum()}.\")\n",
    "print(f\"The number of word 'jalapenos' is {df.full_ingredients.str.contains('jalapenos').sum()}.\")"
   ]
  },
  {
   "cell_type": "code",
   "execution_count": 30,
   "metadata": {},
   "outputs": [
    {
     "data": {
      "text/plain": [
       "''"
      ]
     },
     "execution_count": 30,
     "metadata": {},
     "output_type": "execute_result"
    }
   ],
   "source": [
    "# Check remaining special characters\n",
    "unique_special_chars()"
   ]
  },
  {
   "cell_type": "markdown",
   "metadata": {},
   "source": [
    "There are no special characters left."
   ]
  },
  {
   "cell_type": "code",
   "execution_count": 31,
   "metadata": {},
   "outputs": [
    {
     "data": {
      "text/html": [
       "<div>\n",
       "<style scoped>\n",
       "    .dataframe tbody tr th:only-of-type {\n",
       "        vertical-align: middle;\n",
       "    }\n",
       "\n",
       "    .dataframe tbody tr th {\n",
       "        vertical-align: top;\n",
       "    }\n",
       "\n",
       "    .dataframe thead th {\n",
       "        text-align: right;\n",
       "    }\n",
       "</style>\n",
       "<table border=\"1\" class=\"dataframe\">\n",
       "  <thead>\n",
       "    <tr style=\"text-align: right;\">\n",
       "      <th></th>\n",
       "      <th>cuisine</th>\n",
       "      <th>full_ingredients</th>\n",
       "    </tr>\n",
       "  </thead>\n",
       "  <tbody>\n",
       "    <tr>\n",
       "      <th>3727</th>\n",
       "      <td>Italian</td>\n",
       "      <td>olive oil for shallow and deep frying  shallot...</td>\n",
       "    </tr>\n",
       "    <tr>\n",
       "      <th>1923</th>\n",
       "      <td>Chinese</td>\n",
       "      <td>tbsp groundnut oil  long dried chillies   tsp...</td>\n",
       "    </tr>\n",
       "    <tr>\n",
       "      <th>3552</th>\n",
       "      <td>Italian</td>\n",
       "      <td>tbsp sunflower oil   rashers thick rindless s...</td>\n",
       "    </tr>\n",
       "    <tr>\n",
       "      <th>1146</th>\n",
       "      <td>British</td>\n",
       "      <td>butter  jumbo oats  rolled oats  red onions r...</td>\n",
       "    </tr>\n",
       "    <tr>\n",
       "      <th>3195</th>\n",
       "      <td>Italian</td>\n",
       "      <td>flour  medium freerange eggs preferably with...</td>\n",
       "    </tr>\n",
       "    <tr>\n",
       "      <th>1643</th>\n",
       "      <td>British</td>\n",
       "      <td>floury potatoes peeled and cut into   cubes  ...</td>\n",
       "    </tr>\n",
       "    <tr>\n",
       "      <th>3054</th>\n",
       "      <td>Indian</td>\n",
       "      <td>oz greekstyle yoghurt   small onion roughly c...</td>\n",
       "    </tr>\n",
       "    <tr>\n",
       "      <th>842</th>\n",
       "      <td>British</td>\n",
       "      <td>dried yellow split peas  butter  onion roughl...</td>\n",
       "    </tr>\n",
       "    <tr>\n",
       "      <th>505</th>\n",
       "      <td>British</td>\n",
       "      <td>beef shin on the bone sea salt and freshly gr...</td>\n",
       "    </tr>\n",
       "    <tr>\n",
       "      <th>2224</th>\n",
       "      <td>French</td>\n",
       "      <td>celeriac peeled and sliced into thin matchst...</td>\n",
       "    </tr>\n",
       "  </tbody>\n",
       "</table>\n",
       "</div>"
      ],
      "text/plain": [
       "      cuisine                                   full_ingredients\n",
       "3727  Italian  olive oil for shallow and deep frying  shallot...\n",
       "1923  Chinese   tbsp groundnut oil  long dried chillies   tsp...\n",
       "3552  Italian   tbsp sunflower oil   rashers thick rindless s...\n",
       "1146  British   butter  jumbo oats  rolled oats  red onions r...\n",
       "3195  Italian    flour  medium freerange eggs preferably with...\n",
       "1643  British   floury potatoes peeled and cut into   cubes  ...\n",
       "3054   Indian   oz greekstyle yoghurt   small onion roughly c...\n",
       "842   British   dried yellow split peas  butter  onion roughl...\n",
       "505   British   beef shin on the bone sea salt and freshly gr...\n",
       "2224   French    celeriac peeled and sliced into thin matchst..."
      ]
     },
     "execution_count": 31,
     "metadata": {},
     "output_type": "execute_result"
    }
   ],
   "source": [
    "# Overview of the dataframe after cleaning and preprocessing\n",
    "df.sample(10, random_state=2)"
   ]
  },
  {
   "cell_type": "markdown",
   "metadata": {},
   "source": [
    "## Pre-Processing"
   ]
  },
  {
   "cell_type": "markdown",
   "metadata": {},
   "source": [
    "### Word tokenization"
   ]
  },
  {
   "cell_type": "code",
   "execution_count": 32,
   "metadata": {},
   "outputs": [
    {
     "data": {
      "text/plain": [
       "0    [large, red, or, orange, peppers, deseeded, an...\n",
       "1    [dried, blackeyed, beans, sirloin, steak, cut,...\n",
       "2    [oz, olive, oil, onion, chopped, garlic, clove...\n",
       "3    [butter, for, greasing, oz, fullfat, milk, fre...\n",
       "4    [tbsp, olive, oil, onion, thinly, sliced, garl...\n",
       "5    [tbsp, vegetable, oil, tsp, cumin, seeds, tsp,...\n",
       "6    [tsp, cloves, tsp, fennel, seeds, tsp, black, ...\n",
       "7    [tbsp, olive, oil, large, onions, sliced, bone...\n",
       "8    [peppercorns, cardamom, pods, cloves, tbsp, oi...\n",
       "9    [salt, tsp, coriander, seeds, tsp, fennel, see...\n",
       "Name: full_ingredients, dtype: object"
      ]
     },
     "execution_count": 32,
     "metadata": {},
     "output_type": "execute_result"
    }
   ],
   "source": [
    "df.full_ingredients = df.full_ingredients.apply(lambda x: word_tokenize(x))\n",
    "df.full_ingredients[:10]"
   ]
  },
  {
   "cell_type": "markdown",
   "metadata": {},
   "source": [
    "### Remove stop words"
   ]
  },
  {
   "cell_type": "code",
   "execution_count": 33,
   "metadata": {},
   "outputs": [
    {
     "data": {
      "text/plain": [
       "0    [large, red, orange, peppers, deseeded, cut, b...\n",
       "1    [dried, blackeyed, beans, sirloin, steak, cut,...\n",
       "2    [oz, olive, oil, onion, chopped, garlic, clove...\n",
       "3    [butter, greasing, oz, fullfat, milk, fresh, w...\n",
       "4    [tbsp, olive, oil, onion, thinly, sliced, garl...\n",
       "5    [tbsp, vegetable, oil, tsp, cumin, seeds, tsp,...\n",
       "6    [tsp, cloves, tsp, fennel, seeds, tsp, black, ...\n",
       "7    [tbsp, olive, oil, large, onions, sliced, bone...\n",
       "8    [peppercorns, cardamom, pods, cloves, tbsp, oi...\n",
       "9    [salt, tsp, coriander, seeds, tsp, fennel, see...\n",
       "Name: full_ingredients, dtype: object"
      ]
     },
     "execution_count": 33,
     "metadata": {},
     "output_type": "execute_result"
    }
   ],
   "source": [
    "df.full_ingredients = df.full_ingredients.apply(lambda x: [word for word in x if not word in stop_words_nltk])\n",
    "df.full_ingredients[:10]"
   ]
  },
  {
   "cell_type": "markdown",
   "metadata": {},
   "source": [
    "### Lemmatization\n",
    "\n",
    "Lemmatization refers to the process of mapping all different variants of a word to its base word."
   ]
  },
  {
   "cell_type": "code",
   "execution_count": 34,
   "metadata": {},
   "outputs": [
    {
     "data": {
      "text/plain": [
       "0    [large, red, orange, pepper, deseeded, cut, bi...\n",
       "1    [dried, blackeyed, bean, sirloin, steak, cut, ...\n",
       "2    [oz, olive, oil, onion, chopped, garlic, clove...\n",
       "3    [butter, greasing, oz, fullfat, milk, fresh, w...\n",
       "4    [tbsp, olive, oil, onion, thinly, sliced, garl...\n",
       "5    [tbsp, vegetable, oil, tsp, cumin, seed, tsp, ...\n",
       "6    [tsp, clove, tsp, fennel, seed, tsp, black, mu...\n",
       "7    [tbsp, olive, oil, large, onion, sliced, bonel...\n",
       "8    [peppercorn, cardamom, pod, clove, tbsp, oil, ...\n",
       "9    [salt, tsp, coriander, seed, tsp, fennel, seed...\n",
       "Name: full_ingredients, dtype: object"
      ]
     },
     "execution_count": 34,
     "metadata": {},
     "output_type": "execute_result"
    }
   ],
   "source": [
    "df.full_ingredients = df.full_ingredients.apply(lambda x: [lemmatizer.lemmatize(word) for word in x])\n",
    "df.full_ingredients[:10]"
   ]
  },
  {
   "cell_type": "markdown",
   "metadata": {},
   "source": [
    "take a look at bag of words and bag of n-grams --> bi and tri-grams --> common words --> wordcloud/barchar for most popular ingredients in each cuisines/all cuisines\n",
    "\n",
    "It seems that salt is the most commonly used ingredient which is not surprising at all! We also find water, onions, garlic and olive oil - not so surprising also . Salt is such a common ingredient that we expect it to have poor predictive power in recognizing the type of cuisine We will remove salt and some other common ingredients from the mix to make our model do better"
   ]
  },
  {
   "cell_type": "markdown",
   "metadata": {},
   "source": [
    "## Bags of Words and Bags of N-Grams"
   ]
  },
  {
   "cell_type": "code",
   "execution_count": null,
   "metadata": {},
   "outputs": [],
   "source": []
  },
  {
   "cell_type": "code",
   "execution_count": null,
   "metadata": {},
   "outputs": [],
   "source": []
  },
  {
   "cell_type": "code",
   "execution_count": null,
   "metadata": {},
   "outputs": [],
   "source": []
  },
  {
   "cell_type": "markdown",
   "metadata": {},
   "source": [
    "### Remove words with less than 2 characters"
   ]
  },
  {
   "cell_type": "code",
   "execution_count": null,
   "metadata": {},
   "outputs": [],
   "source": []
  },
  {
   "cell_type": "code",
   "execution_count": null,
   "metadata": {},
   "outputs": [],
   "source": []
  },
  {
   "cell_type": "markdown",
   "metadata": {},
   "source": [
    "### Remove measuring units"
   ]
  },
  {
   "cell_type": "code",
   "execution_count": null,
   "metadata": {},
   "outputs": [],
   "source": []
  }
 ],
 "metadata": {
  "kernelspec": {
   "display_name": "Python [conda env:PythonAdv] *",
   "language": "python",
   "name": "conda-env-PythonAdv-py"
  },
  "language_info": {
   "codemirror_mode": {
    "name": "ipython",
    "version": 3
   },
   "file_extension": ".py",
   "mimetype": "text/x-python",
   "name": "python",
   "nbconvert_exporter": "python",
   "pygments_lexer": "ipython3",
   "version": "3.6.12"
  }
 },
 "nbformat": 4,
 "nbformat_minor": 4
}
