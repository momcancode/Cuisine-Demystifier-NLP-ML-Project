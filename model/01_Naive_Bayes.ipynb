{
 "cells": [
  {
   "cell_type": "code",
   "execution_count": 1,
   "metadata": {},
   "outputs": [
    {
     "name": "stderr",
     "output_type": "stream",
     "text": [
      "[nltk_data] Downloading package punkt to\n",
      "[nltk_data]     C:\\Users\\Boss\\AppData\\Roaming\\nltk_data...\n",
      "[nltk_data]   Package punkt is already up-to-date!\n",
      "[nltk_data] Downloading package stopwords to\n",
      "[nltk_data]     C:\\Users\\Boss\\AppData\\Roaming\\nltk_data...\n",
      "[nltk_data]   Package stopwords is already up-to-date!\n"
     ]
    }
   ],
   "source": [
    "# Import dependencies\n",
    "import pandas as pd\n",
    "import numpy as np\n",
    "import seaborn as sns\n",
    "\n",
    "# Plot confusion matrices\n",
    "import matplotlib as mpl \n",
    "import matplotlib.cm as cm \n",
    "import matplotlib.pyplot as plt\n",
    "\n",
    "# NLP libraries\n",
    "import re\n",
    "import string\n",
    "import unicodedata\n",
    "import nltk\n",
    "nltk.download('punkt')\n",
    "from nltk.tokenize import word_tokenize\n",
    "from nltk.corpus import stopwords\n",
    "nltk.download('stopwords')\n",
    "stop_words_nltk = set(stopwords.words('english'))\n",
    "from nltk.stem.porter import PorterStemmer\n",
    "stemmer = PorterStemmer()\n",
    "\n",
    "# Machine learning\n",
    "import sklearn\n",
    "from sklearn.model_selection import train_test_split\n",
    "from sklearn.feature_extraction.text import TfidfVectorizer\n",
    "from sklearn.naive_bayes import MultinomialNB\n",
    "\n",
    "# Evaluate the classifiers\n",
    "from sklearn import metrics\n",
    "from sklearn.metrics import accuracy_score\n",
    "from sklearn.metrics import confusion_matrix "
   ]
  },
  {
   "cell_type": "markdown",
   "metadata": {},
   "source": [
    "## Connect to database"
   ]
  },
  {
   "cell_type": "code",
   "execution_count": 2,
   "metadata": {},
   "outputs": [],
   "source": [
    "# SQL Alchemy\n",
    "from sqlalchemy import create_engine"
   ]
  },
  {
   "cell_type": "code",
   "execution_count": 3,
   "metadata": {},
   "outputs": [],
   "source": [
    "# Create engine and connection\n",
    "engine = create_engine(\"sqlite:///../db.sqlite\")"
   ]
  },
  {
   "cell_type": "code",
   "execution_count": 4,
   "metadata": {},
   "outputs": [
    {
     "data": {
      "text/plain": [
       "['cuisine_ingredients']"
      ]
     },
     "execution_count": 4,
     "metadata": {},
     "output_type": "execute_result"
    }
   ],
   "source": [
    "# Check for tables\n",
    "engine.table_names()"
   ]
  },
  {
   "cell_type": "code",
   "execution_count": 5,
   "metadata": {},
   "outputs": [],
   "source": [
    "# Read in the data table\n",
    "df = pd.read_sql_query('SELECT * FROM cuisine_ingredients', con=engine)"
   ]
  },
  {
   "cell_type": "code",
   "execution_count": 6,
   "metadata": {},
   "outputs": [
    {
     "data": {
      "text/html": [
       "<div>\n",
       "<style scoped>\n",
       "    .dataframe tbody tr th:only-of-type {\n",
       "        vertical-align: middle;\n",
       "    }\n",
       "\n",
       "    .dataframe tbody tr th {\n",
       "        vertical-align: top;\n",
       "    }\n",
       "\n",
       "    .dataframe thead th {\n",
       "        text-align: right;\n",
       "    }\n",
       "</style>\n",
       "<table border=\"1\" class=\"dataframe\">\n",
       "  <thead>\n",
       "    <tr style=\"text-align: right;\">\n",
       "      <th></th>\n",
       "      <th>id</th>\n",
       "      <th>cuisine</th>\n",
       "      <th>recipe</th>\n",
       "      <th>full_ingredients</th>\n",
       "    </tr>\n",
       "  </thead>\n",
       "  <tbody>\n",
       "    <tr>\n",
       "      <th>3727</th>\n",
       "      <td>3728</td>\n",
       "      <td>Italian</td>\n",
       "      <td>Spicy fregola with scallops and crispy kale</td>\n",
       "      <td>['olive oil, for shallow and deep frying', '1 ...</td>\n",
       "    </tr>\n",
       "    <tr>\n",
       "      <th>1923</th>\n",
       "      <td>1924</td>\n",
       "      <td>Chinese</td>\n",
       "      <td>Chunky bacon and cucumber salad</td>\n",
       "      <td>['1 tbsp groundnut oil', '6 long dried chillie...</td>\n",
       "    </tr>\n",
       "    <tr>\n",
       "      <th>3552</th>\n",
       "      <td>3553</td>\n",
       "      <td>Italian</td>\n",
       "      <td>Polenta pork</td>\n",
       "      <td>['2 tbsp sunflower oil ', '12 rashers thick ri...</td>\n",
       "    </tr>\n",
       "    <tr>\n",
       "      <th>1146</th>\n",
       "      <td>1147</td>\n",
       "      <td>British</td>\n",
       "      <td>Oat fig stuffing</td>\n",
       "      <td>['140g/5oz butter', '100g/3½oz jumbo oats', '1...</td>\n",
       "    </tr>\n",
       "    <tr>\n",
       "      <th>3195</th>\n",
       "      <td>3196</td>\n",
       "      <td>Italian</td>\n",
       "      <td>Bolognese with tagliatelle</td>\n",
       "      <td>['250g/9oz 00 flour', '3-4 medium free-range e...</td>\n",
       "    </tr>\n",
       "    <tr>\n",
       "      <th>1643</th>\n",
       "      <td>1644</td>\n",
       "      <td>British</td>\n",
       "      <td>Textured potato salad</td>\n",
       "      <td>['675g/1½lb floury potatoes, peeled and cut in...</td>\n",
       "    </tr>\n",
       "    <tr>\n",
       "      <th>3054</th>\n",
       "      <td>3055</td>\n",
       "      <td>Indian</td>\n",
       "      <td>Tandoori lamb wrap</td>\n",
       "      <td>['150ml/5fl oz Greek-style yoghurt ', '½ small...</td>\n",
       "    </tr>\n",
       "    <tr>\n",
       "      <th>842</th>\n",
       "      <td>843</td>\n",
       "      <td>British</td>\n",
       "      <td>Gammon and pease pudding</td>\n",
       "      <td>['300g/10oz dried yellow split peas', '50g/2oz...</td>\n",
       "    </tr>\n",
       "    <tr>\n",
       "      <th>505</th>\n",
       "      <td>506</td>\n",
       "      <td>British</td>\n",
       "      <td>Braised shin of beef with parsnip purée</td>\n",
       "      <td>['4kg/9lb beef shin, on the bone', 'sea salt a...</td>\n",
       "    </tr>\n",
       "    <tr>\n",
       "      <th>2224</th>\n",
       "      <td>2225</td>\n",
       "      <td>French</td>\n",
       "      <td>Mary Berry's celeriac remoulade</td>\n",
       "      <td>['650g/1lb 7oz celeriac, peeled and sliced int...</td>\n",
       "    </tr>\n",
       "  </tbody>\n",
       "</table>\n",
       "</div>"
      ],
      "text/plain": [
       "        id  cuisine                                       recipe  \\\n",
       "3727  3728  Italian  Spicy fregola with scallops and crispy kale   \n",
       "1923  1924  Chinese              Chunky bacon and cucumber salad   \n",
       "3552  3553  Italian                                Polenta pork    \n",
       "1146  1147  British                             Oat fig stuffing   \n",
       "3195  3196  Italian                   Bolognese with tagliatelle   \n",
       "1643  1644  British                        Textured potato salad   \n",
       "3054  3055   Indian                           Tandoori lamb wrap   \n",
       "842    843  British                     Gammon and pease pudding   \n",
       "505    506  British      Braised shin of beef with parsnip purée   \n",
       "2224  2225   French              Mary Berry's celeriac remoulade   \n",
       "\n",
       "                                       full_ingredients  \n",
       "3727  ['olive oil, for shallow and deep frying', '1 ...  \n",
       "1923  ['1 tbsp groundnut oil', '6 long dried chillie...  \n",
       "3552  ['2 tbsp sunflower oil ', '12 rashers thick ri...  \n",
       "1146  ['140g/5oz butter', '100g/3½oz jumbo oats', '1...  \n",
       "3195  ['250g/9oz 00 flour', '3-4 medium free-range e...  \n",
       "1643  ['675g/1½lb floury potatoes, peeled and cut in...  \n",
       "3054  ['150ml/5fl oz Greek-style yoghurt ', '½ small...  \n",
       "842   ['300g/10oz dried yellow split peas', '50g/2oz...  \n",
       "505   ['4kg/9lb beef shin, on the bone', 'sea salt a...  \n",
       "2224  ['650g/1lb 7oz celeriac, peeled and sliced int...  "
      ]
     },
     "execution_count": 6,
     "metadata": {},
     "output_type": "execute_result"
    }
   ],
   "source": [
    "# Overview of the data set\n",
    "df.sample(10, random_state=2)"
   ]
  },
  {
   "cell_type": "code",
   "execution_count": 7,
   "metadata": {},
   "outputs": [
    {
     "data": {
      "text/plain": [
       "['African',\n",
       " 'American',\n",
       " 'British',\n",
       " 'Caribbean',\n",
       " 'Chinese',\n",
       " 'East European',\n",
       " 'French',\n",
       " 'Greek',\n",
       " 'Indian',\n",
       " 'Irish',\n",
       " 'Italian',\n",
       " 'Japanese',\n",
       " 'Korean',\n",
       " 'Mexican',\n",
       " 'Nordic',\n",
       " 'North African',\n",
       " 'Pakistani',\n",
       " 'Portuguese',\n",
       " 'South American',\n",
       " 'Spanish',\n",
       " 'Thai and South-East Asian',\n",
       " 'Turkish and Middle Eastern']"
      ]
     },
     "execution_count": 7,
     "metadata": {},
     "output_type": "execute_result"
    }
   ],
   "source": [
    "# Get a list of unique cuisines in the dataset\n",
    "cuisine_list = df.cuisine.unique().tolist()\n",
    "cuisine_list"
   ]
  },
  {
   "cell_type": "markdown",
   "metadata": {},
   "source": [
    "## Define text pre-processing function"
   ]
  },
  {
   "cell_type": "code",
   "execution_count": 8,
   "metadata": {},
   "outputs": [],
   "source": [
    "# Create a function to remove accented characters\n",
    "def remove_accented_chars(matchobj):\n",
    "    text = matchobj.group()\n",
    "    new_text = unicodedata.normalize('NFKD', text).encode('ascii', 'ignore').decode('utf-8', 'ignore')\n",
    "    return new_text"
   ]
  },
  {
   "cell_type": "code",
   "execution_count": 9,
   "metadata": {},
   "outputs": [],
   "source": [
    "words_to_remove = [\n",
    "    \"tbsp\", \"roughly\", \"chopped\", \"tsp\", \"finely\", \"oz\", \"plus\",\n",
    "    \"extra\", \"fresh\", \"freshly\", \"ground\", \"thinly\", \"sliced\", \"clove\",\n",
    "    \"cut\", \"kg\", \"lb\", \"cm\", \"ml\", \"mm\", \"small\", \"large\", \"medium\",\n",
    "    \"pinch\", \"peeled\", \"grated\", \"removed\", \"handful\", \"piece\", \"crushed\",\n",
    "    \"dried\", \"drained\", \"rinsed\", \"halved\", \"trimmed\", \"deseeded\", \"x\"]"
   ]
  },
  {
   "cell_type": "code",
   "execution_count": 10,
   "metadata": {},
   "outputs": [],
   "source": [
    "# Create a function to clean ingredient text\n",
    "def clean(doc):\n",
    "    doc = doc.str.lower()\n",
    "    doc = doc.str.replace(r'\\w*[\\d¼½¾⅓⅔⅛⅜⅝]\\w*', '')\n",
    "    doc = doc.str.translate(str.maketrans('', '', string.punctuation))\n",
    "    doc = doc.str.replace(r'[£×–‘’“”⁄]', '')\n",
    "    doc = doc.apply(lambda x: re.sub(r'[âãäçèéêîïñóôûüōưấớ]', remove_accented_chars, x))\n",
    "    doc = doc.apply(lambda x: word_tokenize(x))\n",
    "    doc = doc.apply(lambda x: [word for word in x if not word in stop_words_nltk])\n",
    "    doc = doc.apply(lambda x: [word for word in x if not word in words_to_remove])\n",
    "    doc = doc.apply(lambda x: [stemmer.stem(word) for word in x])\n",
    "    processed_doc = doc.apply(lambda x: ' '.join([word for word in x]))\n",
    "\n",
    "    return processed_doc"
   ]
  },
  {
   "cell_type": "code",
   "execution_count": 11,
   "metadata": {},
   "outputs": [],
   "source": [
    "# Add a new column to the dataframe with the cleaned text\n",
    "df[\"ingredients_processed\"] = clean(df.full_ingredients)"
   ]
  },
  {
   "cell_type": "code",
   "execution_count": 12,
   "metadata": {},
   "outputs": [
    {
     "data": {
      "text/html": [
       "<div>\n",
       "<style scoped>\n",
       "    .dataframe tbody tr th:only-of-type {\n",
       "        vertical-align: middle;\n",
       "    }\n",
       "\n",
       "    .dataframe tbody tr th {\n",
       "        vertical-align: top;\n",
       "    }\n",
       "\n",
       "    .dataframe thead th {\n",
       "        text-align: right;\n",
       "    }\n",
       "</style>\n",
       "<table border=\"1\" class=\"dataframe\">\n",
       "  <thead>\n",
       "    <tr style=\"text-align: right;\">\n",
       "      <th></th>\n",
       "      <th>id</th>\n",
       "      <th>cuisine</th>\n",
       "      <th>recipe</th>\n",
       "      <th>full_ingredients</th>\n",
       "      <th>ingredients_processed</th>\n",
       "    </tr>\n",
       "  </thead>\n",
       "  <tbody>\n",
       "    <tr>\n",
       "      <th>3727</th>\n",
       "      <td>3728</td>\n",
       "      <td>Italian</td>\n",
       "      <td>Spicy fregola with scallops and crispy kale</td>\n",
       "      <td>['olive oil, for shallow and deep frying', '1 ...</td>\n",
       "      <td>oliv oil shallow deep fri shallot garlic red c...</td>\n",
       "    </tr>\n",
       "    <tr>\n",
       "      <th>1923</th>\n",
       "      <td>1924</td>\n",
       "      <td>Chinese</td>\n",
       "      <td>Chunky bacon and cucumber salad</td>\n",
       "      <td>['1 tbsp groundnut oil', '6 long dried chillie...</td>\n",
       "      <td>groundnut oil long chilli sichuan peppercorn w...</td>\n",
       "    </tr>\n",
       "    <tr>\n",
       "      <th>3552</th>\n",
       "      <td>3553</td>\n",
       "      <td>Italian</td>\n",
       "      <td>Polenta pork</td>\n",
       "      <td>['2 tbsp sunflower oil ', '12 rashers thick ri...</td>\n",
       "      <td>sunflow oil rasher thick rindless smoke streak...</td>\n",
       "    </tr>\n",
       "    <tr>\n",
       "      <th>1146</th>\n",
       "      <td>1147</td>\n",
       "      <td>British</td>\n",
       "      <td>Oat fig stuffing</td>\n",
       "      <td>['140g/5oz butter', '100g/3½oz jumbo oats', '1...</td>\n",
       "      <td>butter jumbo oat roll oat red onion pistachio ...</td>\n",
       "    </tr>\n",
       "    <tr>\n",
       "      <th>3195</th>\n",
       "      <td>3196</td>\n",
       "      <td>Italian</td>\n",
       "      <td>Bolognese with tagliatelle</td>\n",
       "      <td>['250g/9oz 00 flour', '3-4 medium free-range e...</td>\n",
       "      <td>flour freerang egg prefer bright yellow yolk f...</td>\n",
       "    </tr>\n",
       "    <tr>\n",
       "      <th>1643</th>\n",
       "      <td>1644</td>\n",
       "      <td>British</td>\n",
       "      <td>Textured potato salad</td>\n",
       "      <td>['675g/1½lb floury potatoes, peeled and cut in...</td>\n",
       "      <td>flouri potato cube rasher smoke streaki bacon ...</td>\n",
       "    </tr>\n",
       "    <tr>\n",
       "      <th>3054</th>\n",
       "      <td>3055</td>\n",
       "      <td>Indian</td>\n",
       "      <td>Tandoori lamb wrap</td>\n",
       "      <td>['150ml/5fl oz Greek-style yoghurt ', '½ small...</td>\n",
       "      <td>greekstyl yoghurt onion garlic ginger garam ma...</td>\n",
       "    </tr>\n",
       "    <tr>\n",
       "      <th>842</th>\n",
       "      <td>843</td>\n",
       "      <td>British</td>\n",
       "      <td>Gammon and pease pudding</td>\n",
       "      <td>['300g/10oz dried yellow split peas', '50g/2oz...</td>\n",
       "      <td>yellow split pea butter onion thyme bay leaf s...</td>\n",
       "    </tr>\n",
       "    <tr>\n",
       "      <th>505</th>\n",
       "      <td>506</td>\n",
       "      <td>British</td>\n",
       "      <td>Braised shin of beef with parsnip purée</td>\n",
       "      <td>['4kg/9lb beef shin, on the bone', 'sea salt a...</td>\n",
       "      <td>beef shin bone sea salt black pepper oliv oil ...</td>\n",
       "    </tr>\n",
       "    <tr>\n",
       "      <th>2224</th>\n",
       "      <td>2225</td>\n",
       "      <td>French</td>\n",
       "      <td>Mary Berry's celeriac remoulade</td>\n",
       "      <td>['650g/1lb 7oz celeriac, peeled and sliced int...</td>\n",
       "      <td>celeriac thin matchstick see tip lemon juic li...</td>\n",
       "    </tr>\n",
       "  </tbody>\n",
       "</table>\n",
       "</div>"
      ],
      "text/plain": [
       "        id  cuisine                                       recipe  \\\n",
       "3727  3728  Italian  Spicy fregola with scallops and crispy kale   \n",
       "1923  1924  Chinese              Chunky bacon and cucumber salad   \n",
       "3552  3553  Italian                                Polenta pork    \n",
       "1146  1147  British                             Oat fig stuffing   \n",
       "3195  3196  Italian                   Bolognese with tagliatelle   \n",
       "1643  1644  British                        Textured potato salad   \n",
       "3054  3055   Indian                           Tandoori lamb wrap   \n",
       "842    843  British                     Gammon and pease pudding   \n",
       "505    506  British      Braised shin of beef with parsnip purée   \n",
       "2224  2225   French              Mary Berry's celeriac remoulade   \n",
       "\n",
       "                                       full_ingredients  \\\n",
       "3727  ['olive oil, for shallow and deep frying', '1 ...   \n",
       "1923  ['1 tbsp groundnut oil', '6 long dried chillie...   \n",
       "3552  ['2 tbsp sunflower oil ', '12 rashers thick ri...   \n",
       "1146  ['140g/5oz butter', '100g/3½oz jumbo oats', '1...   \n",
       "3195  ['250g/9oz 00 flour', '3-4 medium free-range e...   \n",
       "1643  ['675g/1½lb floury potatoes, peeled and cut in...   \n",
       "3054  ['150ml/5fl oz Greek-style yoghurt ', '½ small...   \n",
       "842   ['300g/10oz dried yellow split peas', '50g/2oz...   \n",
       "505   ['4kg/9lb beef shin, on the bone', 'sea salt a...   \n",
       "2224  ['650g/1lb 7oz celeriac, peeled and sliced int...   \n",
       "\n",
       "                                  ingredients_processed  \n",
       "3727  oliv oil shallow deep fri shallot garlic red c...  \n",
       "1923  groundnut oil long chilli sichuan peppercorn w...  \n",
       "3552  sunflow oil rasher thick rindless smoke streak...  \n",
       "1146  butter jumbo oat roll oat red onion pistachio ...  \n",
       "3195  flour freerang egg prefer bright yellow yolk f...  \n",
       "1643  flouri potato cube rasher smoke streaki bacon ...  \n",
       "3054  greekstyl yoghurt onion garlic ginger garam ma...  \n",
       "842   yellow split pea butter onion thyme bay leaf s...  \n",
       "505   beef shin bone sea salt black pepper oliv oil ...  \n",
       "2224  celeriac thin matchstick see tip lemon juic li...  "
      ]
     },
     "execution_count": 12,
     "metadata": {},
     "output_type": "execute_result"
    }
   ],
   "source": [
    "# Overview of the dataset\n",
    "df.sample(10, random_state=2)"
   ]
  },
  {
   "cell_type": "markdown",
   "metadata": {},
   "source": [
    "## Modeling"
   ]
  },
  {
   "cell_type": "markdown",
   "metadata": {},
   "source": [
    "### Split the data into training and test sets (75% train, 25% test)"
   ]
  },
  {
   "cell_type": "code",
   "execution_count": 13,
   "metadata": {},
   "outputs": [
    {
     "name": "stdout",
     "output_type": "stream",
     "text": [
      "(4724,) (4724,)\n"
     ]
    }
   ],
   "source": [
    "# The column contains textual data to extract features from.\n",
    "X = df.ingredients_processed\n",
    "\n",
    "# The column we're learning to predict.\n",
    "y = df.cuisine \n",
    "print(X.shape, y.shape)"
   ]
  },
  {
   "cell_type": "code",
   "execution_count": 14,
   "metadata": {},
   "outputs": [
    {
     "name": "stdout",
     "output_type": "stream",
     "text": [
      "(3543,) (3543,)\n",
      "(1181,) (1181,)\n"
     ]
    }
   ],
   "source": [
    "# Split X and y into training and testing sets. By default, it splits 75% training and 25% test\n",
    "X_train, X_test, y_train, y_test = train_test_split(X, y, random_state=1)\n",
    "print(X_train.shape, y_train.shape)\n",
    "print(X_test.shape, y_test.shape)"
   ]
  },
  {
   "cell_type": "markdown",
   "metadata": {},
   "source": [
    "### Feature engineering using TF-IDF"
   ]
  },
  {
   "cell_type": "markdown",
   "metadata": {},
   "source": [
    "In bag of words and bag of n-grams approaches, all words in a corpus are treated equally important. TF-IDF, meanwhile, emphasizes that some words in a document are more important than others. I'll firstly try TF-IDF with uni-grams."
   ]
  },
  {
   "cell_type": "code",
   "execution_count": 15,
   "metadata": {},
   "outputs": [],
   "source": [
    "tfidf = TfidfVectorizer()"
   ]
  },
  {
   "cell_type": "code",
   "execution_count": 16,
   "metadata": {},
   "outputs": [
    {
     "name": "stdout",
     "output_type": "stream",
     "text": [
      "(3543, 2928) (1181, 2928)\n"
     ]
    }
   ],
   "source": [
    "# Vectorize train and test data\n",
    "X_train_transformed = tfidf.fit_transform(X_train)\n",
    "X_test_transformed = tfidf.transform(X_test)\n",
    "print(X_train_transformed.shape, X_test_transformed.shape)"
   ]
  },
  {
   "cell_type": "markdown",
   "metadata": {},
   "source": [
    "The dimension of our feature vector is now 2941."
   ]
  },
  {
   "cell_type": "markdown",
   "metadata": {},
   "source": [
    "### Train the model"
   ]
  },
  {
   "cell_type": "code",
   "execution_count": 17,
   "metadata": {},
   "outputs": [
    {
     "name": "stdout",
     "output_type": "stream",
     "text": [
      "Wall time: 22 ms\n"
     ]
    },
    {
     "data": {
      "text/plain": [
       "MultinomialNB()"
      ]
     },
     "execution_count": 17,
     "metadata": {},
     "output_type": "execute_result"
    }
   ],
   "source": [
    "# Instantiate a Multinomial Naive Bayes model\n",
    "model = MultinomialNB()\n",
    "\n",
    "# Train the model\n",
    "%time model.fit(X_train_transformed, y_train)"
   ]
  },
  {
   "cell_type": "code",
   "execution_count": 18,
   "metadata": {},
   "outputs": [],
   "source": [
    "# Make class predictions for X_test_transformed\n",
    "y_predicted = model.predict(X_test_transformed)"
   ]
  },
  {
   "cell_type": "markdown",
   "metadata": {},
   "source": [
    "### Evaluatae the model"
   ]
  },
  {
   "cell_type": "code",
   "execution_count": 19,
   "metadata": {},
   "outputs": [
    {
     "name": "stdout",
     "output_type": "stream",
     "text": [
      "Accuracy:  0.5512277730736664\n"
     ]
    }
   ],
   "source": [
    "# Print accuracy:\n",
    "print(\"Accuracy: \", accuracy_score(y_test, y_predicted))"
   ]
  },
  {
   "cell_type": "code",
   "execution_count": 20,
   "metadata": {},
   "outputs": [],
   "source": [
    "# Function to plot confusion matrix. \n",
    "# Ref: http://scikit-learn.org/stable/auto_examples/model_selection/plot_confusion_matrix.html\n",
    "import itertools\n",
    "from sklearn.metrics import roc_auc_score\n",
    "\n",
    "def plot_confusion_matrix(cm, classes,\n",
    "                          normalize=False,\n",
    "                          title='Confusion matrix',\n",
    "                          cmap=plt.cm.Blues):\n",
    "    \"\"\"\n",
    "    This function prints and plots the confusion matrix.\n",
    "    Normalization can be applied by setting `normalize=True`.\n",
    "    \"\"\"\n",
    "    if normalize:\n",
    "        cm = cm.astype('float') / cm.sum(axis=1)[:, np.newaxis]\n",
    "\n",
    "    plt.imshow(cm, interpolation='nearest', cmap=cmap)\n",
    "    plt.title(title)\n",
    "    plt.colorbar()\n",
    "    tick_marks = np.arange(len(classes))\n",
    "    plt.xticks(tick_marks, classes, rotation=90)\n",
    "    plt.yticks(tick_marks, classes)\n",
    "\n",
    "    fmt = '.2f' if normalize else 'd'\n",
    "    thresh = cm.max() / 2.\n",
    "    for i, j in itertools.product(range(cm.shape[0]), range(cm.shape[1])):\n",
    "        plt.text(j, i, format(cm[i, j], fmt),\n",
    "                 horizontalalignment=\"center\",\n",
    "                 color=\"white\" if cm[i, j] > thresh else \"black\")\n",
    "\n",
    "    plt.tight_layout()\n",
    "    plt.ylabel('True label',fontsize=15)\n",
    "    plt.xlabel('Predicted label',fontsize=15)"
   ]
  },
  {
   "cell_type": "code",
   "execution_count": 21,
   "metadata": {},
   "outputs": [
    {
     "data": {
      "image/png": "[encoded data removed]",
      "text/plain": [
       "<Figure size 1152x864 with 2 Axes>"
      ]
     },
     "metadata": {
      "needs_background": "light"
     },
     "output_type": "display_data"
    }
   ],
   "source": [
    "# print the confusion matrix\n",
    "cnf_matrix = confusion_matrix(y_test, y_predicted)\n",
    "plt.figure(figsize=(16, 12))\n",
    "plot_confusion_matrix(cnf_matrix, classes=cuisine_list, normalize=True,\n",
    "                      title='Confusion matrix with all features - Naive Bayes - no oversampling - unigram')\n",
    "plt.savefig(\"../static/images/cfm_nb.png\", bbox_inches='tight')"
   ]
  },
  {
   "cell_type": "markdown",
   "metadata": {},
   "source": [
    "As expected, due to the dataset imbalance, most recipes are predicted as British cuisines."
   ]
  },
  {
   "cell_type": "code",
   "execution_count": 22,
   "metadata": {},
   "outputs": [
    {
     "name": "stdout",
     "output_type": "stream",
     "text": [
      "                            precision    recall  f1-score   support\n",
      "\n",
      "                   African       0.00      0.00      0.00         7\n",
      "                  American       0.00      0.00      0.00        83\n",
      "                   British       0.45      0.98      0.62       365\n",
      "                 Caribbean       0.00      0.00      0.00        16\n",
      "                   Chinese       0.77      0.65      0.71        52\n",
      "             East European       0.00      0.00      0.00        16\n",
      "                    French       0.50      0.01      0.02       110\n",
      "                     Greek       0.00      0.00      0.00        22\n",
      "                    Indian       0.73      0.86      0.79        88\n",
      "                     Irish       0.00      0.00      0.00         5\n",
      "                   Italian       0.74      0.70      0.72       211\n",
      "                  Japanese       0.00      0.00      0.00        25\n",
      "                    Korean       0.00      0.00      0.00         4\n",
      "                   Mexican       1.00      0.03      0.06        33\n",
      "                    Nordic       0.00      0.00      0.00         8\n",
      "             North African       0.00      0.00      0.00        15\n",
      "                 Pakistani       0.00      0.00      0.00         7\n",
      "                Portuguese       0.00      0.00      0.00         3\n",
      "            South American       0.00      0.00      0.00         3\n",
      "                   Spanish       0.00      0.00      0.00        24\n",
      " Thai and South-East Asian       0.89      0.61      0.73        54\n",
      "Turkish and Middle Eastern       0.00      0.00      0.00        30\n",
      "\n",
      "                  accuracy                           0.55      1181\n",
      "                 macro avg       0.23      0.17      0.17      1181\n",
      "              weighted avg       0.48      0.55      0.45      1181\n",
      "\n"
     ]
    },
    {
     "name": "stderr",
     "output_type": "stream",
     "text": [
      "C:\\Users\\Boss\\anaconda3\\envs\\PythonAdv\\lib\\site-packages\\sklearn\\metrics\\_classification.py:1221: UndefinedMetricWarning: Precision and F-score are ill-defined and being set to 0.0 in labels with no predicted samples. Use `zero_division` parameter to control this behavior.\n",
      "  _warn_prf(average, modifier, msg_start, len(result))\n"
     ]
    }
   ],
   "source": [
    "# Calculate classification report\n",
    "from sklearn.metrics import classification_report\n",
    "\n",
    "print(classification_report(y_test, y_predicted,\n",
    "                            target_names=cuisine_list))"
   ]
  }
 ],
 "metadata": {
  "kernelspec": {
   "display_name": "Python [conda env:PythonAdv] *",
   "language": "python",
   "name": "conda-env-PythonAdv-py"
  },
  "language_info": {
   "codemirror_mode": {
    "name": "ipython",
    "version": 3
   },
   "file_extension": ".py",
   "mimetype": "text/x-python",
   "name": "python",
   "nbconvert_exporter": "python",
   "pygments_lexer": "ipython3",
   "version": "3.6.12"
  }
 },
 "nbformat": 4,
 "nbformat_minor": 4
}
