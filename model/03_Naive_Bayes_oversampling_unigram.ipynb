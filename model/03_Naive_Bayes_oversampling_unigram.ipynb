{
 "cells": [
  {
   "cell_type": "code",
   "execution_count": 1,
   "metadata": {},
   "outputs": [
    {
     "name": "stderr",
     "output_type": "stream",
     "text": [
      "[nltk_data] Downloading package punkt to\n",
      "[nltk_data]     C:\\Users\\Boss\\AppData\\Roaming\\nltk_data...\n",
      "[nltk_data]   Package punkt is already up-to-date!\n",
      "[nltk_data] Downloading package stopwords to\n",
      "[nltk_data]     C:\\Users\\Boss\\AppData\\Roaming\\nltk_data...\n",
      "[nltk_data]   Package stopwords is already up-to-date!\n"
     ]
    }
   ],
   "source": [
    "# Import dependencies\n",
    "import pandas as pd\n",
    "import numpy as np\n",
    "import seaborn as sns\n",
    "\n",
    "# Plot confusion matrices\n",
    "import matplotlib as mpl \n",
    "import matplotlib.cm as cm \n",
    "import matplotlib.pyplot as plt\n",
    "\n",
    "# NLP libraries\n",
    "import re\n",
    "import string\n",
    "import unicodedata\n",
    "import nltk\n",
    "nltk.download('punkt')\n",
    "from nltk.tokenize import word_tokenize\n",
    "from nltk.corpus import stopwords\n",
    "nltk.download('stopwords')\n",
    "stop_words_nltk = set(stopwords.words('english'))\n",
    "from nltk.stem.porter import PorterStemmer\n",
    "stemmer = PorterStemmer()\n",
    "\n",
    "# Machine learning\n",
    "import sklearn\n",
    "from sklearn.model_selection import train_test_split\n",
    "from sklearn.feature_extraction.text import TfidfVectorizer\n",
    "from sklearn.naive_bayes import MultinomialNB\n",
    "\n",
    "# Evaluate the classifiers\n",
    "from sklearn import metrics\n",
    "from sklearn.metrics import accuracy_score\n",
    "from sklearn.metrics import confusion_matrix \n",
    "\n",
    "from sklearn.utils import resample\n",
    "\n",
    "# Import time function from time module to track the training duration\n",
    "from time import time"
   ]
  },
  {
   "cell_type": "markdown",
   "metadata": {},
   "source": [
    "## Connect to database"
   ]
  },
  {
   "cell_type": "code",
   "execution_count": 2,
   "metadata": {},
   "outputs": [],
   "source": [
    "# SQL Alchemy\n",
    "from sqlalchemy import create_engine"
   ]
  },
  {
   "cell_type": "code",
   "execution_count": 3,
   "metadata": {},
   "outputs": [],
   "source": [
    "# Create engine and connection\n",
    "engine = create_engine(\"sqlite:///../db.sqlite\")"
   ]
  },
  {
   "cell_type": "code",
   "execution_count": 4,
   "metadata": {},
   "outputs": [
    {
     "data": {
      "text/plain": [
       "['cuisine_ingredients']"
      ]
     },
     "execution_count": 4,
     "metadata": {},
     "output_type": "execute_result"
    }
   ],
   "source": [
    "# Check for tables\n",
    "engine.table_names()"
   ]
  },
  {
   "cell_type": "code",
   "execution_count": 5,
   "metadata": {},
   "outputs": [],
   "source": [
    "# Read in the data table\n",
    "df = pd.read_sql_query('SELECT * FROM cuisine_ingredients', con=engine)"
   ]
  },
  {
   "cell_type": "code",
   "execution_count": 6,
   "metadata": {},
   "outputs": [
    {
     "data": {
      "text/html": [
       "<div>\n",
       "<style scoped>\n",
       "    .dataframe tbody tr th:only-of-type {\n",
       "        vertical-align: middle;\n",
       "    }\n",
       "\n",
       "    .dataframe tbody tr th {\n",
       "        vertical-align: top;\n",
       "    }\n",
       "\n",
       "    .dataframe thead th {\n",
       "        text-align: right;\n",
       "    }\n",
       "</style>\n",
       "<table border=\"1\" class=\"dataframe\">\n",
       "  <thead>\n",
       "    <tr style=\"text-align: right;\">\n",
       "      <th></th>\n",
       "      <th>id</th>\n",
       "      <th>cuisine</th>\n",
       "      <th>recipe</th>\n",
       "      <th>full_ingredients</th>\n",
       "    </tr>\n",
       "  </thead>\n",
       "  <tbody>\n",
       "    <tr>\n",
       "      <th>3727</th>\n",
       "      <td>3728</td>\n",
       "      <td>Italian</td>\n",
       "      <td>Spicy fregola with scallops and crispy kale</td>\n",
       "      <td>['olive oil, for shallow and deep frying', '1 ...</td>\n",
       "    </tr>\n",
       "    <tr>\n",
       "      <th>1923</th>\n",
       "      <td>1924</td>\n",
       "      <td>Chinese</td>\n",
       "      <td>Chunky bacon and cucumber salad</td>\n",
       "      <td>['1 tbsp groundnut oil', '6 long dried chillie...</td>\n",
       "    </tr>\n",
       "    <tr>\n",
       "      <th>3552</th>\n",
       "      <td>3553</td>\n",
       "      <td>Italian</td>\n",
       "      <td>Polenta pork</td>\n",
       "      <td>['2 tbsp sunflower oil ', '12 rashers thick ri...</td>\n",
       "    </tr>\n",
       "    <tr>\n",
       "      <th>1146</th>\n",
       "      <td>1147</td>\n",
       "      <td>British</td>\n",
       "      <td>Oat fig stuffing</td>\n",
       "      <td>['140g/5oz butter', '100g/3½oz jumbo oats', '1...</td>\n",
       "    </tr>\n",
       "    <tr>\n",
       "      <th>3195</th>\n",
       "      <td>3196</td>\n",
       "      <td>Italian</td>\n",
       "      <td>Bolognese with tagliatelle</td>\n",
       "      <td>['250g/9oz 00 flour', '3-4 medium free-range e...</td>\n",
       "    </tr>\n",
       "    <tr>\n",
       "      <th>1643</th>\n",
       "      <td>1644</td>\n",
       "      <td>British</td>\n",
       "      <td>Textured potato salad</td>\n",
       "      <td>['675g/1½lb floury potatoes, peeled and cut in...</td>\n",
       "    </tr>\n",
       "    <tr>\n",
       "      <th>3054</th>\n",
       "      <td>3055</td>\n",
       "      <td>Indian</td>\n",
       "      <td>Tandoori lamb wrap</td>\n",
       "      <td>['150ml/5fl oz Greek-style yoghurt ', '½ small...</td>\n",
       "    </tr>\n",
       "    <tr>\n",
       "      <th>842</th>\n",
       "      <td>843</td>\n",
       "      <td>British</td>\n",
       "      <td>Gammon and pease pudding</td>\n",
       "      <td>['300g/10oz dried yellow split peas', '50g/2oz...</td>\n",
       "    </tr>\n",
       "    <tr>\n",
       "      <th>505</th>\n",
       "      <td>506</td>\n",
       "      <td>British</td>\n",
       "      <td>Braised shin of beef with parsnip purée</td>\n",
       "      <td>['4kg/9lb beef shin, on the bone', 'sea salt a...</td>\n",
       "    </tr>\n",
       "    <tr>\n",
       "      <th>2224</th>\n",
       "      <td>2225</td>\n",
       "      <td>French</td>\n",
       "      <td>Mary Berry's celeriac remoulade</td>\n",
       "      <td>['650g/1lb 7oz celeriac, peeled and sliced int...</td>\n",
       "    </tr>\n",
       "  </tbody>\n",
       "</table>\n",
       "</div>"
      ],
      "text/plain": [
       "        id  cuisine                                       recipe  \\\n",
       "3727  3728  Italian  Spicy fregola with scallops and crispy kale   \n",
       "1923  1924  Chinese              Chunky bacon and cucumber salad   \n",
       "3552  3553  Italian                                Polenta pork    \n",
       "1146  1147  British                             Oat fig stuffing   \n",
       "3195  3196  Italian                   Bolognese with tagliatelle   \n",
       "1643  1644  British                        Textured potato salad   \n",
       "3054  3055   Indian                           Tandoori lamb wrap   \n",
       "842    843  British                     Gammon and pease pudding   \n",
       "505    506  British      Braised shin of beef with parsnip purée   \n",
       "2224  2225   French              Mary Berry's celeriac remoulade   \n",
       "\n",
       "                                       full_ingredients  \n",
       "3727  ['olive oil, for shallow and deep frying', '1 ...  \n",
       "1923  ['1 tbsp groundnut oil', '6 long dried chillie...  \n",
       "3552  ['2 tbsp sunflower oil ', '12 rashers thick ri...  \n",
       "1146  ['140g/5oz butter', '100g/3½oz jumbo oats', '1...  \n",
       "3195  ['250g/9oz 00 flour', '3-4 medium free-range e...  \n",
       "1643  ['675g/1½lb floury potatoes, peeled and cut in...  \n",
       "3054  ['150ml/5fl oz Greek-style yoghurt ', '½ small...  \n",
       "842   ['300g/10oz dried yellow split peas', '50g/2oz...  \n",
       "505   ['4kg/9lb beef shin, on the bone', 'sea salt a...  \n",
       "2224  ['650g/1lb 7oz celeriac, peeled and sliced int...  "
      ]
     },
     "execution_count": 6,
     "metadata": {},
     "output_type": "execute_result"
    }
   ],
   "source": [
    "# Overview of the data set\n",
    "df.sample(10, random_state=2)"
   ]
  },
  {
   "cell_type": "code",
   "execution_count": 7,
   "metadata": {},
   "outputs": [
    {
     "data": {
      "text/plain": [
       "['African',\n",
       " 'American',\n",
       " 'British',\n",
       " 'Caribbean',\n",
       " 'Chinese',\n",
       " 'East European',\n",
       " 'French',\n",
       " 'Greek',\n",
       " 'Indian',\n",
       " 'Irish',\n",
       " 'Italian',\n",
       " 'Japanese',\n",
       " 'Korean',\n",
       " 'Mexican',\n",
       " 'Nordic',\n",
       " 'North African',\n",
       " 'Pakistani',\n",
       " 'Portuguese',\n",
       " 'South American',\n",
       " 'Spanish',\n",
       " 'Thai and South-East Asian',\n",
       " 'Turkish and Middle Eastern']"
      ]
     },
     "execution_count": 7,
     "metadata": {},
     "output_type": "execute_result"
    }
   ],
   "source": [
    "# Get a list of unique cuisines in the dataset\n",
    "cuisine_list = df.cuisine.unique().tolist()\n",
    "cuisine_list"
   ]
  },
  {
   "cell_type": "markdown",
   "metadata": {},
   "source": [
    "## Define text pre-processing function"
   ]
  },
  {
   "cell_type": "code",
   "execution_count": 8,
   "metadata": {},
   "outputs": [],
   "source": [
    "# Create a function to remove accented characters\n",
    "def remove_accented_chars(matchobj):\n",
    "    text = matchobj.group()\n",
    "    new_text = unicodedata.normalize('NFKD', text).encode('ascii', 'ignore').decode('utf-8', 'ignore')\n",
    "    return new_text"
   ]
  },
  {
   "cell_type": "code",
   "execution_count": 9,
   "metadata": {},
   "outputs": [],
   "source": [
    "words_to_remove = [\n",
    "    \"tbsp\", \"roughly\", \"chopped\", \"tsp\", \"finely\", \"oz\", \"plus\",\n",
    "    \"extra\", \"fresh\", \"freshly\", \"ground\", \"thinly\", \"sliced\", \"clove\",\n",
    "    \"cut\", \"kg\", \"lb\", \"cm\", \"ml\", \"mm\", \"small\", \"large\", \"medium\",\n",
    "    \"pinch\", \"peeled\", \"grated\", \"removed\", \"handful\", \"piece\", \"crushed\",\n",
    "    \"dried\", \"drained\", \"rinsed\", \"halved\", \"trimmed\", \"deseeded\", \"x\"]"
   ]
  },
  {
   "cell_type": "code",
   "execution_count": 10,
   "metadata": {},
   "outputs": [],
   "source": [
    "# Create a function to clean ingredient text\n",
    "def clean(doc):\n",
    "    doc = doc.str.lower()\n",
    "    doc = doc.str.replace(r'\\w*[\\d¼½¾⅓⅔⅛⅜⅝]\\w*', '')\n",
    "    doc = doc.str.translate(str.maketrans('', '', string.punctuation))\n",
    "    doc = doc.str.replace(r'[£×–‘’“”⁄]', '')\n",
    "    doc = doc.apply(lambda x: re.sub(r'[âãäçèéêîïñóôûüōưấớ]', remove_accented_chars, x))\n",
    "    doc = doc.apply(lambda x: word_tokenize(x))\n",
    "    doc = doc.apply(lambda x: [word for word in x if not word in stop_words_nltk])\n",
    "    doc = doc.apply(lambda x: [word for word in x if not word in words_to_remove])\n",
    "    doc = doc.apply(lambda x: [stemmer.stem(word) for word in x])\n",
    "    processed_doc = doc.apply(lambda x: ' '.join([word for word in x]))\n",
    "\n",
    "    return processed_doc"
   ]
  },
  {
   "cell_type": "code",
   "execution_count": 11,
   "metadata": {},
   "outputs": [],
   "source": [
    "# Add a new column to the dataframe with the cleaned text\n",
    "df[\"ingredients_processed\"] = clean(df.full_ingredients)"
   ]
  },
  {
   "cell_type": "code",
   "execution_count": 12,
   "metadata": {},
   "outputs": [
    {
     "data": {
      "text/html": [
       "<div>\n",
       "<style scoped>\n",
       "    .dataframe tbody tr th:only-of-type {\n",
       "        vertical-align: middle;\n",
       "    }\n",
       "\n",
       "    .dataframe tbody tr th {\n",
       "        vertical-align: top;\n",
       "    }\n",
       "\n",
       "    .dataframe thead th {\n",
       "        text-align: right;\n",
       "    }\n",
       "</style>\n",
       "<table border=\"1\" class=\"dataframe\">\n",
       "  <thead>\n",
       "    <tr style=\"text-align: right;\">\n",
       "      <th></th>\n",
       "      <th>id</th>\n",
       "      <th>cuisine</th>\n",
       "      <th>recipe</th>\n",
       "      <th>full_ingredients</th>\n",
       "      <th>ingredients_processed</th>\n",
       "    </tr>\n",
       "  </thead>\n",
       "  <tbody>\n",
       "    <tr>\n",
       "      <th>3727</th>\n",
       "      <td>3728</td>\n",
       "      <td>Italian</td>\n",
       "      <td>Spicy fregola with scallops and crispy kale</td>\n",
       "      <td>['olive oil, for shallow and deep frying', '1 ...</td>\n",
       "      <td>oliv oil shallow deep fri shallot garlic red c...</td>\n",
       "    </tr>\n",
       "    <tr>\n",
       "      <th>1923</th>\n",
       "      <td>1924</td>\n",
       "      <td>Chinese</td>\n",
       "      <td>Chunky bacon and cucumber salad</td>\n",
       "      <td>['1 tbsp groundnut oil', '6 long dried chillie...</td>\n",
       "      <td>groundnut oil long chilli sichuan peppercorn w...</td>\n",
       "    </tr>\n",
       "    <tr>\n",
       "      <th>3552</th>\n",
       "      <td>3553</td>\n",
       "      <td>Italian</td>\n",
       "      <td>Polenta pork</td>\n",
       "      <td>['2 tbsp sunflower oil ', '12 rashers thick ri...</td>\n",
       "      <td>sunflow oil rasher thick rindless smoke streak...</td>\n",
       "    </tr>\n",
       "    <tr>\n",
       "      <th>1146</th>\n",
       "      <td>1147</td>\n",
       "      <td>British</td>\n",
       "      <td>Oat fig stuffing</td>\n",
       "      <td>['140g/5oz butter', '100g/3½oz jumbo oats', '1...</td>\n",
       "      <td>butter jumbo oat roll oat red onion pistachio ...</td>\n",
       "    </tr>\n",
       "    <tr>\n",
       "      <th>3195</th>\n",
       "      <td>3196</td>\n",
       "      <td>Italian</td>\n",
       "      <td>Bolognese with tagliatelle</td>\n",
       "      <td>['250g/9oz 00 flour', '3-4 medium free-range e...</td>\n",
       "      <td>flour freerang egg prefer bright yellow yolk f...</td>\n",
       "    </tr>\n",
       "    <tr>\n",
       "      <th>1643</th>\n",
       "      <td>1644</td>\n",
       "      <td>British</td>\n",
       "      <td>Textured potato salad</td>\n",
       "      <td>['675g/1½lb floury potatoes, peeled and cut in...</td>\n",
       "      <td>flouri potato cube rasher smoke streaki bacon ...</td>\n",
       "    </tr>\n",
       "    <tr>\n",
       "      <th>3054</th>\n",
       "      <td>3055</td>\n",
       "      <td>Indian</td>\n",
       "      <td>Tandoori lamb wrap</td>\n",
       "      <td>['150ml/5fl oz Greek-style yoghurt ', '½ small...</td>\n",
       "      <td>greekstyl yoghurt onion garlic ginger garam ma...</td>\n",
       "    </tr>\n",
       "    <tr>\n",
       "      <th>842</th>\n",
       "      <td>843</td>\n",
       "      <td>British</td>\n",
       "      <td>Gammon and pease pudding</td>\n",
       "      <td>['300g/10oz dried yellow split peas', '50g/2oz...</td>\n",
       "      <td>yellow split pea butter onion thyme bay leaf s...</td>\n",
       "    </tr>\n",
       "    <tr>\n",
       "      <th>505</th>\n",
       "      <td>506</td>\n",
       "      <td>British</td>\n",
       "      <td>Braised shin of beef with parsnip purée</td>\n",
       "      <td>['4kg/9lb beef shin, on the bone', 'sea salt a...</td>\n",
       "      <td>beef shin bone sea salt black pepper oliv oil ...</td>\n",
       "    </tr>\n",
       "    <tr>\n",
       "      <th>2224</th>\n",
       "      <td>2225</td>\n",
       "      <td>French</td>\n",
       "      <td>Mary Berry's celeriac remoulade</td>\n",
       "      <td>['650g/1lb 7oz celeriac, peeled and sliced int...</td>\n",
       "      <td>celeriac thin matchstick see tip lemon juic li...</td>\n",
       "    </tr>\n",
       "  </tbody>\n",
       "</table>\n",
       "</div>"
      ],
      "text/plain": [
       "        id  cuisine                                       recipe  \\\n",
       "3727  3728  Italian  Spicy fregola with scallops and crispy kale   \n",
       "1923  1924  Chinese              Chunky bacon and cucumber salad   \n",
       "3552  3553  Italian                                Polenta pork    \n",
       "1146  1147  British                             Oat fig stuffing   \n",
       "3195  3196  Italian                   Bolognese with tagliatelle   \n",
       "1643  1644  British                        Textured potato salad   \n",
       "3054  3055   Indian                           Tandoori lamb wrap   \n",
       "842    843  British                     Gammon and pease pudding   \n",
       "505    506  British      Braised shin of beef with parsnip purée   \n",
       "2224  2225   French              Mary Berry's celeriac remoulade   \n",
       "\n",
       "                                       full_ingredients  \\\n",
       "3727  ['olive oil, for shallow and deep frying', '1 ...   \n",
       "1923  ['1 tbsp groundnut oil', '6 long dried chillie...   \n",
       "3552  ['2 tbsp sunflower oil ', '12 rashers thick ri...   \n",
       "1146  ['140g/5oz butter', '100g/3½oz jumbo oats', '1...   \n",
       "3195  ['250g/9oz 00 flour', '3-4 medium free-range e...   \n",
       "1643  ['675g/1½lb floury potatoes, peeled and cut in...   \n",
       "3054  ['150ml/5fl oz Greek-style yoghurt ', '½ small...   \n",
       "842   ['300g/10oz dried yellow split peas', '50g/2oz...   \n",
       "505   ['4kg/9lb beef shin, on the bone', 'sea salt a...   \n",
       "2224  ['650g/1lb 7oz celeriac, peeled and sliced int...   \n",
       "\n",
       "                                  ingredients_processed  \n",
       "3727  oliv oil shallow deep fri shallot garlic red c...  \n",
       "1923  groundnut oil long chilli sichuan peppercorn w...  \n",
       "3552  sunflow oil rasher thick rindless smoke streak...  \n",
       "1146  butter jumbo oat roll oat red onion pistachio ...  \n",
       "3195  flour freerang egg prefer bright yellow yolk f...  \n",
       "1643  flouri potato cube rasher smoke streaki bacon ...  \n",
       "3054  greekstyl yoghurt onion garlic ginger garam ma...  \n",
       "842   yellow split pea butter onion thyme bay leaf s...  \n",
       "505   beef shin bone sea salt black pepper oliv oil ...  \n",
       "2224  celeriac thin matchstick see tip lemon juic li...  "
      ]
     },
     "execution_count": 12,
     "metadata": {},
     "output_type": "execute_result"
    }
   ],
   "source": [
    "# Overview of the dataset\n",
    "df.sample(10, random_state=2)"
   ]
  },
  {
   "cell_type": "markdown",
   "metadata": {},
   "source": [
    "## Modeling"
   ]
  },
  {
   "cell_type": "markdown",
   "metadata": {},
   "source": [
    "### Split the data into training and test sets (75% train, 25% test)"
   ]
  },
  {
   "cell_type": "code",
   "execution_count": 13,
   "metadata": {},
   "outputs": [
    {
     "name": "stdout",
     "output_type": "stream",
     "text": [
      "(4724,) (4724,)\n"
     ]
    }
   ],
   "source": [
    "# The column contains textual data to extract features from.\n",
    "X = df.ingredients_processed\n",
    "\n",
    "# The column we're learning to predict.\n",
    "y = df.cuisine \n",
    "print(X.shape, y.shape)"
   ]
  },
  {
   "cell_type": "markdown",
   "metadata": {},
   "source": [
    "Change the proportion between train and test. k-folds"
   ]
  },
  {
   "cell_type": "code",
   "execution_count": 14,
   "metadata": {},
   "outputs": [
    {
     "name": "stdout",
     "output_type": "stream",
     "text": [
      "(3543,) (3543,)\n",
      "(1181,) (1181,)\n"
     ]
    }
   ],
   "source": [
    "# Split X and y into training and testing sets. By default, it splits 75% training and 25% test\n",
    "X_train, X_test, y_train, y_test = train_test_split(X, y, random_state=1, stratify=y)\n",
    "print(X_train.shape, y_train.shape)\n",
    "print(X_test.shape, y_test.shape)"
   ]
  },
  {
   "cell_type": "markdown",
   "metadata": {},
   "source": [
    "### Resampling"
   ]
  },
  {
   "cell_type": "code",
   "execution_count": 15,
   "metadata": {},
   "outputs": [
    {
     "data": {
      "text/plain": [
       "(3543, 2)"
      ]
     },
     "execution_count": 15,
     "metadata": {},
     "output_type": "execute_result"
    }
   ],
   "source": [
    "# Concatenate our training data back together\n",
    "X_y_train = pd.concat([X_train, y_train], axis=1)\n",
    "X_y_train.shape"
   ]
  },
  {
   "cell_type": "code",
   "execution_count": 16,
   "metadata": {},
   "outputs": [
    {
     "data": {
      "text/html": [
       "<div>\n",
       "<style scoped>\n",
       "    .dataframe tbody tr th:only-of-type {\n",
       "        vertical-align: middle;\n",
       "    }\n",
       "\n",
       "    .dataframe tbody tr th {\n",
       "        vertical-align: top;\n",
       "    }\n",
       "\n",
       "    .dataframe thead th {\n",
       "        text-align: right;\n",
       "    }\n",
       "</style>\n",
       "<table border=\"1\" class=\"dataframe\">\n",
       "  <thead>\n",
       "    <tr style=\"text-align: right;\">\n",
       "      <th></th>\n",
       "      <th>ingredients_processed</th>\n",
       "      <th>cuisine</th>\n",
       "    </tr>\n",
       "  </thead>\n",
       "  <tbody>\n",
       "    <tr>\n",
       "      <th>1948</th>\n",
       "      <td>white fish fillet sole plaic cornflour dust gr...</td>\n",
       "      <td>Chinese</td>\n",
       "    </tr>\n",
       "    <tr>\n",
       "      <th>921</th>\n",
       "      <td>oliv oil goodqual pork sausag shallot rosemari...</td>\n",
       "      <td>British</td>\n",
       "    </tr>\n",
       "    <tr>\n",
       "      <th>4215</th>\n",
       "      <td>veget oil onion garlic root ginger tomato red ...</td>\n",
       "      <td>Pakistani</td>\n",
       "    </tr>\n",
       "    <tr>\n",
       "      <th>2601</th>\n",
       "      <td>sirloin steak salt black pepper oliv oil butte...</td>\n",
       "      <td>French</td>\n",
       "    </tr>\n",
       "    <tr>\n",
       "      <th>3770</th>\n",
       "      <td>type pasta flour avail supermarket bake sectio...</td>\n",
       "      <td>Italian</td>\n",
       "    </tr>\n",
       "  </tbody>\n",
       "</table>\n",
       "</div>"
      ],
      "text/plain": [
       "                                  ingredients_processed    cuisine\n",
       "1948  white fish fillet sole plaic cornflour dust gr...    Chinese\n",
       "921   oliv oil goodqual pork sausag shallot rosemari...    British\n",
       "4215  veget oil onion garlic root ginger tomato red ...  Pakistani\n",
       "2601  sirloin steak salt black pepper oliv oil butte...     French\n",
       "3770  type pasta flour avail supermarket bake sectio...    Italian"
      ]
     },
     "execution_count": 16,
     "metadata": {},
     "output_type": "execute_result"
    }
   ],
   "source": [
    "# Overview of the training set\n",
    "X_y_train.head()"
   ]
  },
  {
   "cell_type": "code",
   "execution_count": 17,
   "metadata": {},
   "outputs": [],
   "source": [
    "# Separate minority and majority classes\n",
    "british_cuisines_df = X_y_train[X_y_train.cuisine==\"British\"]\n",
    "other_cuisines_df = X_y_train[X_y_train.cuisine!=\"British\"]"
   ]
  },
  {
   "cell_type": "code",
   "execution_count": 18,
   "metadata": {},
   "outputs": [
    {
     "data": {
      "text/html": [
       "<div>\n",
       "<style scoped>\n",
       "    .dataframe tbody tr th:only-of-type {\n",
       "        vertical-align: middle;\n",
       "    }\n",
       "\n",
       "    .dataframe tbody tr th {\n",
       "        vertical-align: top;\n",
       "    }\n",
       "\n",
       "    .dataframe thead th {\n",
       "        text-align: right;\n",
       "    }\n",
       "</style>\n",
       "<table border=\"1\" class=\"dataframe\">\n",
       "  <thead>\n",
       "    <tr style=\"text-align: right;\">\n",
       "      <th></th>\n",
       "      <th>ingredients_processed</th>\n",
       "      <th>cuisine</th>\n",
       "    </tr>\n",
       "  </thead>\n",
       "  <tbody>\n",
       "    <tr>\n",
       "      <th>1948</th>\n",
       "      <td>white fish fillet sole plaic cornflour dust gr...</td>\n",
       "      <td>Chinese</td>\n",
       "    </tr>\n",
       "    <tr>\n",
       "      <th>4215</th>\n",
       "      <td>veget oil onion garlic root ginger tomato red ...</td>\n",
       "      <td>Pakistani</td>\n",
       "    </tr>\n",
       "    <tr>\n",
       "      <th>2601</th>\n",
       "      <td>sirloin steak salt black pepper oliv oil butte...</td>\n",
       "      <td>French</td>\n",
       "    </tr>\n",
       "    <tr>\n",
       "      <th>3770</th>\n",
       "      <td>type pasta flour avail supermarket bake sectio...</td>\n",
       "      <td>Italian</td>\n",
       "    </tr>\n",
       "    <tr>\n",
       "      <th>3737</th>\n",
       "      <td>tagliatel broccoli floret hand pea frozen oliv...</td>\n",
       "      <td>Italian</td>\n",
       "    </tr>\n",
       "  </tbody>\n",
       "</table>\n",
       "</div>"
      ],
      "text/plain": [
       "                                  ingredients_processed    cuisine\n",
       "1948  white fish fillet sole plaic cornflour dust gr...    Chinese\n",
       "4215  veget oil onion garlic root ginger tomato red ...  Pakistani\n",
       "2601  sirloin steak salt black pepper oliv oil butte...     French\n",
       "3770  type pasta flour avail supermarket bake sectio...    Italian\n",
       "3737  tagliatel broccoli floret hand pea frozen oliv...    Italian"
      ]
     },
     "execution_count": 18,
     "metadata": {},
     "output_type": "execute_result"
    }
   ],
   "source": [
    "other_cuisines_df.head()"
   ]
  },
  {
   "cell_type": "code",
   "execution_count": 19,
   "metadata": {},
   "outputs": [
    {
     "data": {
      "text/plain": [
       "['Chinese',\n",
       " 'Pakistani',\n",
       " 'French',\n",
       " 'Italian',\n",
       " 'Japanese',\n",
       " 'Indian',\n",
       " 'Mexican',\n",
       " 'American',\n",
       " 'Nordic',\n",
       " 'Turkish and Middle Eastern',\n",
       " 'Caribbean',\n",
       " 'Thai and South-East Asian',\n",
       " 'North African',\n",
       " 'East European',\n",
       " 'Irish',\n",
       " 'Portuguese',\n",
       " 'Greek',\n",
       " 'South American',\n",
       " 'Spanish',\n",
       " 'Korean',\n",
       " 'African']"
      ]
     },
     "execution_count": 19,
     "metadata": {},
     "output_type": "execute_result"
    }
   ],
   "source": [
    "# Get a list of minority cuisines\n",
    "other_cuisines = other_cuisines_df.cuisine.unique().tolist()\n",
    "other_cuisines"
   ]
  },
  {
   "cell_type": "code",
   "execution_count": 20,
   "metadata": {},
   "outputs": [],
   "source": [
    "other_cuisines_upsampled = list()\n",
    "\n",
    "# Upsample the minorities\n",
    "\n",
    "for cuisine in other_cuisines:\n",
    "    cuisine_df = X_y_train[X_y_train.cuisine==cuisine]\n",
    "    cuisine_upsampled = resample(cuisine_df,\n",
    "                                 replace=True, # sample with replacement\n",
    "                                 n_samples=len(british_cuisines_df), # match number of recipes in British cuisine\n",
    "                                 random_state=1)\n",
    "    other_cuisines_upsampled.append(cuisine_upsampled)"
   ]
  },
  {
   "cell_type": "code",
   "execution_count": 21,
   "metadata": {},
   "outputs": [
    {
     "data": {
      "text/html": [
       "<div>\n",
       "<style scoped>\n",
       "    .dataframe tbody tr th:only-of-type {\n",
       "        vertical-align: middle;\n",
       "    }\n",
       "\n",
       "    .dataframe tbody tr th {\n",
       "        vertical-align: top;\n",
       "    }\n",
       "\n",
       "    .dataframe thead th {\n",
       "        text-align: right;\n",
       "    }\n",
       "</style>\n",
       "<table border=\"1\" class=\"dataframe\">\n",
       "  <thead>\n",
       "    <tr style=\"text-align: right;\">\n",
       "      <th></th>\n",
       "      <th>ingredients_processed</th>\n",
       "      <th>cuisine</th>\n",
       "    </tr>\n",
       "  </thead>\n",
       "  <tbody>\n",
       "    <tr>\n",
       "      <th>1909</th>\n",
       "      <td>veget oil shallow fri firm tofu pat dri kitche...</td>\n",
       "      <td>Chinese</td>\n",
       "    </tr>\n",
       "    <tr>\n",
       "      <th>2041</th>\n",
       "      <td>firm white fish fillet cod sole skin whole fis...</td>\n",
       "      <td>Chinese</td>\n",
       "    </tr>\n",
       "    <tr>\n",
       "      <th>2019</th>\n",
       "      <td>shaox rice wine dri sherri light soy sauc clea...</td>\n",
       "      <td>Chinese</td>\n",
       "    </tr>\n",
       "    <tr>\n",
       "      <th>1980</th>\n",
       "      <td>lobster sesam oil root ginger spring onion pak...</td>\n",
       "      <td>Chinese</td>\n",
       "    </tr>\n",
       "    <tr>\n",
       "      <th>1999</th>\n",
       "      <td>pork minc ginger garlic spring onion soy sauc ...</td>\n",
       "      <td>Chinese</td>\n",
       "    </tr>\n",
       "  </tbody>\n",
       "</table>\n",
       "</div>"
      ],
      "text/plain": [
       "                                  ingredients_processed  cuisine\n",
       "1909  veget oil shallow fri firm tofu pat dri kitche...  Chinese\n",
       "2041  firm white fish fillet cod sole skin whole fis...  Chinese\n",
       "2019  shaox rice wine dri sherri light soy sauc clea...  Chinese\n",
       "1980  lobster sesam oil root ginger spring onion pak...  Chinese\n",
       "1999  pork minc ginger garlic spring onion soy sauc ...  Chinese"
      ]
     },
     "execution_count": 21,
     "metadata": {},
     "output_type": "execute_result"
    }
   ],
   "source": [
    "# Create a new resampled data set for minority cuisines\n",
    "other_cuisines_upsampled = pd.concat(other_cuisines_upsampled)\n",
    "other_cuisines_upsampled.head()"
   ]
  },
  {
   "cell_type": "code",
   "execution_count": 22,
   "metadata": {},
   "outputs": [],
   "source": [
    "# Combine the majority and the upsampled minority\n",
    "upsampled = pd.concat([british_cuisines_df, other_cuisines_upsampled])"
   ]
  },
  {
   "cell_type": "code",
   "execution_count": 23,
   "metadata": {},
   "outputs": [
    {
     "data": {
      "text/plain": [
       "Caribbean                     1098\n",
       "Korean                        1098\n",
       "North African                 1098\n",
       "Nordic                        1098\n",
       "East European                 1098\n",
       "South American                1098\n",
       "American                      1098\n",
       "Greek                         1098\n",
       "Portuguese                    1098\n",
       "Italian                       1098\n",
       "Thai and South-East Asian     1098\n",
       "African                       1098\n",
       "Chinese                       1098\n",
       "Irish                         1098\n",
       "British                       1098\n",
       "Japanese                      1098\n",
       "Indian                        1098\n",
       "Spanish                       1098\n",
       "Pakistani                     1098\n",
       "Mexican                       1098\n",
       "Turkish and Middle Eastern    1098\n",
       "French                        1098\n",
       "Name: cuisine, dtype: int64"
      ]
     },
     "execution_count": 23,
     "metadata": {},
     "output_type": "execute_result"
    }
   ],
   "source": [
    "# check new class counts\n",
    "upsampled.cuisine.value_counts()"
   ]
  },
  {
   "cell_type": "code",
   "execution_count": 24,
   "metadata": {},
   "outputs": [
    {
     "data": {
      "text/html": [
       "<div>\n",
       "<style scoped>\n",
       "    .dataframe tbody tr th:only-of-type {\n",
       "        vertical-align: middle;\n",
       "    }\n",
       "\n",
       "    .dataframe tbody tr th {\n",
       "        vertical-align: top;\n",
       "    }\n",
       "\n",
       "    .dataframe thead th {\n",
       "        text-align: right;\n",
       "    }\n",
       "</style>\n",
       "<table border=\"1\" class=\"dataframe\">\n",
       "  <thead>\n",
       "    <tr style=\"text-align: right;\">\n",
       "      <th></th>\n",
       "      <th>ingredients_processed</th>\n",
       "      <th>cuisine</th>\n",
       "    </tr>\n",
       "  </thead>\n",
       "  <tbody>\n",
       "    <tr>\n",
       "      <th>4133</th>\n",
       "      <td>oliv oil fri chicken thigh onion garlic clove ...</td>\n",
       "      <td>North African</td>\n",
       "    </tr>\n",
       "    <tr>\n",
       "      <th>3773</th>\n",
       "      <td>flour freerang italian yellow golden egg durum...</td>\n",
       "      <td>Italian</td>\n",
       "    </tr>\n",
       "    <tr>\n",
       "      <th>2592</th>\n",
       "      <td>salt butter room temperatur caster sugar star ...</td>\n",
       "      <td>French</td>\n",
       "    </tr>\n",
       "    <tr>\n",
       "      <th>4159</th>\n",
       "      <td>chicken joint piec oliv oil preserv lemon wash...</td>\n",
       "      <td>North African</td>\n",
       "    </tr>\n",
       "    <tr>\n",
       "      <th>4204</th>\n",
       "      <td>ghee clarifi butter onion root ginger garlic c...</td>\n",
       "      <td>Pakistani</td>\n",
       "    </tr>\n",
       "    <tr>\n",
       "      <th>3943</th>\n",
       "      <td>fillet beef garlic clove root ginger slice oni...</td>\n",
       "      <td>Korean</td>\n",
       "    </tr>\n",
       "    <tr>\n",
       "      <th>4287</th>\n",
       "      <td>whole king prawn around oliv oil garlic clove ...</td>\n",
       "      <td>Spanish</td>\n",
       "    </tr>\n",
       "    <tr>\n",
       "      <th>4046</th>\n",
       "      <td>oliv oil greas beef minc red onion garlic clov...</td>\n",
       "      <td>Mexican</td>\n",
       "    </tr>\n",
       "    <tr>\n",
       "      <th>2145</th>\n",
       "      <td>salmon fillet skin longgrain rice butter greas...</td>\n",
       "      <td>East European</td>\n",
       "    </tr>\n",
       "    <tr>\n",
       "      <th>4413</th>\n",
       "      <td>duck breast skin veget oil dark soy sauc clear...</td>\n",
       "      <td>Thai and South-East Asian</td>\n",
       "    </tr>\n",
       "  </tbody>\n",
       "</table>\n",
       "</div>"
      ],
      "text/plain": [
       "                                  ingredients_processed  \\\n",
       "4133  oliv oil fri chicken thigh onion garlic clove ...   \n",
       "3773  flour freerang italian yellow golden egg durum...   \n",
       "2592  salt butter room temperatur caster sugar star ...   \n",
       "4159  chicken joint piec oliv oil preserv lemon wash...   \n",
       "4204  ghee clarifi butter onion root ginger garlic c...   \n",
       "3943  fillet beef garlic clove root ginger slice oni...   \n",
       "4287  whole king prawn around oliv oil garlic clove ...   \n",
       "4046  oliv oil greas beef minc red onion garlic clov...   \n",
       "2145  salmon fillet skin longgrain rice butter greas...   \n",
       "4413  duck breast skin veget oil dark soy sauc clear...   \n",
       "\n",
       "                        cuisine  \n",
       "4133              North African  \n",
       "3773                    Italian  \n",
       "2592                     French  \n",
       "4159              North African  \n",
       "4204                  Pakistani  \n",
       "3943                     Korean  \n",
       "4287                    Spanish  \n",
       "4046                    Mexican  \n",
       "2145              East European  \n",
       "4413  Thai and South-East Asian  "
      ]
     },
     "execution_count": 24,
     "metadata": {},
     "output_type": "execute_result"
    }
   ],
   "source": [
    "# Overview of the upsampled dataset\n",
    "upsampled.sample(10, random_state=2)"
   ]
  },
  {
   "cell_type": "markdown",
   "metadata": {},
   "source": [
    "### Feature engineering using TF-IDF"
   ]
  },
  {
   "cell_type": "markdown",
   "metadata": {},
   "source": [
    "In bag of words and bag of n-grams approaches, all words in a corpus are treated equally important. TF-IDF, meanwhile, emphasizes that some words in a document are more important than others. This time, I'll try TF-IDF with unigram only."
   ]
  },
  {
   "cell_type": "code",
   "execution_count": 25,
   "metadata": {},
   "outputs": [],
   "source": [
    "tfidf = TfidfVectorizer()"
   ]
  },
  {
   "cell_type": "code",
   "execution_count": 26,
   "metadata": {},
   "outputs": [],
   "source": [
    "X_train_new = upsampled.ingredients_processed\n",
    "y_train_new = upsampled.cuisine"
   ]
  },
  {
   "cell_type": "code",
   "execution_count": 27,
   "metadata": {},
   "outputs": [
    {
     "name": "stdout",
     "output_type": "stream",
     "text": [
      "(24156, 2877) (1181, 2877)\n"
     ]
    }
   ],
   "source": [
    "# Vectorize train and test data\n",
    "X_train_transformed = tfidf.fit_transform(X_train_new)\n",
    "X_test_transformed = tfidf.transform(X_test)\n",
    "print(X_train_transformed.shape, X_test_transformed.shape)"
   ]
  },
  {
   "cell_type": "markdown",
   "metadata": {},
   "source": [
    "### Train the model"
   ]
  },
  {
   "cell_type": "code",
   "execution_count": 28,
   "metadata": {},
   "outputs": [
    {
     "name": "stdout",
     "output_type": "stream",
     "text": [
      "Wall time: 124 ms\n"
     ]
    },
    {
     "data": {
      "text/plain": [
       "MultinomialNB()"
      ]
     },
     "execution_count": 28,
     "metadata": {},
     "output_type": "execute_result"
    }
   ],
   "source": [
    "# Instantiate a Multinomial Naive Bayes model\n",
    "model = MultinomialNB()\n",
    "\n",
    "# Train the model\n",
    "%time model.fit(X_train_transformed, y_train_new)"
   ]
  },
  {
   "cell_type": "code",
   "execution_count": 29,
   "metadata": {},
   "outputs": [],
   "source": [
    "# Make class predictions for X_test_transformed\n",
    "y_predicted = model.predict(X_test_transformed)"
   ]
  },
  {
   "cell_type": "markdown",
   "metadata": {},
   "source": [
    "### Evaluate the model"
   ]
  },
  {
   "cell_type": "code",
   "execution_count": 30,
   "metadata": {},
   "outputs": [
    {
     "name": "stdout",
     "output_type": "stream",
     "text": [
      "Accuracy:  0.6418289585097375\n"
     ]
    }
   ],
   "source": [
    "#Print accuracy:\n",
    "print(\"Accuracy: \", accuracy_score(y_test, y_predicted))"
   ]
  },
  {
   "cell_type": "code",
   "execution_count": 31,
   "metadata": {},
   "outputs": [],
   "source": [
    "# Function to plot confusion matrix. \n",
    "# Ref: http://scikit-learn.org/stable/auto_examples/model_selection/plot_confusion_matrix.html\n",
    "import itertools\n",
    "from sklearn.metrics import roc_auc_score\n",
    "\n",
    "def plot_confusion_matrix(cm, classes,\n",
    "                          normalize=False,\n",
    "                          title='Confusion matrix',\n",
    "                          cmap=plt.cm.Blues):\n",
    "    \"\"\"\n",
    "    This function prints and plots the confusion matrix.\n",
    "    Normalization can be applied by setting `normalize=True`.\n",
    "    \"\"\"\n",
    "    if normalize:\n",
    "        cm = cm.astype('float') / cm.sum(axis=1)[:, np.newaxis]\n",
    "\n",
    "    plt.imshow(cm, interpolation='nearest', cmap=cmap)\n",
    "    plt.title(title)\n",
    "    plt.colorbar()\n",
    "    tick_marks = np.arange(len(classes))\n",
    "    plt.xticks(tick_marks, classes, rotation=90)\n",
    "    plt.yticks(tick_marks, classes)\n",
    "\n",
    "    fmt = '.2f' if normalize else 'd'\n",
    "    thresh = cm.max() / 2.\n",
    "    for i, j in itertools.product(range(cm.shape[0]), range(cm.shape[1])):\n",
    "        plt.text(j, i, format(cm[i, j], fmt),\n",
    "                 horizontalalignment=\"center\",\n",
    "                 color=\"white\" if cm[i, j] > thresh else \"black\")\n",
    "\n",
    "    plt.tight_layout()\n",
    "    plt.ylabel('True label',fontsize=15)\n",
    "    plt.xlabel('Predicted label',fontsize=15)"
   ]
  },
  {
   "cell_type": "code",
   "execution_count": 32,
   "metadata": {},
   "outputs": [
    {
     "data": {
      "image/png": "[encoded data removed]",
      "text/plain": [
       "<Figure size 1152x864 with 2 Axes>"
      ]
     },
     "metadata": {
      "needs_background": "light"
     },
     "output_type": "display_data"
    }
   ],
   "source": [
    "# print the confusion matrix\n",
    "cnf_matrix = confusion_matrix(y_test, y_predicted)\n",
    "plt.figure(figsize=(16, 12))\n",
    "plot_confusion_matrix(cnf_matrix, classes=cuisine_list, normalize=True,\n",
    "                      title='Confusion matrix with all features - Naive Bayes - oversampling - unigram')\n",
    "plt.savefig(\"../static/images/cfm_nb_oversampling_uni.png\", bbox_inches='tight')"
   ]
  },
  {
   "cell_type": "markdown",
   "metadata": {},
   "source": [
    "This time the model performs much better than the NB model with both uni and bi-grams, with 64% vs. 59% overall accuracy score respectively. Like the latter, it also predicts very well in Chinese, Indian, Japanese, Mexican, North African, Thai and South-East Asian cuisines. It also does better in classifying American, British, Greek, Italian, Korean etc. It only misses out completely on Portuguese cuisine."
   ]
  },
  {
   "cell_type": "code",
   "execution_count": 33,
   "metadata": {},
   "outputs": [
    {
     "name": "stdout",
     "output_type": "stream",
     "text": [
      "                            precision    recall  f1-score   support\n",
      "\n",
      "                   African       0.20      0.17      0.18         6\n",
      "                  American       0.47      0.62      0.53        78\n",
      "                   British       0.82      0.55      0.66       366\n",
      "                 Caribbean       0.47      0.75      0.58        20\n",
      "                   Chinese       0.89      0.82      0.85        50\n",
      "             East European       0.24      0.42      0.31        19\n",
      "                    French       0.45      0.49      0.47       122\n",
      "                     Greek       0.45      0.67      0.54        15\n",
      "                    Indian       0.81      0.81      0.81        98\n",
      "                     Irish       0.10      0.12      0.11         8\n",
      "                   Italian       0.80      0.71      0.75       178\n",
      "                  Japanese       0.85      0.81      0.83        21\n",
      "                    Korean       0.43      0.60      0.50         5\n",
      "                   Mexican       0.59      0.87      0.70        31\n",
      "                    Nordic       0.20      0.64      0.30        11\n",
      "             North African       0.62      0.79      0.70        19\n",
      "                 Pakistani       0.33      0.38      0.35         8\n",
      "                Portuguese       0.00      0.00      0.00         4\n",
      "            South American       0.67      0.40      0.50         5\n",
      "                   Spanish       0.38      0.67      0.48        27\n",
      " Thai and South-East Asian       0.78      0.88      0.82        56\n",
      "Turkish and Middle Eastern       0.72      0.76      0.74        34\n",
      "\n",
      "                  accuracy                           0.64      1181\n",
      "                 macro avg       0.51      0.59      0.53      1181\n",
      "              weighted avg       0.69      0.64      0.65      1181\n",
      "\n"
     ]
    }
   ],
   "source": [
    "# Calculate classification report\n",
    "from sklearn.metrics import classification_report\n",
    "\n",
    "print(classification_report(y_test, y_predicted,\n",
    "                            target_names=cuisine_list))"
   ]
  },
  {
   "cell_type": "code",
   "execution_count": null,
   "metadata": {},
   "outputs": [],
   "source": []
  },
  {
   "cell_type": "code",
   "execution_count": null,
   "metadata": {},
   "outputs": [],
   "source": []
  }
 ],
 "metadata": {
  "kernelspec": {
   "display_name": "Python [conda env:PythonAdv] *",
   "language": "python",
   "name": "conda-env-PythonAdv-py"
  },
  "language_info": {
   "codemirror_mode": {
    "name": "ipython",
    "version": 3
   },
   "file_extension": ".py",
   "mimetype": "text/x-python",
   "name": "python",
   "nbconvert_exporter": "python",
   "pygments_lexer": "ipython3",
   "version": "3.6.12"
  }
 },
 "nbformat": 4,
 "nbformat_minor": 4
}
