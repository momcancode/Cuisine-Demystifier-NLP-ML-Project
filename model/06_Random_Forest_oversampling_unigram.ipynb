{
 "cells": [
  {
   "cell_type": "code",
   "execution_count": 1,
   "metadata": {},
   "outputs": [
    {
     "name": "stderr",
     "output_type": "stream",
     "text": [
      "[nltk_data] Downloading package punkt to\n",
      "[nltk_data]     C:\\Users\\Boss\\AppData\\Roaming\\nltk_data...\n",
      "[nltk_data]   Package punkt is already up-to-date!\n",
      "[nltk_data] Downloading package stopwords to\n",
      "[nltk_data]     C:\\Users\\Boss\\AppData\\Roaming\\nltk_data...\n",
      "[nltk_data]   Package stopwords is already up-to-date!\n"
     ]
    }
   ],
   "source": [
    "# Import dependencies\n",
    "import pandas as pd\n",
    "import numpy as np\n",
    "import seaborn as sns\n",
    "import re\n",
    "import string\n",
    "\n",
    "#matplotlib imports are used to plot confusion matrices for the classifiers\n",
    "import matplotlib as mpl \n",
    "import matplotlib.cm as cm \n",
    "import matplotlib.pyplot as plt \n",
    "\n",
    "# Process accented characters\n",
    "import unicodedata\n",
    "\n",
    "# NLTK\n",
    "import nltk\n",
    "nltk.download('punkt')\n",
    "from nltk.tokenize import word_tokenize\n",
    "from nltk.corpus import stopwords\n",
    "nltk.download('stopwords')\n",
    "stop_words_nltk = set(stopwords.words('english'))\n",
    "from nltk.stem.porter import PorterStemmer\n",
    "stemmer = PorterStemmer()\n",
    "\n",
    "# Machine learning\n",
    "import sklearn\n",
    "from sklearn.model_selection import train_test_split\n",
    "from sklearn.feature_extraction.text import TfidfVectorizer\n",
    "\n",
    "# Import different metrics to evaluate the classifiers\n",
    "from sklearn import metrics\n",
    "from sklearn.metrics import accuracy_score\n",
    "from sklearn.metrics import confusion_matrix \n",
    "\n",
    "from sklearn.utils import resample\n",
    "\n",
    "#import time function from time module to track the training duration\n",
    "from time import time"
   ]
  },
  {
   "cell_type": "markdown",
   "metadata": {},
   "source": [
    "## Connect to database"
   ]
  },
  {
   "cell_type": "code",
   "execution_count": 2,
   "metadata": {},
   "outputs": [],
   "source": [
    "# SQL Alchemy\n",
    "from sqlalchemy import create_engine"
   ]
  },
  {
   "cell_type": "code",
   "execution_count": 3,
   "metadata": {},
   "outputs": [],
   "source": [
    "# Create engine and connection\n",
    "engine = create_engine(\"sqlite:///../db.sqlite\")"
   ]
  },
  {
   "cell_type": "code",
   "execution_count": 4,
   "metadata": {},
   "outputs": [
    {
     "data": {
      "text/plain": [
       "['cuisine_ingredients']"
      ]
     },
     "execution_count": 4,
     "metadata": {},
     "output_type": "execute_result"
    }
   ],
   "source": [
    "# Check for tables\n",
    "engine.table_names()"
   ]
  },
  {
   "cell_type": "code",
   "execution_count": 5,
   "metadata": {},
   "outputs": [],
   "source": [
    "# Read in the csv file\n",
    "df = pd.read_sql_query('SELECT * FROM cuisine_ingredients', con=engine)"
   ]
  },
  {
   "cell_type": "code",
   "execution_count": 6,
   "metadata": {},
   "outputs": [
    {
     "data": {
      "text/html": [
       "<div>\n",
       "<style scoped>\n",
       "    .dataframe tbody tr th:only-of-type {\n",
       "        vertical-align: middle;\n",
       "    }\n",
       "\n",
       "    .dataframe tbody tr th {\n",
       "        vertical-align: top;\n",
       "    }\n",
       "\n",
       "    .dataframe thead th {\n",
       "        text-align: right;\n",
       "    }\n",
       "</style>\n",
       "<table border=\"1\" class=\"dataframe\">\n",
       "  <thead>\n",
       "    <tr style=\"text-align: right;\">\n",
       "      <th></th>\n",
       "      <th>id</th>\n",
       "      <th>cuisine</th>\n",
       "      <th>recipe</th>\n",
       "      <th>full_ingredients</th>\n",
       "    </tr>\n",
       "  </thead>\n",
       "  <tbody>\n",
       "    <tr>\n",
       "      <th>3727</th>\n",
       "      <td>3728</td>\n",
       "      <td>Italian</td>\n",
       "      <td>Spicy fregola with scallops and crispy kale</td>\n",
       "      <td>['olive oil, for shallow and deep frying', '1 ...</td>\n",
       "    </tr>\n",
       "    <tr>\n",
       "      <th>1923</th>\n",
       "      <td>1924</td>\n",
       "      <td>Chinese</td>\n",
       "      <td>Chunky bacon and cucumber salad</td>\n",
       "      <td>['1 tbsp groundnut oil', '6 long dried chillie...</td>\n",
       "    </tr>\n",
       "    <tr>\n",
       "      <th>3552</th>\n",
       "      <td>3553</td>\n",
       "      <td>Italian</td>\n",
       "      <td>Polenta pork</td>\n",
       "      <td>['2 tbsp sunflower oil ', '12 rashers thick ri...</td>\n",
       "    </tr>\n",
       "    <tr>\n",
       "      <th>1146</th>\n",
       "      <td>1147</td>\n",
       "      <td>British</td>\n",
       "      <td>Oat fig stuffing</td>\n",
       "      <td>['140g/5oz butter', '100g/3½oz jumbo oats', '1...</td>\n",
       "    </tr>\n",
       "    <tr>\n",
       "      <th>3195</th>\n",
       "      <td>3196</td>\n",
       "      <td>Italian</td>\n",
       "      <td>Bolognese with tagliatelle</td>\n",
       "      <td>['250g/9oz 00 flour', '3-4 medium free-range e...</td>\n",
       "    </tr>\n",
       "    <tr>\n",
       "      <th>1643</th>\n",
       "      <td>1644</td>\n",
       "      <td>British</td>\n",
       "      <td>Textured potato salad</td>\n",
       "      <td>['675g/1½lb floury potatoes, peeled and cut in...</td>\n",
       "    </tr>\n",
       "    <tr>\n",
       "      <th>3054</th>\n",
       "      <td>3055</td>\n",
       "      <td>Indian</td>\n",
       "      <td>Tandoori lamb wrap</td>\n",
       "      <td>['150ml/5fl oz Greek-style yoghurt ', '½ small...</td>\n",
       "    </tr>\n",
       "    <tr>\n",
       "      <th>842</th>\n",
       "      <td>843</td>\n",
       "      <td>British</td>\n",
       "      <td>Gammon and pease pudding</td>\n",
       "      <td>['300g/10oz dried yellow split peas', '50g/2oz...</td>\n",
       "    </tr>\n",
       "    <tr>\n",
       "      <th>505</th>\n",
       "      <td>506</td>\n",
       "      <td>British</td>\n",
       "      <td>Braised shin of beef with parsnip purée</td>\n",
       "      <td>['4kg/9lb beef shin, on the bone', 'sea salt a...</td>\n",
       "    </tr>\n",
       "    <tr>\n",
       "      <th>2224</th>\n",
       "      <td>2225</td>\n",
       "      <td>French</td>\n",
       "      <td>Mary Berry's celeriac remoulade</td>\n",
       "      <td>['650g/1lb 7oz celeriac, peeled and sliced int...</td>\n",
       "    </tr>\n",
       "  </tbody>\n",
       "</table>\n",
       "</div>"
      ],
      "text/plain": [
       "        id  cuisine                                       recipe  \\\n",
       "3727  3728  Italian  Spicy fregola with scallops and crispy kale   \n",
       "1923  1924  Chinese              Chunky bacon and cucumber salad   \n",
       "3552  3553  Italian                                Polenta pork    \n",
       "1146  1147  British                             Oat fig stuffing   \n",
       "3195  3196  Italian                   Bolognese with tagliatelle   \n",
       "1643  1644  British                        Textured potato salad   \n",
       "3054  3055   Indian                           Tandoori lamb wrap   \n",
       "842    843  British                     Gammon and pease pudding   \n",
       "505    506  British      Braised shin of beef with parsnip purée   \n",
       "2224  2225   French              Mary Berry's celeriac remoulade   \n",
       "\n",
       "                                       full_ingredients  \n",
       "3727  ['olive oil, for shallow and deep frying', '1 ...  \n",
       "1923  ['1 tbsp groundnut oil', '6 long dried chillie...  \n",
       "3552  ['2 tbsp sunflower oil ', '12 rashers thick ri...  \n",
       "1146  ['140g/5oz butter', '100g/3½oz jumbo oats', '1...  \n",
       "3195  ['250g/9oz 00 flour', '3-4 medium free-range e...  \n",
       "1643  ['675g/1½lb floury potatoes, peeled and cut in...  \n",
       "3054  ['150ml/5fl oz Greek-style yoghurt ', '½ small...  \n",
       "842   ['300g/10oz dried yellow split peas', '50g/2oz...  \n",
       "505   ['4kg/9lb beef shin, on the bone', 'sea salt a...  \n",
       "2224  ['650g/1lb 7oz celeriac, peeled and sliced int...  "
      ]
     },
     "execution_count": 6,
     "metadata": {},
     "output_type": "execute_result"
    }
   ],
   "source": [
    "# Overview of the data set\n",
    "df.sample(10, random_state=2)"
   ]
  },
  {
   "cell_type": "code",
   "execution_count": 7,
   "metadata": {},
   "outputs": [
    {
     "data": {
      "text/plain": [
       "['African',\n",
       " 'American',\n",
       " 'British',\n",
       " 'Caribbean',\n",
       " 'Chinese',\n",
       " 'East European',\n",
       " 'French',\n",
       " 'Greek',\n",
       " 'Indian',\n",
       " 'Irish',\n",
       " 'Italian',\n",
       " 'Japanese',\n",
       " 'Korean',\n",
       " 'Mexican',\n",
       " 'Nordic',\n",
       " 'North African',\n",
       " 'Pakistani',\n",
       " 'Portuguese',\n",
       " 'South American',\n",
       " 'Spanish',\n",
       " 'Thai and South-East Asian',\n",
       " 'Turkish and Middle Eastern']"
      ]
     },
     "execution_count": 7,
     "metadata": {},
     "output_type": "execute_result"
    }
   ],
   "source": [
    "# Get a list of unique cuisines in the dataset\n",
    "cuisine_list = df.cuisine.unique().tolist()\n",
    "cuisine_list"
   ]
  },
  {
   "cell_type": "markdown",
   "metadata": {},
   "source": [
    "## Define text pre-processing function"
   ]
  },
  {
   "cell_type": "code",
   "execution_count": 8,
   "metadata": {},
   "outputs": [],
   "source": [
    "# Create a function to remove accented characters\n",
    "def remove_accented_chars(matchobj):\n",
    "    text = matchobj.group()\n",
    "    new_text = unicodedata.normalize('NFKD', text).encode('ascii', 'ignore').decode('utf-8', 'ignore')\n",
    "    return new_text"
   ]
  },
  {
   "cell_type": "markdown",
   "metadata": {},
   "source": [
    "I'm combining the text cleaning and pre-processing steps as explored and explained in the 00_EDA file."
   ]
  },
  {
   "cell_type": "code",
   "execution_count": 9,
   "metadata": {},
   "outputs": [],
   "source": [
    "# Create a function to clean ingredient text\n",
    "def clean(doc):\n",
    "    doc = doc.str.lower()\n",
    "    doc = doc.str.replace(r'\\w*[\\d¼½¾⅓⅔⅛⅜⅝]\\w*', '')\n",
    "    doc = doc.str.translate(str.maketrans('', '', string.punctuation))\n",
    "    doc = doc.str.replace(r'[£×–‘’“”⁄]', '')\n",
    "#     doc = doc.apply(lambda x: re.sub(r'[âãäçèéêîïñóôûüōưấớ]', remove_accented_chars, x))\n",
    "    doc = doc.apply(lambda x: word_tokenize(x))\n",
    "    doc = doc.apply(lambda x: [word for word in x if not word in stop_words_nltk])\n",
    "    doc = doc.apply(lambda x: [stemmer.stem(word) for word in x])\n",
    "    processed_doc = doc.apply(lambda x: ' '.join([word for word in x]))\n",
    "\n",
    "    return processed_doc"
   ]
  },
  {
   "cell_type": "code",
   "execution_count": 10,
   "metadata": {},
   "outputs": [],
   "source": [
    "# Add a new column to the dataframe with the cleaned text\n",
    "df[\"ingredients_processed\"] = clean(df.full_ingredients)"
   ]
  },
  {
   "cell_type": "code",
   "execution_count": 11,
   "metadata": {},
   "outputs": [
    {
     "data": {
      "text/html": [
       "<div>\n",
       "<style scoped>\n",
       "    .dataframe tbody tr th:only-of-type {\n",
       "        vertical-align: middle;\n",
       "    }\n",
       "\n",
       "    .dataframe tbody tr th {\n",
       "        vertical-align: top;\n",
       "    }\n",
       "\n",
       "    .dataframe thead th {\n",
       "        text-align: right;\n",
       "    }\n",
       "</style>\n",
       "<table border=\"1\" class=\"dataframe\">\n",
       "  <thead>\n",
       "    <tr style=\"text-align: right;\">\n",
       "      <th></th>\n",
       "      <th>id</th>\n",
       "      <th>cuisine</th>\n",
       "      <th>recipe</th>\n",
       "      <th>full_ingredients</th>\n",
       "      <th>ingredients_processed</th>\n",
       "    </tr>\n",
       "  </thead>\n",
       "  <tbody>\n",
       "    <tr>\n",
       "      <th>3727</th>\n",
       "      <td>3728</td>\n",
       "      <td>Italian</td>\n",
       "      <td>Spicy fregola with scallops and crispy kale</td>\n",
       "      <td>['olive oil, for shallow and deep frying', '1 ...</td>\n",
       "      <td>oliv oil shallow deep fri shallot fine chop ga...</td>\n",
       "    </tr>\n",
       "    <tr>\n",
       "      <th>1923</th>\n",
       "      <td>1924</td>\n",
       "      <td>Chinese</td>\n",
       "      <td>Chunky bacon and cucumber salad</td>\n",
       "      <td>['1 tbsp groundnut oil', '6 long dried chillie...</td>\n",
       "      <td>tbsp groundnut oil long dri chilli tsp sichuan...</td>\n",
       "    </tr>\n",
       "    <tr>\n",
       "      <th>3552</th>\n",
       "      <td>3553</td>\n",
       "      <td>Italian</td>\n",
       "      <td>Polenta pork</td>\n",
       "      <td>['2 tbsp sunflower oil ', '12 rashers thick ri...</td>\n",
       "      <td>tbsp sunflow oil rasher thick rindless smoke s...</td>\n",
       "    </tr>\n",
       "    <tr>\n",
       "      <th>1146</th>\n",
       "      <td>1147</td>\n",
       "      <td>British</td>\n",
       "      <td>Oat fig stuffing</td>\n",
       "      <td>['140g/5oz butter', '100g/3½oz jumbo oats', '1...</td>\n",
       "      <td>butter jumbo oat roll oat red onion roughli ch...</td>\n",
       "    </tr>\n",
       "    <tr>\n",
       "      <th>3195</th>\n",
       "      <td>3196</td>\n",
       "      <td>Italian</td>\n",
       "      <td>Bolognese with tagliatelle</td>\n",
       "      <td>['250g/9oz 00 flour', '3-4 medium free-range e...</td>\n",
       "      <td>flour medium freerang egg prefer bright yellow...</td>\n",
       "    </tr>\n",
       "    <tr>\n",
       "      <th>1643</th>\n",
       "      <td>1644</td>\n",
       "      <td>British</td>\n",
       "      <td>Textured potato salad</td>\n",
       "      <td>['675g/1½lb floury potatoes, peeled and cut in...</td>\n",
       "      <td>flouri potato peel cut cube rasher smoke strea...</td>\n",
       "    </tr>\n",
       "    <tr>\n",
       "      <th>3054</th>\n",
       "      <td>3055</td>\n",
       "      <td>Indian</td>\n",
       "      <td>Tandoori lamb wrap</td>\n",
       "      <td>['150ml/5fl oz Greek-style yoghurt ', '½ small...</td>\n",
       "      <td>oz greekstyl yoghurt small onion roughli chop ...</td>\n",
       "    </tr>\n",
       "    <tr>\n",
       "      <th>842</th>\n",
       "      <td>843</td>\n",
       "      <td>British</td>\n",
       "      <td>Gammon and pease pudding</td>\n",
       "      <td>['300g/10oz dried yellow split peas', '50g/2oz...</td>\n",
       "      <td>dri yellow split pea butter onion roughli chop...</td>\n",
       "    </tr>\n",
       "    <tr>\n",
       "      <th>505</th>\n",
       "      <td>506</td>\n",
       "      <td>British</td>\n",
       "      <td>Braised shin of beef with parsnip purée</td>\n",
       "      <td>['4kg/9lb beef shin, on the bone', 'sea salt a...</td>\n",
       "      <td>beef shin bone sea salt freshli ground black p...</td>\n",
       "    </tr>\n",
       "    <tr>\n",
       "      <th>2224</th>\n",
       "      <td>2225</td>\n",
       "      <td>French</td>\n",
       "      <td>Mary Berry's celeriac remoulade</td>\n",
       "      <td>['650g/1lb 7oz celeriac, peeled and sliced int...</td>\n",
       "      <td>celeriac peel slice thin matchstick see tip le...</td>\n",
       "    </tr>\n",
       "  </tbody>\n",
       "</table>\n",
       "</div>"
      ],
      "text/plain": [
       "        id  cuisine                                       recipe  \\\n",
       "3727  3728  Italian  Spicy fregola with scallops and crispy kale   \n",
       "1923  1924  Chinese              Chunky bacon and cucumber salad   \n",
       "3552  3553  Italian                                Polenta pork    \n",
       "1146  1147  British                             Oat fig stuffing   \n",
       "3195  3196  Italian                   Bolognese with tagliatelle   \n",
       "1643  1644  British                        Textured potato salad   \n",
       "3054  3055   Indian                           Tandoori lamb wrap   \n",
       "842    843  British                     Gammon and pease pudding   \n",
       "505    506  British      Braised shin of beef with parsnip purée   \n",
       "2224  2225   French              Mary Berry's celeriac remoulade   \n",
       "\n",
       "                                       full_ingredients  \\\n",
       "3727  ['olive oil, for shallow and deep frying', '1 ...   \n",
       "1923  ['1 tbsp groundnut oil', '6 long dried chillie...   \n",
       "3552  ['2 tbsp sunflower oil ', '12 rashers thick ri...   \n",
       "1146  ['140g/5oz butter', '100g/3½oz jumbo oats', '1...   \n",
       "3195  ['250g/9oz 00 flour', '3-4 medium free-range e...   \n",
       "1643  ['675g/1½lb floury potatoes, peeled and cut in...   \n",
       "3054  ['150ml/5fl oz Greek-style yoghurt ', '½ small...   \n",
       "842   ['300g/10oz dried yellow split peas', '50g/2oz...   \n",
       "505   ['4kg/9lb beef shin, on the bone', 'sea salt a...   \n",
       "2224  ['650g/1lb 7oz celeriac, peeled and sliced int...   \n",
       "\n",
       "                                  ingredients_processed  \n",
       "3727  oliv oil shallow deep fri shallot fine chop ga...  \n",
       "1923  tbsp groundnut oil long dri chilli tsp sichuan...  \n",
       "3552  tbsp sunflow oil rasher thick rindless smoke s...  \n",
       "1146  butter jumbo oat roll oat red onion roughli ch...  \n",
       "3195  flour medium freerang egg prefer bright yellow...  \n",
       "1643  flouri potato peel cut cube rasher smoke strea...  \n",
       "3054  oz greekstyl yoghurt small onion roughli chop ...  \n",
       "842   dri yellow split pea butter onion roughli chop...  \n",
       "505   beef shin bone sea salt freshli ground black p...  \n",
       "2224  celeriac peel slice thin matchstick see tip le...  "
      ]
     },
     "execution_count": 11,
     "metadata": {},
     "output_type": "execute_result"
    }
   ],
   "source": [
    "# Overview of the dataset\n",
    "df.sample(10, random_state=2)"
   ]
  },
  {
   "cell_type": "markdown",
   "metadata": {},
   "source": [
    "## Modeling"
   ]
  },
  {
   "cell_type": "markdown",
   "metadata": {},
   "source": [
    "### Split the data into training and test sets (75% train and 25% test)"
   ]
  },
  {
   "cell_type": "code",
   "execution_count": 12,
   "metadata": {},
   "outputs": [
    {
     "name": "stdout",
     "output_type": "stream",
     "text": [
      "(4724,) (4724,)\n"
     ]
    }
   ],
   "source": [
    "# The column contains textual data to extract features from.\n",
    "X = df.ingredients_processed\n",
    "\n",
    "# The column we're learning to predict.\n",
    "y = df.cuisine \n",
    "print(X.shape, y.shape)"
   ]
  },
  {
   "cell_type": "code",
   "execution_count": 13,
   "metadata": {},
   "outputs": [
    {
     "name": "stdout",
     "output_type": "stream",
     "text": [
      "(3543,) (3543,)\n",
      "(1181,) (1181,)\n"
     ]
    }
   ],
   "source": [
    "# Split X and y into training and testing sets. By default, it splits 75% training and 25% test\n",
    "X_train, X_test, y_train, y_test = train_test_split(X, y, random_state=1)\n",
    "print(X_train.shape, y_train.shape)\n",
    "print(X_test.shape, y_test.shape)"
   ]
  },
  {
   "cell_type": "markdown",
   "metadata": {},
   "source": [
    "### Resampling"
   ]
  },
  {
   "cell_type": "code",
   "execution_count": 14,
   "metadata": {},
   "outputs": [
    {
     "data": {
      "text/plain": [
       "(3543, 2)"
      ]
     },
     "execution_count": 14,
     "metadata": {},
     "output_type": "execute_result"
    }
   ],
   "source": [
    "# Concatenate our training data back together\n",
    "X_y_train = pd.concat([X_train, y_train], axis=1)\n",
    "X_y_train.shape"
   ]
  },
  {
   "cell_type": "code",
   "execution_count": 15,
   "metadata": {},
   "outputs": [
    {
     "data": {
      "text/html": [
       "<div>\n",
       "<style scoped>\n",
       "    .dataframe tbody tr th:only-of-type {\n",
       "        vertical-align: middle;\n",
       "    }\n",
       "\n",
       "    .dataframe tbody tr th {\n",
       "        vertical-align: top;\n",
       "    }\n",
       "\n",
       "    .dataframe thead th {\n",
       "        text-align: right;\n",
       "    }\n",
       "</style>\n",
       "<table border=\"1\" class=\"dataframe\">\n",
       "  <thead>\n",
       "    <tr style=\"text-align: right;\">\n",
       "      <th></th>\n",
       "      <th>ingredients_processed</th>\n",
       "      <th>cuisine</th>\n",
       "    </tr>\n",
       "  </thead>\n",
       "  <tbody>\n",
       "    <tr>\n",
       "      <th>1564</th>\n",
       "      <td>stew steak cut larg chunk beef kidney cut larg...</td>\n",
       "      <td>British</td>\n",
       "    </tr>\n",
       "    <tr>\n",
       "      <th>3569</th>\n",
       "      <td>whole squid tube remov wing tentacl remov rese...</td>\n",
       "      <td>Italian</td>\n",
       "    </tr>\n",
       "    <tr>\n",
       "      <th>177</th>\n",
       "      <td>larg freerang egg tbsp milk tbsp plain flour f...</td>\n",
       "      <td>American</td>\n",
       "    </tr>\n",
       "    <tr>\n",
       "      <th>2018</th>\n",
       "      <td>beef short rib bone tbsp neutral oil groundnut...</td>\n",
       "      <td>Chinese</td>\n",
       "    </tr>\n",
       "    <tr>\n",
       "      <th>2772</th>\n",
       "      <td>larg freerang egg tbsp light oliv oil tsp cumi...</td>\n",
       "      <td>Indian</td>\n",
       "    </tr>\n",
       "  </tbody>\n",
       "</table>\n",
       "</div>"
      ],
      "text/plain": [
       "                                  ingredients_processed   cuisine\n",
       "1564  stew steak cut larg chunk beef kidney cut larg...   British\n",
       "3569  whole squid tube remov wing tentacl remov rese...   Italian\n",
       "177   larg freerang egg tbsp milk tbsp plain flour f...  American\n",
       "2018  beef short rib bone tbsp neutral oil groundnut...   Chinese\n",
       "2772  larg freerang egg tbsp light oliv oil tsp cumi...    Indian"
      ]
     },
     "execution_count": 15,
     "metadata": {},
     "output_type": "execute_result"
    }
   ],
   "source": [
    "# Overview of the training set\n",
    "X_y_train.head()"
   ]
  },
  {
   "cell_type": "code",
   "execution_count": 16,
   "metadata": {},
   "outputs": [
    {
     "data": {
      "text/html": [
       "<div>\n",
       "<style scoped>\n",
       "    .dataframe tbody tr th:only-of-type {\n",
       "        vertical-align: middle;\n",
       "    }\n",
       "\n",
       "    .dataframe tbody tr th {\n",
       "        vertical-align: top;\n",
       "    }\n",
       "\n",
       "    .dataframe thead th {\n",
       "        text-align: right;\n",
       "    }\n",
       "</style>\n",
       "<table border=\"1\" class=\"dataframe\">\n",
       "  <thead>\n",
       "    <tr style=\"text-align: right;\">\n",
       "      <th></th>\n",
       "      <th>ingredients_processed</th>\n",
       "      <th>cuisine</th>\n",
       "    </tr>\n",
       "  </thead>\n",
       "  <tbody>\n",
       "    <tr>\n",
       "      <th>3569</th>\n",
       "      <td>whole squid tube remov wing tentacl remov rese...</td>\n",
       "      <td>Italian</td>\n",
       "    </tr>\n",
       "    <tr>\n",
       "      <th>177</th>\n",
       "      <td>larg freerang egg tbsp milk tbsp plain flour f...</td>\n",
       "      <td>American</td>\n",
       "    </tr>\n",
       "    <tr>\n",
       "      <th>2018</th>\n",
       "      <td>beef short rib bone tbsp neutral oil groundnut...</td>\n",
       "      <td>Chinese</td>\n",
       "    </tr>\n",
       "    <tr>\n",
       "      <th>2772</th>\n",
       "      <td>larg freerang egg tbsp light oliv oil tsp cumi...</td>\n",
       "      <td>Indian</td>\n",
       "    </tr>\n",
       "    <tr>\n",
       "      <th>3732</th>\n",
       "      <td>wholem penn tbsp veget oil onion fine chop gar...</td>\n",
       "      <td>Italian</td>\n",
       "    </tr>\n",
       "  </tbody>\n",
       "</table>\n",
       "</div>"
      ],
      "text/plain": [
       "                                  ingredients_processed   cuisine\n",
       "3569  whole squid tube remov wing tentacl remov rese...   Italian\n",
       "177   larg freerang egg tbsp milk tbsp plain flour f...  American\n",
       "2018  beef short rib bone tbsp neutral oil groundnut...   Chinese\n",
       "2772  larg freerang egg tbsp light oliv oil tsp cumi...    Indian\n",
       "3732  wholem penn tbsp veget oil onion fine chop gar...   Italian"
      ]
     },
     "execution_count": 16,
     "metadata": {},
     "output_type": "execute_result"
    }
   ],
   "source": [
    "# Separate minority and majority classes\n",
    "british_cuisines_df = X_y_train[X_y_train.cuisine==\"British\"]\n",
    "other_cuisines_df = X_y_train[X_y_train.cuisine!=\"British\"]\n",
    "other_cuisines_df.head()"
   ]
  },
  {
   "cell_type": "code",
   "execution_count": 17,
   "metadata": {},
   "outputs": [
    {
     "data": {
      "text/plain": [
       "['Italian',\n",
       " 'American',\n",
       " 'Chinese',\n",
       " 'Indian',\n",
       " 'Thai and South-East Asian',\n",
       " 'Mexican',\n",
       " 'Japanese',\n",
       " 'Spanish',\n",
       " 'French',\n",
       " 'East European',\n",
       " 'Caribbean',\n",
       " 'North African',\n",
       " 'Turkish and Middle Eastern',\n",
       " 'Irish',\n",
       " 'African',\n",
       " 'Portuguese',\n",
       " 'Nordic',\n",
       " 'Pakistani',\n",
       " 'South American',\n",
       " 'Korean',\n",
       " 'Greek']"
      ]
     },
     "execution_count": 17,
     "metadata": {},
     "output_type": "execute_result"
    }
   ],
   "source": [
    "# Get a list of minority cuisines\n",
    "other_cuisines = other_cuisines_df.cuisine.unique().tolist()\n",
    "other_cuisines"
   ]
  },
  {
   "cell_type": "code",
   "execution_count": 18,
   "metadata": {},
   "outputs": [],
   "source": [
    "other_cuisines_upsampled = list()\n",
    "\n",
    "# Upsample the minorities\n",
    "\n",
    "for cuisine in other_cuisines:\n",
    "    cuisine_df = X_y_train[X_y_train.cuisine==cuisine]\n",
    "    cuisine_upsampled = resample(cuisine_df,\n",
    "                                 replace=True, # sample with replacement\n",
    "                                 n_samples=len(british_cuisines_df), # match number of recipes in British cuisine\n",
    "                                 random_state=1)\n",
    "    other_cuisines_upsampled.append(cuisine_upsampled)"
   ]
  },
  {
   "cell_type": "code",
   "execution_count": 19,
   "metadata": {},
   "outputs": [
    {
     "data": {
      "text/html": [
       "<div>\n",
       "<style scoped>\n",
       "    .dataframe tbody tr th:only-of-type {\n",
       "        vertical-align: middle;\n",
       "    }\n",
       "\n",
       "    .dataframe tbody tr th {\n",
       "        vertical-align: top;\n",
       "    }\n",
       "\n",
       "    .dataframe thead th {\n",
       "        text-align: right;\n",
       "    }\n",
       "</style>\n",
       "<table border=\"1\" class=\"dataframe\">\n",
       "  <thead>\n",
       "    <tr style=\"text-align: right;\">\n",
       "      <th></th>\n",
       "      <th>ingredients_processed</th>\n",
       "      <th>cuisine</th>\n",
       "    </tr>\n",
       "  </thead>\n",
       "  <tbody>\n",
       "    <tr>\n",
       "      <th>3347</th>\n",
       "      <td>aubergin slice lengthway grill oliv oil golden...</td>\n",
       "      <td>Italian</td>\n",
       "    </tr>\n",
       "    <tr>\n",
       "      <th>3540</th>\n",
       "      <td>white bread flour tbsp oliv oil pinch fine sal...</td>\n",
       "      <td>Italian</td>\n",
       "    </tr>\n",
       "    <tr>\n",
       "      <th>3764</th>\n",
       "      <td>small globe artichok tbsp oliv oil garlic clov...</td>\n",
       "      <td>Italian</td>\n",
       "    </tr>\n",
       "    <tr>\n",
       "      <th>3638</th>\n",
       "      <td>cure salt cube lardo garlic clove fine chop dr...</td>\n",
       "      <td>Italian</td>\n",
       "    </tr>\n",
       "    <tr>\n",
       "      <th>3436</th>\n",
       "      <td>frozen mix berri caster sugar caster sugar med...</td>\n",
       "      <td>Italian</td>\n",
       "    </tr>\n",
       "  </tbody>\n",
       "</table>\n",
       "</div>"
      ],
      "text/plain": [
       "                                  ingredients_processed  cuisine\n",
       "3347  aubergin slice lengthway grill oliv oil golden...  Italian\n",
       "3540  white bread flour tbsp oliv oil pinch fine sal...  Italian\n",
       "3764  small globe artichok tbsp oliv oil garlic clov...  Italian\n",
       "3638  cure salt cube lardo garlic clove fine chop dr...  Italian\n",
       "3436  frozen mix berri caster sugar caster sugar med...  Italian"
      ]
     },
     "execution_count": 19,
     "metadata": {},
     "output_type": "execute_result"
    }
   ],
   "source": [
    "# Create a new resampled data set for minority cuisines\n",
    "other_cuisines_upsampled = pd.concat(other_cuisines_upsampled)\n",
    "other_cuisines_upsampled.head()"
   ]
  },
  {
   "cell_type": "code",
   "execution_count": 20,
   "metadata": {},
   "outputs": [],
   "source": [
    "# Combine the majority and the upsampled minority\n",
    "upsampled = pd.concat([british_cuisines_df, other_cuisines_upsampled])"
   ]
  },
  {
   "cell_type": "code",
   "execution_count": 21,
   "metadata": {},
   "outputs": [
    {
     "data": {
      "text/plain": [
       "Japanese                      1099\n",
       "Caribbean                     1099\n",
       "African                       1099\n",
       "Chinese                       1099\n",
       "Indian                        1099\n",
       "American                      1099\n",
       "French                        1099\n",
       "British                       1099\n",
       "Thai and South-East Asian     1099\n",
       "North African                 1099\n",
       "Turkish and Middle Eastern    1099\n",
       "East European                 1099\n",
       "Spanish                       1099\n",
       "Irish                         1099\n",
       "Nordic                        1099\n",
       "Mexican                       1099\n",
       "Pakistani                     1099\n",
       "Italian                       1099\n",
       "South American                1099\n",
       "Korean                        1099\n",
       "Greek                         1099\n",
       "Portuguese                    1099\n",
       "Name: cuisine, dtype: int64"
      ]
     },
     "execution_count": 21,
     "metadata": {},
     "output_type": "execute_result"
    }
   ],
   "source": [
    "# check new class counts\n",
    "upsampled.cuisine.value_counts()"
   ]
  },
  {
   "cell_type": "code",
   "execution_count": 22,
   "metadata": {},
   "outputs": [
    {
     "data": {
      "text/html": [
       "<div>\n",
       "<style scoped>\n",
       "    .dataframe tbody tr th:only-of-type {\n",
       "        vertical-align: middle;\n",
       "    }\n",
       "\n",
       "    .dataframe tbody tr th {\n",
       "        vertical-align: top;\n",
       "    }\n",
       "\n",
       "    .dataframe thead th {\n",
       "        text-align: right;\n",
       "    }\n",
       "</style>\n",
       "<table border=\"1\" class=\"dataframe\">\n",
       "  <thead>\n",
       "    <tr style=\"text-align: right;\">\n",
       "      <th></th>\n",
       "      <th>ingredients_processed</th>\n",
       "      <th>cuisine</th>\n",
       "    </tr>\n",
       "  </thead>\n",
       "  <tbody>\n",
       "    <tr>\n",
       "      <th>3883</th>\n",
       "      <td>tsp oliv oil small red chilli fine chop plu ex...</td>\n",
       "      <td>Japanese</td>\n",
       "    </tr>\n",
       "    <tr>\n",
       "      <th>4051</th>\n",
       "      <td>tsp ground cumin tsp chilli powder tsp dri ore...</td>\n",
       "      <td>Mexican</td>\n",
       "    </tr>\n",
       "    <tr>\n",
       "      <th>3098</th>\n",
       "      <td>butter digest biscuit crush cream chees oz bai...</td>\n",
       "      <td>Irish</td>\n",
       "    </tr>\n",
       "    <tr>\n",
       "      <th>2108</th>\n",
       "      <td>unsalt butter soften garlic bulb clove peel cr...</td>\n",
       "      <td>East European</td>\n",
       "    </tr>\n",
       "    <tr>\n",
       "      <th>4253</th>\n",
       "      <td>tbsp veget oil fresh amarillo chilli seed remo...</td>\n",
       "      <td>South American</td>\n",
       "    </tr>\n",
       "    <tr>\n",
       "      <th>3517</th>\n",
       "      <td>selfrais flour caster sugar plu tbsp top unsal...</td>\n",
       "      <td>Italian</td>\n",
       "    </tr>\n",
       "    <tr>\n",
       "      <th>22</th>\n",
       "      <td>bonein chicken thigh drumstick larg onion roug...</td>\n",
       "      <td>African</td>\n",
       "    </tr>\n",
       "    <tr>\n",
       "      <th>3848</th>\n",
       "      <td>sugar oz white wine vinegar chilli fresh root ...</td>\n",
       "      <td>Japanese</td>\n",
       "    </tr>\n",
       "    <tr>\n",
       "      <th>1900</th>\n",
       "      <td>tbsp veget oil chicken breast cut thin strip t...</td>\n",
       "      <td>Chinese</td>\n",
       "    </tr>\n",
       "    <tr>\n",
       "      <th>1879</th>\n",
       "      <td>greek yoghurt caster sugar lemon juic fine sli...</td>\n",
       "      <td>Caribbean</td>\n",
       "    </tr>\n",
       "  </tbody>\n",
       "</table>\n",
       "</div>"
      ],
      "text/plain": [
       "                                  ingredients_processed         cuisine\n",
       "3883  tsp oliv oil small red chilli fine chop plu ex...        Japanese\n",
       "4051  tsp ground cumin tsp chilli powder tsp dri ore...         Mexican\n",
       "3098  butter digest biscuit crush cream chees oz bai...           Irish\n",
       "2108  unsalt butter soften garlic bulb clove peel cr...   East European\n",
       "4253  tbsp veget oil fresh amarillo chilli seed remo...  South American\n",
       "3517  selfrais flour caster sugar plu tbsp top unsal...         Italian\n",
       "22    bonein chicken thigh drumstick larg onion roug...         African\n",
       "3848  sugar oz white wine vinegar chilli fresh root ...        Japanese\n",
       "1900  tbsp veget oil chicken breast cut thin strip t...         Chinese\n",
       "1879  greek yoghurt caster sugar lemon juic fine sli...       Caribbean"
      ]
     },
     "execution_count": 22,
     "metadata": {},
     "output_type": "execute_result"
    }
   ],
   "source": [
    "# Overview of the upsampled dataset\n",
    "upsampled.sample(10, random_state=2)"
   ]
  },
  {
   "cell_type": "markdown",
   "metadata": {},
   "source": [
    "### Feature engineering using TF-IDF"
   ]
  },
  {
   "cell_type": "markdown",
   "metadata": {},
   "source": [
    "In bags of words and bags of n-grams approaches, all words in a corpus are treated equally important. TF-IDF, meanwhile, emphasizes that some words in a document are more important than others. For the current classification problem, I find that TF-IDF would suit the best."
   ]
  },
  {
   "cell_type": "code",
   "execution_count": 23,
   "metadata": {},
   "outputs": [],
   "source": [
    "tfidf = TfidfVectorizer()"
   ]
  },
  {
   "cell_type": "code",
   "execution_count": 24,
   "metadata": {},
   "outputs": [],
   "source": [
    "X_train_new = upsampled.ingredients_processed\n",
    "y_train_new = upsampled.cuisine"
   ]
  },
  {
   "cell_type": "code",
   "execution_count": 25,
   "metadata": {},
   "outputs": [
    {
     "name": "stdout",
     "output_type": "stream",
     "text": [
      "(24178, 2948) (1181, 2948)\n"
     ]
    }
   ],
   "source": [
    "# Vectorize train and test data\n",
    "X_train_transformed = tfidf.fit_transform(X_train_new)\n",
    "X_test_transformed = tfidf.transform(X_test)\n",
    "print(X_train_transformed.shape, X_test_transformed.shape)"
   ]
  },
  {
   "cell_type": "markdown",
   "metadata": {},
   "source": [
    "### Train the model"
   ]
  },
  {
   "cell_type": "code",
   "execution_count": 26,
   "metadata": {},
   "outputs": [],
   "source": [
    "# Import Random Forest classifier\n",
    "from sklearn.ensemble import RandomForestClassifier\n",
    "model = RandomForestClassifier(n_estimators=150)"
   ]
  },
  {
   "cell_type": "code",
   "execution_count": 27,
   "metadata": {},
   "outputs": [
    {
     "name": "stdout",
     "output_type": "stream",
     "text": [
      "Wall time: 26.2 s\n"
     ]
    },
    {
     "data": {
      "text/plain": [
       "RandomForestClassifier(n_estimators=150)"
      ]
     },
     "execution_count": 27,
     "metadata": {},
     "output_type": "execute_result"
    }
   ],
   "source": [
    "# Train the classifier and time the training step\n",
    "%time model.fit(X_train_transformed, y_train_new)"
   ]
  },
  {
   "cell_type": "code",
   "execution_count": 28,
   "metadata": {},
   "outputs": [],
   "source": [
    "# Make class predictions for X_test_transformed\n",
    "y_predicted = model.predict(X_test_transformed)"
   ]
  },
  {
   "cell_type": "markdown",
   "metadata": {},
   "source": [
    "### Evaluate the model"
   ]
  },
  {
   "cell_type": "code",
   "execution_count": 29,
   "metadata": {},
   "outputs": [
    {
     "name": "stdout",
     "output_type": "stream",
     "text": [
      "Accuracy:  0.6477561388653683\n"
     ]
    }
   ],
   "source": [
    "#Print accuracy:\n",
    "print(\"Accuracy: \", accuracy_score(y_test, y_predicted))"
   ]
  },
  {
   "cell_type": "code",
   "execution_count": 30,
   "metadata": {},
   "outputs": [],
   "source": [
    "# Function to plot confusion matrix. \n",
    "# Ref: http://scikit-learn.org/stable/auto_examples/model_selection/plot_confusion_matrix.html\n",
    "import itertools\n",
    "\n",
    "def plot_confusion_matrix(cm, classes,\n",
    "                          normalize=False,\n",
    "                          title='Confusion matrix',\n",
    "                          cmap=plt.cm.Blues):\n",
    "    \"\"\"\n",
    "    This function prints and plots the confusion matrix.\n",
    "    Normalization can be applied by setting `normalize=True`.\n",
    "    \"\"\"\n",
    "    if normalize:\n",
    "        cm = cm.astype('float') / cm.sum(axis=1)[:, np.newaxis]\n",
    "\n",
    "    plt.imshow(cm, interpolation='nearest', cmap=cmap)\n",
    "    plt.title(title)\n",
    "    plt.colorbar()\n",
    "    tick_marks = np.arange(len(classes))\n",
    "    plt.xticks(tick_marks, classes, rotation=90)\n",
    "    plt.yticks(tick_marks, classes)\n",
    "\n",
    "    fmt = '.2f' if normalize else 'd'\n",
    "    thresh = cm.max() / 2.\n",
    "    for i, j in itertools.product(range(cm.shape[0]), range(cm.shape[1])):\n",
    "        plt.text(j, i, format(cm[i, j], fmt),\n",
    "                 horizontalalignment=\"center\",\n",
    "                 color=\"white\" if cm[i, j] > thresh else \"black\")\n",
    "\n",
    "    plt.tight_layout()\n",
    "    plt.ylabel('True label',fontsize=15)\n",
    "    plt.xlabel('Predicted label',fontsize=15)"
   ]
  },
  {
   "cell_type": "code",
   "execution_count": 31,
   "metadata": {},
   "outputs": [
    {
     "data": {
      "image/png": "[encoded data removed]",
      "text/plain": [
       "<Figure size 1152x864 with 2 Axes>"
      ]
     },
     "metadata": {
      "needs_background": "light"
     },
     "output_type": "display_data"
    }
   ],
   "source": [
    "# print the confusion matrix\n",
    "cnf_matrix = confusion_matrix(y_test, y_predicted)\n",
    "plt.figure(figsize=(16, 12))\n",
    "plot_confusion_matrix(cnf_matrix, classes=cuisine_list, normalize=True,\n",
    "                      title='Confusion matrix with all features - Random Forest - oversampling - unigram')"
   ]
  },
  {
   "cell_type": "markdown",
   "metadata": {},
   "source": [
    "At this point, we can notice that the classifier is doing poorly with identifying xxx, while it is doing well with xxx."
   ]
  },
  {
   "cell_type": "code",
   "execution_count": 32,
   "metadata": {},
   "outputs": [
    {
     "name": "stdout",
     "output_type": "stream",
     "text": [
      "                            precision    recall  f1-score   support\n",
      "\n",
      "                   African       0.00      0.00      0.00         7\n",
      "                  American       0.76      0.27      0.39        83\n",
      "                   British       0.57      0.90      0.70       365\n",
      "                 Caribbean       0.80      0.75      0.77        16\n",
      "                   Chinese       0.68      0.85      0.75        52\n",
      "             East European       0.67      0.12      0.21        16\n",
      "                    French       0.56      0.17      0.26       110\n",
      "                     Greek       1.00      0.09      0.17        22\n",
      "                    Indian       0.74      0.92      0.82        88\n",
      "                     Irish       0.00      0.00      0.00         5\n",
      "                   Italian       0.68      0.73      0.71       211\n",
      "                  Japanese       1.00      0.48      0.65        25\n",
      "                    Korean       1.00      0.75      0.86         4\n",
      "                   Mexican       0.76      0.67      0.71        33\n",
      "                    Nordic       1.00      0.12      0.22         8\n",
      "             North African       0.75      0.60      0.67        15\n",
      "                 Pakistani       0.00      0.00      0.00         7\n",
      "                Portuguese       0.00      0.00      0.00         3\n",
      "            South American       0.00      0.00      0.00         3\n",
      "                   Spanish       0.78      0.29      0.42        24\n",
      " Thai and South-East Asian       0.84      0.70      0.77        54\n",
      "Turkish and Middle Eastern       0.67      0.27      0.38        30\n",
      "\n",
      "                  accuracy                           0.65      1181\n",
      "                 macro avg       0.60      0.39      0.43      1181\n",
      "              weighted avg       0.66      0.65      0.61      1181\n",
      "\n"
     ]
    },
    {
     "name": "stderr",
     "output_type": "stream",
     "text": [
      "C:\\Users\\Boss\\anaconda3\\envs\\PythonAdv\\lib\\site-packages\\sklearn\\metrics\\_classification.py:1221: UndefinedMetricWarning: Precision and F-score are ill-defined and being set to 0.0 in labels with no predicted samples. Use `zero_division` parameter to control this behavior.\n",
      "  _warn_prf(average, modifier, msg_start, len(result))\n"
     ]
    }
   ],
   "source": [
    "# Calculate classification report\n",
    "from sklearn.metrics import classification_report\n",
    "\n",
    "print(classification_report(y_test, y_predicted,\n",
    "                            target_names=cuisine_list))"
   ]
  },
  {
   "cell_type": "markdown",
   "metadata": {},
   "source": [
    "So, how do we choose whats the best? If we look at overall accuracy alone, we should be choosing the very first classifier in this notebook. However, that is also doing poorly with identifying \"relevant\" articles. If we choose purely based on how good it is doing with \"relevant\" category, we should choose the second one we built. If we choose purely based on how good it is doing with \"irrelevant\" category, surely, nothing beats not building any classifier and just calling everything irrelevant! So, what to choose as the best among these depends on what we are looking for in our usecase!"
   ]
  },
  {
   "cell_type": "markdown",
   "metadata": {},
   "source": [
    "### Hyperparameter Tuning"
   ]
  },
  {
   "cell_type": "markdown",
   "metadata": {},
   "source": [
    "Use GridSearchCV to tune the model's parameters"
   ]
  },
  {
   "cell_type": "code",
   "execution_count": 33,
   "metadata": {},
   "outputs": [],
   "source": [
    "# # Create the GridSearch estimator along with a parameter object containing the values to adjust\n",
    "# from sklearn.model_selection import GridSearchCV\n",
    "# param_grid = {'kernel': [\"linear\", \"poly\", \"rbf\", \"sigmoid\"]}\n",
    "# grid = GridSearchCV(model, param_grid, verbose=3)"
   ]
  },
  {
   "cell_type": "code",
   "execution_count": 34,
   "metadata": {},
   "outputs": [],
   "source": [
    "# Train the model with GridSearch"
   ]
  },
  {
   "cell_type": "code",
   "execution_count": 35,
   "metadata": {},
   "outputs": [],
   "source": [
    "# print(grid2.best_params_)\n",
    "# print(grid2.best_score_)"
   ]
  },
  {
   "cell_type": "markdown",
   "metadata": {},
   "source": [
    "### Save the model"
   ]
  },
  {
   "cell_type": "code",
   "execution_count": 36,
   "metadata": {},
   "outputs": [],
   "source": [
    "# import joblib\n",
    "# filename = 'cuisine_classifier.sav'\n",
    "# joblib.dump(model, filename)"
   ]
  },
  {
   "cell_type": "code",
   "execution_count": null,
   "metadata": {},
   "outputs": [],
   "source": []
  }
 ],
 "metadata": {
  "kernelspec": {
   "display_name": "Python [conda env:PythonAdv] *",
   "language": "python",
   "name": "conda-env-PythonAdv-py"
  },
  "language_info": {
   "codemirror_mode": {
    "name": "ipython",
    "version": 3
   },
   "file_extension": ".py",
   "mimetype": "text/x-python",
   "name": "python",
   "nbconvert_exporter": "python",
   "pygments_lexer": "ipython3",
   "version": "3.6.12"
  }
 },
 "nbformat": 4,
 "nbformat_minor": 4
}
